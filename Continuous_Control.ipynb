{
 "cells": [
  {
   "cell_type": "markdown",
   "metadata": {},
   "source": [
    "# Continuous Control\n",
    "\n",
    "---\n",
    "\n",
    "In this notebook, you will learn how to use the Unity ML-Agents environment for the second project of the [Deep Reinforcement Learning Nanodegree](https://www.udacity.com/course/deep-reinforcement-learning-nanodegree--nd893) program.\n",
    "\n",
    "### 1. Start the Environment\n",
    "\n",
    "We begin by importing the necessary packages.  If the code cell below returns an error, please revisit the project instructions to double-check that you have installed [Unity ML-Agents](https://github.com/Unity-Technologies/ml-agents/blob/master/docs/Installation.md) and [NumPy](http://www.numpy.org/)."
   ]
  },
  {
   "cell_type": "code",
   "execution_count": 1,
   "metadata": {},
   "outputs": [],
   "source": [
    "from unityagents import UnityEnvironment\n",
    "import numpy as np\n",
    "from collections import deque\n",
    "import matplotlib.pyplot as plt\n",
    "%matplotlib inline\n",
    "import torch"
   ]
  },
  {
   "cell_type": "markdown",
   "metadata": {},
   "source": [
    "Next, we will start the environment!  **_Before running the code cell below_**, change the `file_name` parameter to match the location of the Unity environment that you downloaded.\n",
    "\n",
    "- **Mac**: `\"path/to/Reacher.app\"`\n",
    "- **Windows** (x86): `\"path/to/Reacher_Windows_x86/Reacher.exe\"`\n",
    "- **Windows** (x86_64): `\"path/to/Reacher_Windows_x86_64/Reacher.exe\"`\n",
    "- **Linux** (x86): `\"path/to/Reacher_Linux/Reacher.x86\"`\n",
    "- **Linux** (x86_64): `\"path/to/Reacher_Linux/Reacher.x86_64\"`\n",
    "- **Linux** (x86, headless): `\"path/to/Reacher_Linux_NoVis/Reacher.x86\"`\n",
    "- **Linux** (x86_64, headless): `\"path/to/Reacher_Linux_NoVis/Reacher.x86_64\"`\n",
    "\n",
    "For instance, if you are using a Mac, then you downloaded `Reacher.app`.  If this file is in the same folder as the notebook, then the line below should appear as follows:\n",
    "```\n",
    "env = UnityEnvironment(file_name=\"Reacher.app\")\n",
    "```"
   ]
  },
  {
   "cell_type": "code",
   "execution_count": 2,
   "metadata": {},
   "outputs": [
    {
     "name": "stderr",
     "output_type": "stream",
     "text": [
      "INFO:unityagents:\n",
      "'Academy' started successfully!\n",
      "Unity Academy name: Academy\n",
      "        Number of Brains: 1\n",
      "        Number of External Brains : 1\n",
      "        Lesson number : 0\n",
      "        Reset Parameters :\n",
      "\t\tgoal_speed -> 1.0\n",
      "\t\tgoal_size -> 5.0\n",
      "Unity brain name: ReacherBrain\n",
      "        Number of Visual Observations (per agent): 0\n",
      "        Vector Observation space type: continuous\n",
      "        Vector Observation space size (per agent): 33\n",
      "        Number of stacked Vector Observation: 1\n",
      "        Vector Action space type: continuous\n",
      "        Vector Action space size (per agent): 4\n",
      "        Vector Action descriptions: , , , \n"
     ]
    }
   ],
   "source": [
    "env = UnityEnvironment(file_name='./Reacher_Windows_x86_64_1_agent/Reacher.exe')"
   ]
  },
  {
   "cell_type": "markdown",
   "metadata": {},
   "source": [
    "Environments contain **_brains_** which are responsible for deciding the actions of their associated agents. Here we check for the first brain available, and set it as the default brain we will be controlling from Python."
   ]
  },
  {
   "cell_type": "code",
   "execution_count": 3,
   "metadata": {},
   "outputs": [],
   "source": [
    "# get the default brain\n",
    "brain_name = env.brain_names[0]\n",
    "brain = env.brains[brain_name]"
   ]
  },
  {
   "cell_type": "markdown",
   "metadata": {},
   "source": [
    "### 2. Examine the State and Action Spaces\n",
    "\n",
    "In this environment, a double-jointed arm can move to target locations. A reward of `+0.1` is provided for each step that the agent's hand is in the goal location. Thus, the goal of your agent is to maintain its position at the target location for as many time steps as possible.\n",
    "\n",
    "The observation space consists of `33` variables corresponding to position, rotation, velocity, and angular velocities of the arm.  Each action is a vector with four numbers, corresponding to torque applicable to two joints.  Every entry in the action vector must be a number between `-1` and `1`.\n",
    "\n",
    "Run the code cell below to print some information about the environment."
   ]
  },
  {
   "cell_type": "code",
   "execution_count": 4,
   "metadata": {},
   "outputs": [
    {
     "name": "stdout",
     "output_type": "stream",
     "text": [
      "Number of agents: 1\n",
      "Size of each action: 4\n",
      "There are 1 agents. Each observes a state with length: 33\n",
      "The state for the first agent looks like: [ 0.00000000e+00 -4.00000000e+00  0.00000000e+00  1.00000000e+00\n",
      " -0.00000000e+00 -0.00000000e+00 -4.37113883e-08  0.00000000e+00\n",
      "  0.00000000e+00  0.00000000e+00  0.00000000e+00  0.00000000e+00\n",
      "  0.00000000e+00  0.00000000e+00 -1.00000000e+01  0.00000000e+00\n",
      "  1.00000000e+00 -0.00000000e+00 -0.00000000e+00 -4.37113883e-08\n",
      "  0.00000000e+00  0.00000000e+00  0.00000000e+00  0.00000000e+00\n",
      "  0.00000000e+00  0.00000000e+00  5.75471878e+00 -1.00000000e+00\n",
      "  5.55726671e+00  0.00000000e+00  1.00000000e+00  0.00000000e+00\n",
      " -1.68164849e-01]\n"
     ]
    }
   ],
   "source": [
    "# reset the environment\n",
    "env_info = env.reset(train_mode=True)[brain_name]\n",
    "\n",
    "# number of agents\n",
    "num_agents = len(env_info.agents)\n",
    "print('Number of agents:', num_agents)\n",
    "\n",
    "# size of each action\n",
    "action_size = brain.vector_action_space_size\n",
    "print('Size of each action:', action_size)\n",
    "\n",
    "# examine the state space \n",
    "states = env_info.vector_observations\n",
    "state_size = states.shape[1]\n",
    "print('There are {} agents. Each observes a state with length: {}'.format(states.shape[0], state_size))\n",
    "print('The state for the first agent looks like:', states[0])"
   ]
  },
  {
   "cell_type": "markdown",
   "metadata": {},
   "source": [
    "### 3. Take Random Actions in the Environment\n",
    "\n",
    "In the next code cell, you will learn how to use the Python API to control the agent and receive feedback from the environment.\n",
    "\n",
    "Once this cell is executed, you will watch the agent's performance, if it selects an action at random with each time step.  A window should pop up that allows you to observe the agent, as it moves through the environment.  \n",
    "\n",
    "Of course, as part of the project, you'll have to change the code so that the agent is able to use its experience to gradually choose better actions when interacting with the environment!"
   ]
  },
  {
   "cell_type": "code",
   "execution_count": 5,
   "metadata": {},
   "outputs": [
    {
     "name": "stdout",
     "output_type": "stream",
     "text": [
      "Total score (averaged over agents) this episode: 0.0\n"
     ]
    }
   ],
   "source": [
    "env_info = env.reset(train_mode=False)[brain_name]     # reset the environment    \n",
    "states = env_info.vector_observations                  # get the current state (for each agent)\n",
    "scores = np.zeros(num_agents)                          # initialize the score (for each agent)\n",
    "i = 0\n",
    "while i<200:\n",
    "    actions = np.random.randn(num_agents, action_size) # select an action (for each agent)\n",
    "    actions = np.clip(actions, -1, 1)                  # all actions between -1 and 1\n",
    "    env_info = env.step(actions)[brain_name]           # send all actions to tne environment\n",
    "    next_states = env_info.vector_observations         # get next state (for each agent)\n",
    "    rewards = env_info.rewards                         # get reward (for each agent)\n",
    "    dones = env_info.local_done                        # see if episode finished\n",
    "    scores += env_info.rewards                         # update the score (for each agent)\n",
    "    states = next_states                               # roll over states to next time step\n",
    "    i += 1\n",
    "    if np.any(dones):                                  # exit loop if episode finished\n",
    "        break\n",
    "print('Total score (averaged over agents) this episode: {}'.format(np.mean(scores)))"
   ]
  },
  {
   "cell_type": "markdown",
   "metadata": {},
   "source": [
    "When finished, you can close the environment."
   ]
  },
  {
   "cell_type": "code",
   "execution_count": null,
   "metadata": {},
   "outputs": [],
   "source": []
  },
  {
   "cell_type": "markdown",
   "metadata": {},
   "source": [
    "### 4. Training the agent\n",
    "\n",
    "Now it's time to train the agent to solve the environment!  When training the environment, it is set to `train_mode=True`, so that the line for resetting the environment looks like the following:\n",
    "```python\n",
    "env_info = env.reset(train_mode=True)[brain_name]\n",
    "```"
   ]
  },
  {
   "cell_type": "code",
   "execution_count": 29,
   "metadata": {
    "scrolled": true
   },
   "outputs": [
    {
     "name": "stdout",
     "output_type": "stream",
     "text": [
      "Actor v2\n",
      "Actor v2\n",
      "cuda:0\n"
     ]
    }
   ],
   "source": [
    "from ddpg_agent_v2 import Agent\n",
    "import random\n",
    "\n",
    "# parameters for the agent\n",
    "f = 10\n",
    "lr = 3e-4\n",
    "lra = 1e-4\n",
    "\n",
    "agent = Agent(state_size = states.shape[1], action_size = brain.vector_action_space_size, random_seed = 2, learning_frequency = f, lr_actor = lra, lr_critic = lr, weight_decay = 0)\n",
    "\n",
    "device = torch.device(\"cuda:0\" if torch.cuda.is_available() else \"cpu\")\n",
    "print(device)"
   ]
  },
  {
   "cell_type": "code",
   "execution_count": 30,
   "metadata": {},
   "outputs": [],
   "source": [
    "def ddpg_train(max_episodes = 100, max_time_steps = 100, trial = 0, timer_widget = None):\n",
    "    scores_deque = deque(maxlen=100)\n",
    "    scores = []\n",
    "    current_episode_score = 0\n",
    "    mean_score_deque = 0\n",
    "    max_score = -np.inf\n",
    "    reset_noise_t = 10000  # reset noise every N steps\n",
    "    env_info = env.reset(train_mode=True)[brain_name]     # reset the environment    \n",
    "    states = env_info.vector_observations                 # get the current state (for each agent)\n",
    "    steps = 0\n",
    "    flag_solved = False\n",
    "    print(\"Training start\")\n",
    "    for episode in range(max_episodes):\n",
    "        score = np.zeros(num_agents) \n",
    "        agent.reset()                            # reset OU noise at the start of the episode\n",
    "        \n",
    "        if steps % 2000 == 0:                # do hard update every 2000 gradient steps\n",
    "            agent.soft_update(agent.critic_local, agent.critic_target, 1.0)\n",
    "            agent.soft_update(agent.actor_local, agent.actor_target, 1.0)\n",
    "        \n",
    "        for t in range(max_time_steps):\n",
    "            \n",
    "            if t%reset_noise_t == 0:\n",
    "                agent.reset()\n",
    "                    \n",
    "            actions = agent.act(states)                           # agent actions\n",
    "            env_info = env.step(actions)[brain_name]              # send actions to the environment\n",
    "            \n",
    "            # get environment feedback and reward\n",
    "            next_states = env_info.vector_observations         # get next state (for each agent)\n",
    "            rewards = env_info.rewards                         # get reward (for each agent)\n",
    "            rewards = [0.1 if rew > 0 else 0 for rew in rewards]\n",
    "            dones = env_info.local_done\n",
    "            \n",
    "            # store in replay buffer and learn if buffer large enough\n",
    "            agent.step(states, actions, rewards, next_states, dones)\n",
    "            \n",
    "            states = next_states\n",
    "            score += rewards\n",
    "            steps += 1\n",
    "            if np.any(dones):\n",
    "                break \n",
    "        scores_deque.append(score)\n",
    "        scores.append(score)\n",
    "\n",
    "        current_episode_score = np.mean(score)\n",
    "        mean_score_deque = np.mean(scores_deque)\n",
    "        \n",
    "        if current_episode_score > max_score:\n",
    "            max_score = current_episode_score\n",
    "        \n",
    "        # if the past 100 scores is above the 30.0 mark and this is the first time it is seen\n",
    "        if mean_score_deque > 30.0 and flag_solved == False:\n",
    "            print('Problem solved in {} episodes, average score over past 100 episodes: {:.2f}'.format(episode, mean_score_deque))\n",
    "            flag_solved = True\n",
    "\n",
    "        if episode % 25 == 0:\n",
    "            torch.save(agent.actor_local.state_dict(), 'checkpoint_actor{}.pth'.format(trial))\n",
    "            torch.save(agent.critic_local.state_dict(), 'checkpoint_critic{}.pth'.format(trial))\n",
    "            print('\\rEpisode {}\\tAverage Score: {:.2f}\\tEpisode Score: {:.2f}\\tBest Score: {:.2f}'.format(episode, mean_score_deque, current_episode_score, max_score))\n",
    "            # update progress widget bar if widget object provided\n",
    "            if timer_widget != None:\n",
    "                timer_widget.update(episode+1)\n",
    "        else:\n",
    "            print('\\rEpisode {}\\tAverage Score: {:.2f}\\tBest Score: {:.2f}'.format(episode, mean_score_deque, max_score), end=\"\")\n",
    "\n",
    "    torch.save(agent.actor_local.state_dict(), 'checkpoint_actor{}.pth'.format(trial))\n",
    "    torch.save(agent.critic_local.state_dict(), 'checkpoint_critic{}.pth'.format(trial))\n",
    "    print('\\rEpisode {}\\tAverage Score: {:.2f}\\tEpisode Score: {}\\tBest Score: {:.2f}'.format(episode, mean_score_deque, current_episode_score, max_score))\n",
    "    return scores"
   ]
  },
  {
   "cell_type": "code",
   "execution_count": 31,
   "metadata": {},
   "outputs": [
    {
     "name": "stderr",
     "output_type": "stream",
     "text": [
      "training loop:   0% |                                          | ETA:  --:--:--\r"
     ]
    },
    {
     "name": "stdout",
     "output_type": "stream",
     "text": [
      "Training start\n"
     ]
    },
    {
     "name": "stderr",
     "output_type": "stream",
     "text": [
      "training loop:   0% |                                           | ETA:  4:40:05\r"
     ]
    },
    {
     "name": "stdout",
     "output_type": "stream",
     "text": [
      "Episode 0\tAverage Score: 2.80\tEpisode Score: 2.80\tBest Score: 2.80\n",
      "Episode 23\tAverage Score: 1.10\tBest Score: 7.20"
     ]
    },
    {
     "name": "stderr",
     "output_type": "stream",
     "text": [
      "training loop:   2% |#                                          | ETA:  3:02:47\r"
     ]
    },
    {
     "name": "stdout",
     "output_type": "stream",
     "text": [
      "Episode 25\tAverage Score: 1.14\tEpisode Score: 0.00\tBest Score: 7.20\n",
      "Episode 49\tAverage Score: 1.31\tBest Score: 7.20"
     ]
    },
    {
     "name": "stderr",
     "output_type": "stream",
     "text": [
      "training loop:   5% |##                                         | ETA:  3:05:38\r"
     ]
    },
    {
     "name": "stdout",
     "output_type": "stream",
     "text": [
      "Episode 50\tAverage Score: 1.37\tEpisode Score: 4.20\tBest Score: 7.20\n",
      "Episode 73\tAverage Score: 1.96\tBest Score: 16.70"
     ]
    },
    {
     "name": "stderr",
     "output_type": "stream",
     "text": [
      "training loop:   7% |###                                        | ETA:  2:58:18\r"
     ]
    },
    {
     "name": "stdout",
     "output_type": "stream",
     "text": [
      "Episode 75\tAverage Score: 2.06\tEpisode Score: 0.00\tBest Score: 16.70\n",
      "Episode 99\tAverage Score: 2.12\tBest Score: 16.70"
     ]
    },
    {
     "name": "stderr",
     "output_type": "stream",
     "text": [
      "training loop:  10% |####                                       | ETA:  2:56:54\r"
     ]
    },
    {
     "name": "stdout",
     "output_type": "stream",
     "text": [
      "Episode 100\tAverage Score: 2.17\tEpisode Score: 7.70\tBest Score: 16.70\n",
      "Episode 123\tAverage Score: 3.08\tBest Score: 17.40"
     ]
    },
    {
     "name": "stderr",
     "output_type": "stream",
     "text": [
      "training loop:  12% |#####                                      | ETA:  2:49:39\r"
     ]
    },
    {
     "name": "stdout",
     "output_type": "stream",
     "text": [
      "Episode 125\tAverage Score: 3.22\tEpisode Score: 0.00\tBest Score: 17.40\n",
      "Episode 149\tAverage Score: 4.57\tBest Score: 33.00"
     ]
    },
    {
     "name": "stderr",
     "output_type": "stream",
     "text": [
      "training loop:  15% |######                                     | ETA:  2:44:54\r"
     ]
    },
    {
     "name": "stdout",
     "output_type": "stream",
     "text": [
      "Episode 150\tAverage Score: 4.69\tEpisode Score: 16.50\tBest Score: 33.00\n",
      "Episode 173\tAverage Score: 5.42\tBest Score: 33.00"
     ]
    },
    {
     "name": "stderr",
     "output_type": "stream",
     "text": [
      "training loop:  17% |#######                                    | ETA:  2:39:01\r"
     ]
    },
    {
     "name": "stdout",
     "output_type": "stream",
     "text": [
      "Episode 175\tAverage Score: 5.37\tEpisode Score: 0.10\tBest Score: 33.00\n",
      "Episode 199\tAverage Score: 7.52\tBest Score: 74.00"
     ]
    },
    {
     "name": "stderr",
     "output_type": "stream",
     "text": [
      "training loop:  20% |########                                   | ETA:  2:35:08\r"
     ]
    },
    {
     "name": "stdout",
     "output_type": "stream",
     "text": [
      "Episode 200\tAverage Score: 7.85\tEpisode Score: 41.00\tBest Score: 74.00\n",
      "Episode 223\tAverage Score: 10.18\tBest Score: 74.00"
     ]
    },
    {
     "name": "stderr",
     "output_type": "stream",
     "text": [
      "training loop:  22% |#########                                  | ETA:  2:29:44\r"
     ]
    },
    {
     "name": "stdout",
     "output_type": "stream",
     "text": [
      "Episode 225\tAverage Score: 10.36\tEpisode Score: 0.10\tBest Score: 74.00\n",
      "Episode 249\tAverage Score: 13.06\tBest Score: 76.50"
     ]
    },
    {
     "name": "stderr",
     "output_type": "stream",
     "text": [
      "training loop:  25% |##########                                 | ETA:  2:25:43\r"
     ]
    },
    {
     "name": "stdout",
     "output_type": "stream",
     "text": [
      "Episode 250\tAverage Score: 13.35\tEpisode Score: 45.70\tBest Score: 76.50\n",
      "Episode 273\tAverage Score: 18.35\tBest Score: 76.50"
     ]
    },
    {
     "name": "stderr",
     "output_type": "stream",
     "text": [
      "training loop:  27% |###########                                | ETA:  2:20:34\r"
     ]
    },
    {
     "name": "stdout",
     "output_type": "stream",
     "text": [
      "Episode 275\tAverage Score: 18.75\tEpisode Score: 0.00\tBest Score: 76.50\n",
      "Episode 299\tAverage Score: 22.53\tBest Score: 92.10"
     ]
    },
    {
     "name": "stderr",
     "output_type": "stream",
     "text": [
      "training loop:  30% |############                               | ETA:  2:16:31\r"
     ]
    },
    {
     "name": "stdout",
     "output_type": "stream",
     "text": [
      "Episode 300\tAverage Score: 22.94\tEpisode Score: 82.20\tBest Score: 92.10\n",
      "Episode 323\tAverage Score: 26.71\tBest Score: 97.30"
     ]
    },
    {
     "name": "stderr",
     "output_type": "stream",
     "text": [
      "training loop:  32% |##############                             | ETA:  2:11:31\r"
     ]
    },
    {
     "name": "stdout",
     "output_type": "stream",
     "text": [
      "Episode 325\tAverage Score: 26.87\tEpisode Score: 0.10\tBest Score: 97.30\n",
      "Episode 333\tAverage Score: 29.59\tBest Score: 98.60Problem solved in 334 episodes, average score over past 100 episodes: 30.05\n",
      "Episode 334\tAverage Score: 30.05\tBest Score: 98.60Problem solved in 335 episodes, average score over past 100 episodes: 30.05\n",
      "Episode 335\tAverage Score: 30.05\tBest Score: 98.60Problem solved in 336 episodes, average score over past 100 episodes: 30.45\n",
      "Episode 336\tAverage Score: 30.45\tBest Score: 98.60Problem solved in 337 episodes, average score over past 100 episodes: 30.45\n",
      "Episode 337\tAverage Score: 30.45\tBest Score: 98.60Problem solved in 338 episodes, average score over past 100 episodes: 30.45\n",
      "Episode 338\tAverage Score: 30.45\tBest Score: 98.60Problem solved in 339 episodes, average score over past 100 episodes: 30.45\n",
      "Episode 339\tAverage Score: 30.45\tBest Score: 98.60Problem solved in 340 episodes, average score over past 100 episodes: 30.26\n",
      "Episode 340\tAverage Score: 30.26\tBest Score: 98.60Problem solved in 341 episodes, average score over past 100 episodes: 30.26\n",
      "Episode 341\tAverage Score: 30.26\tBest Score: 98.60Problem solved in 342 episodes, average score over past 100 episodes: 30.79\n",
      "Episode 342\tAverage Score: 30.79\tBest Score: 98.60Problem solved in 343 episodes, average score over past 100 episodes: 30.79\n",
      "Episode 343\tAverage Score: 30.79\tBest Score: 98.60Problem solved in 344 episodes, average score over past 100 episodes: 31.21\n",
      "Episode 344\tAverage Score: 31.21\tBest Score: 98.60Problem solved in 345 episodes, average score over past 100 episodes: 31.21\n",
      "Episode 345\tAverage Score: 31.21\tBest Score: 98.60Problem solved in 346 episodes, average score over past 100 episodes: 31.64\n",
      "Episode 346\tAverage Score: 31.64\tBest Score: 98.60Problem solved in 347 episodes, average score over past 100 episodes: 31.64\n",
      "Episode 347\tAverage Score: 31.64\tBest Score: 98.60Problem solved in 348 episodes, average score over past 100 episodes: 31.36\n",
      "Episode 348\tAverage Score: 31.36\tBest Score: 98.60Problem solved in 349 episodes, average score over past 100 episodes: 31.36\n",
      "Episode 349\tAverage Score: 31.36\tBest Score: 98.60"
     ]
    },
    {
     "name": "stderr",
     "output_type": "stream",
     "text": [
      "training loop:  35% |###############                            | ETA:  2:07:23\r"
     ]
    },
    {
     "name": "stdout",
     "output_type": "stream",
     "text": [
      "Problem solved in 350 episodes, average score over past 100 episodes: 31.72\n",
      "Episode 350\tAverage Score: 31.72\tEpisode Score: 81.50\tBest Score: 98.60\n",
      "Problem solved in 351 episodes, average score over past 100 episodes: 31.72\n",
      "Episode 351\tAverage Score: 31.72\tBest Score: 98.60Problem solved in 352 episodes, average score over past 100 episodes: 32.10\n",
      "Episode 352\tAverage Score: 32.10\tBest Score: 98.60Problem solved in 353 episodes, average score over past 100 episodes: 32.10\n",
      "Episode 353\tAverage Score: 32.10\tBest Score: 98.60Problem solved in 354 episodes, average score over past 100 episodes: 31.69\n",
      "Episode 354\tAverage Score: 31.69\tBest Score: 98.60Problem solved in 355 episodes, average score over past 100 episodes: 31.69\n",
      "Episode 355\tAverage Score: 31.69\tBest Score: 98.60Problem solved in 356 episodes, average score over past 100 episodes: 31.97\n",
      "Episode 356\tAverage Score: 31.97\tBest Score: 98.60Problem solved in 357 episodes, average score over past 100 episodes: 31.97\n",
      "Episode 357\tAverage Score: 31.97\tBest Score: 98.60Problem solved in 358 episodes, average score over past 100 episodes: 31.70\n",
      "Episode 358\tAverage Score: 31.70\tBest Score: 98.60Problem solved in 359 episodes, average score over past 100 episodes: 31.70\n",
      "Episode 359\tAverage Score: 31.70\tBest Score: 98.60Problem solved in 360 episodes, average score over past 100 episodes: 31.79\n",
      "Episode 360\tAverage Score: 31.79\tBest Score: 98.60Problem solved in 361 episodes, average score over past 100 episodes: 31.79\n",
      "Episode 361\tAverage Score: 31.79\tBest Score: 98.60Problem solved in 362 episodes, average score over past 100 episodes: 31.77\n",
      "Episode 362\tAverage Score: 31.77\tBest Score: 98.60Problem solved in 363 episodes, average score over past 100 episodes: 31.77\n",
      "Episode 363\tAverage Score: 31.77\tBest Score: 98.60Problem solved in 364 episodes, average score over past 100 episodes: 32.03\n",
      "Episode 364\tAverage Score: 32.03\tBest Score: 98.60Problem solved in 365 episodes, average score over past 100 episodes: 32.03\n",
      "Episode 365\tAverage Score: 32.03\tBest Score: 98.60Problem solved in 366 episodes, average score over past 100 episodes: 32.16\n",
      "Episode 366\tAverage Score: 32.16\tBest Score: 98.60Problem solved in 367 episodes, average score over past 100 episodes: 32.16\n",
      "Episode 367\tAverage Score: 32.16\tBest Score: 98.60Problem solved in 368 episodes, average score over past 100 episodes: 31.87\n",
      "Episode 368\tAverage Score: 31.87\tBest Score: 98.60Problem solved in 369 episodes, average score over past 100 episodes: 31.87\n",
      "Episode 369\tAverage Score: 31.87\tBest Score: 98.60Problem solved in 370 episodes, average score over past 100 episodes: 31.47\n",
      "Episode 370\tAverage Score: 31.47\tBest Score: 98.60Problem solved in 371 episodes, average score over past 100 episodes: 31.47\n",
      "Episode 371\tAverage Score: 31.47\tBest Score: 98.60Problem solved in 372 episodes, average score over past 100 episodes: 31.57\n",
      "Episode 372\tAverage Score: 31.57\tBest Score: 98.60Problem solved in 373 episodes, average score over past 100 episodes: 31.57\n",
      "Episode 373\tAverage Score: 31.57\tBest Score: 98.60"
     ]
    },
    {
     "name": "stderr",
     "output_type": "stream",
     "text": [
      "training loop:  37% |################                           | ETA:  2:02:28\r"
     ]
    },
    {
     "name": "stdout",
     "output_type": "stream",
     "text": [
      "Problem solved in 374 episodes, average score over past 100 episodes: 31.54\n",
      "Episode 374\tAverage Score: 31.54\tBest Score: 98.60Problem solved in 375 episodes, average score over past 100 episodes: 31.54\n",
      "Episode 375\tAverage Score: 31.54\tEpisode Score: 0.10\tBest Score: 98.60\n",
      "Problem solved in 376 episodes, average score over past 100 episodes: 31.54\n",
      "Episode 376\tAverage Score: 31.54\tBest Score: 98.60Problem solved in 377 episodes, average score over past 100 episodes: 31.54\n",
      "Episode 377\tAverage Score: 31.54\tBest Score: 98.60Problem solved in 378 episodes, average score over past 100 episodes: 32.24\n",
      "Episode 378\tAverage Score: 32.24\tBest Score: 98.60Problem solved in 379 episodes, average score over past 100 episodes: 32.24\n",
      "Episode 379\tAverage Score: 32.24\tBest Score: 98.60Problem solved in 380 episodes, average score over past 100 episodes: 32.61\n",
      "Episode 380\tAverage Score: 32.61\tBest Score: 98.60Problem solved in 381 episodes, average score over past 100 episodes: 32.61\n",
      "Episode 381\tAverage Score: 32.61\tBest Score: 98.60Problem solved in 382 episodes, average score over past 100 episodes: 32.62\n",
      "Episode 382\tAverage Score: 32.62\tBest Score: 98.60Problem solved in 383 episodes, average score over past 100 episodes: 32.62\n",
      "Episode 383\tAverage Score: 32.62\tBest Score: 98.60Problem solved in 384 episodes, average score over past 100 episodes: 33.13\n",
      "Episode 384\tAverage Score: 33.13\tBest Score: 98.60Problem solved in 385 episodes, average score over past 100 episodes: 33.13\n",
      "Episode 385\tAverage Score: 33.13\tBest Score: 98.60Problem solved in 386 episodes, average score over past 100 episodes: 33.65\n",
      "Episode 386\tAverage Score: 33.65\tBest Score: 98.60Problem solved in 387 episodes, average score over past 100 episodes: 33.66\n",
      "Episode 387\tAverage Score: 33.66\tBest Score: 98.60Problem solved in 388 episodes, average score over past 100 episodes: 33.75\n",
      "Episode 388\tAverage Score: 33.75\tBest Score: 98.60Problem solved in 389 episodes, average score over past 100 episodes: 33.75\n",
      "Episode 389\tAverage Score: 33.75\tBest Score: 98.60Problem solved in 390 episodes, average score over past 100 episodes: 33.07\n",
      "Episode 390\tAverage Score: 33.07\tBest Score: 98.60Problem solved in 391 episodes, average score over past 100 episodes: 33.07\n",
      "Episode 391\tAverage Score: 33.07\tBest Score: 98.60Problem solved in 392 episodes, average score over past 100 episodes: 33.51\n",
      "Episode 392\tAverage Score: 33.51\tBest Score: 98.60Problem solved in 393 episodes, average score over past 100 episodes: 33.51\n",
      "Episode 393\tAverage Score: 33.51\tBest Score: 98.60Problem solved in 394 episodes, average score over past 100 episodes: 33.39\n",
      "Episode 394\tAverage Score: 33.39\tBest Score: 98.60Problem solved in 395 episodes, average score over past 100 episodes: 33.39\n",
      "Episode 395\tAverage Score: 33.39\tBest Score: 98.60Problem solved in 396 episodes, average score over past 100 episodes: 33.47\n",
      "Episode 396\tAverage Score: 33.47\tBest Score: 98.60Problem solved in 397 episodes, average score over past 100 episodes: 33.47\n",
      "Episode 397\tAverage Score: 33.47\tBest Score: 98.60Problem solved in 398 episodes, average score over past 100 episodes: 33.73\n",
      "Episode 398\tAverage Score: 33.73\tBest Score: 98.60Problem solved in 399 episodes, average score over past 100 episodes: 33.73\n",
      "Episode 399\tAverage Score: 33.73\tBest Score: 98.60"
     ]
    },
    {
     "name": "stderr",
     "output_type": "stream",
     "text": [
      "training loop:  40% |#################                          | ETA:  1:58:17\r"
     ]
    },
    {
     "name": "stdout",
     "output_type": "stream",
     "text": [
      "Problem solved in 400 episodes, average score over past 100 episodes: 33.43\n",
      "Episode 400\tAverage Score: 33.43\tEpisode Score: 51.70\tBest Score: 98.60\n",
      "Problem solved in 401 episodes, average score over past 100 episodes: 33.43\n",
      "Episode 401\tAverage Score: 33.43\tBest Score: 98.60Problem solved in 402 episodes, average score over past 100 episodes: 34.04\n",
      "Episode 402\tAverage Score: 34.04\tBest Score: 98.60Problem solved in 403 episodes, average score over past 100 episodes: 34.04\n",
      "Episode 403\tAverage Score: 34.04\tBest Score: 98.60Problem solved in 404 episodes, average score over past 100 episodes: 34.50\n",
      "Episode 404\tAverage Score: 34.50\tBest Score: 98.60Problem solved in 405 episodes, average score over past 100 episodes: 34.50\n",
      "Episode 405\tAverage Score: 34.50\tBest Score: 98.60Problem solved in 406 episodes, average score over past 100 episodes: 34.11\n",
      "Episode 406\tAverage Score: 34.11\tBest Score: 98.60Problem solved in 407 episodes, average score over past 100 episodes: 34.11\n",
      "Episode 407\tAverage Score: 34.11\tBest Score: 98.60Problem solved in 408 episodes, average score over past 100 episodes: 34.81\n",
      "Episode 408\tAverage Score: 34.81\tBest Score: 98.60Problem solved in 409 episodes, average score over past 100 episodes: 34.81\n",
      "Episode 409\tAverage Score: 34.81\tBest Score: 98.60Problem solved in 410 episodes, average score over past 100 episodes: 34.76\n",
      "Episode 410\tAverage Score: 34.76\tBest Score: 98.60Problem solved in 411 episodes, average score over past 100 episodes: 34.76\n",
      "Episode 411\tAverage Score: 34.76\tBest Score: 98.60Problem solved in 412 episodes, average score over past 100 episodes: 34.65\n",
      "Episode 412\tAverage Score: 34.65\tBest Score: 98.60Problem solved in 413 episodes, average score over past 100 episodes: 34.65\n",
      "Episode 413\tAverage Score: 34.65\tBest Score: 98.60Problem solved in 414 episodes, average score over past 100 episodes: 35.06\n",
      "Episode 414\tAverage Score: 35.06\tBest Score: 98.60Problem solved in 415 episodes, average score over past 100 episodes: 35.07\n",
      "Episode 415\tAverage Score: 35.07\tBest Score: 98.60Problem solved in 416 episodes, average score over past 100 episodes: 34.84\n",
      "Episode 416\tAverage Score: 34.84\tBest Score: 98.60Problem solved in 417 episodes, average score over past 100 episodes: 34.84\n",
      "Episode 417\tAverage Score: 34.84\tBest Score: 98.60Problem solved in 418 episodes, average score over past 100 episodes: 34.37\n",
      "Episode 418\tAverage Score: 34.37\tBest Score: 98.60Problem solved in 419 episodes, average score over past 100 episodes: 34.37\n",
      "Episode 419\tAverage Score: 34.37\tBest Score: 98.60Problem solved in 420 episodes, average score over past 100 episodes: 34.34\n",
      "Episode 420\tAverage Score: 34.34\tBest Score: 98.60Problem solved in 421 episodes, average score over past 100 episodes: 34.34\n",
      "Episode 421\tAverage Score: 34.34\tBest Score: 98.60Problem solved in 422 episodes, average score over past 100 episodes: 34.26\n",
      "Episode 422\tAverage Score: 34.26\tBest Score: 98.60Problem solved in 423 episodes, average score over past 100 episodes: 34.26\n",
      "Episode 423\tAverage Score: 34.26\tBest Score: 98.60"
     ]
    },
    {
     "name": "stderr",
     "output_type": "stream",
     "text": [
      "training loop:  42% |##################                         | ETA:  1:53:28\r"
     ]
    },
    {
     "name": "stdout",
     "output_type": "stream",
     "text": [
      "Problem solved in 424 episodes, average score over past 100 episodes: 34.72\n",
      "Episode 424\tAverage Score: 34.72\tBest Score: 98.60Problem solved in 425 episodes, average score over past 100 episodes: 34.72\n",
      "Episode 425\tAverage Score: 34.72\tEpisode Score: 0.10\tBest Score: 98.60\n",
      "Problem solved in 426 episodes, average score over past 100 episodes: 34.69\n",
      "Episode 426\tAverage Score: 34.69\tBest Score: 98.60Problem solved in 427 episodes, average score over past 100 episodes: 34.69\n",
      "Episode 427\tAverage Score: 34.69\tBest Score: 98.60Problem solved in 428 episodes, average score over past 100 episodes: 34.69\n",
      "Episode 428\tAverage Score: 34.69\tBest Score: 98.60Problem solved in 429 episodes, average score over past 100 episodes: 34.69\n",
      "Episode 429\tAverage Score: 34.69\tBest Score: 98.60Problem solved in 430 episodes, average score over past 100 episodes: 34.13\n",
      "Episode 430\tAverage Score: 34.13\tBest Score: 98.60Problem solved in 431 episodes, average score over past 100 episodes: 34.13\n",
      "Episode 431\tAverage Score: 34.13\tBest Score: 98.60Problem solved in 432 episodes, average score over past 100 episodes: 34.02\n",
      "Episode 432\tAverage Score: 34.02\tBest Score: 98.60Problem solved in 433 episodes, average score over past 100 episodes: 34.02\n",
      "Episode 433\tAverage Score: 34.02\tBest Score: 98.60Problem solved in 434 episodes, average score over past 100 episodes: 34.17\n",
      "Episode 434\tAverage Score: 34.17\tBest Score: 98.60Problem solved in 435 episodes, average score over past 100 episodes: 34.17\n",
      "Episode 435\tAverage Score: 34.17\tBest Score: 98.60Problem solved in 436 episodes, average score over past 100 episodes: 34.17\n",
      "Episode 436\tAverage Score: 34.17\tBest Score: 98.60Problem solved in 437 episodes, average score over past 100 episodes: 34.17\n",
      "Episode 437\tAverage Score: 34.17\tBest Score: 98.60Problem solved in 438 episodes, average score over past 100 episodes: 34.52\n",
      "Episode 438\tAverage Score: 34.52\tBest Score: 98.60Problem solved in 439 episodes, average score over past 100 episodes: 34.52\n",
      "Episode 439\tAverage Score: 34.52\tBest Score: 98.60Problem solved in 440 episodes, average score over past 100 episodes: 35.12\n",
      "Episode 440\tAverage Score: 35.12\tBest Score: 98.60Problem solved in 441 episodes, average score over past 100 episodes: 35.12\n",
      "Episode 441\tAverage Score: 35.12\tBest Score: 98.60Problem solved in 442 episodes, average score over past 100 episodes: 35.41\n",
      "Episode 442\tAverage Score: 35.41\tBest Score: 98.60Problem solved in 443 episodes, average score over past 100 episodes: 35.41\n",
      "Episode 443\tAverage Score: 35.41\tBest Score: 98.60Problem solved in 444 episodes, average score over past 100 episodes: 35.48\n",
      "Episode 444\tAverage Score: 35.48\tBest Score: 98.60Problem solved in 445 episodes, average score over past 100 episodes: 35.48\n",
      "Episode 445\tAverage Score: 35.48\tBest Score: 98.60Problem solved in 446 episodes, average score over past 100 episodes: 35.44\n",
      "Episode 446\tAverage Score: 35.44\tBest Score: 98.60Problem solved in 447 episodes, average score over past 100 episodes: 35.44\n",
      "Episode 447\tAverage Score: 35.44\tBest Score: 98.60Problem solved in 448 episodes, average score over past 100 episodes: 35.61\n",
      "Episode 448\tAverage Score: 35.61\tBest Score: 98.60Problem solved in 449 episodes, average score over past 100 episodes: 35.61\n",
      "Episode 449\tAverage Score: 35.61\tBest Score: 98.60"
     ]
    },
    {
     "name": "stderr",
     "output_type": "stream",
     "text": [
      "training loop:  45% |###################                        | ETA:  1:49:11\r"
     ]
    },
    {
     "name": "stdout",
     "output_type": "stream",
     "text": [
      "Problem solved in 450 episodes, average score over past 100 episodes: 35.68\n",
      "Episode 450\tAverage Score: 35.68\tEpisode Score: 88.50\tBest Score: 98.60\n",
      "Problem solved in 451 episodes, average score over past 100 episodes: 35.68\n",
      "Episode 451\tAverage Score: 35.68\tBest Score: 98.60Problem solved in 452 episodes, average score over past 100 episodes: 35.67\n",
      "Episode 452\tAverage Score: 35.67\tBest Score: 98.60Problem solved in 453 episodes, average score over past 100 episodes: 35.67\n",
      "Episode 453\tAverage Score: 35.67\tBest Score: 98.60Problem solved in 454 episodes, average score over past 100 episodes: 36.44\n",
      "Episode 454\tAverage Score: 36.44\tBest Score: 98.90Problem solved in 455 episodes, average score over past 100 episodes: 36.44\n",
      "Episode 455\tAverage Score: 36.44\tBest Score: 98.90Problem solved in 456 episodes, average score over past 100 episodes: 36.51\n",
      "Episode 456\tAverage Score: 36.51\tBest Score: 98.90Problem solved in 457 episodes, average score over past 100 episodes: 36.51\n",
      "Episode 457\tAverage Score: 36.51\tBest Score: 98.90Problem solved in 458 episodes, average score over past 100 episodes: 37.13\n",
      "Episode 458\tAverage Score: 37.13\tBest Score: 98.90Problem solved in 459 episodes, average score over past 100 episodes: 37.13\n",
      "Episode 459\tAverage Score: 37.13\tBest Score: 98.90Problem solved in 460 episodes, average score over past 100 episodes: 37.56\n",
      "Episode 460\tAverage Score: 37.56\tBest Score: 98.90Problem solved in 461 episodes, average score over past 100 episodes: 37.56\n",
      "Episode 461\tAverage Score: 37.56\tBest Score: 98.90Problem solved in 462 episodes, average score over past 100 episodes: 38.02\n",
      "Episode 462\tAverage Score: 38.02\tBest Score: 98.90Problem solved in 463 episodes, average score over past 100 episodes: 38.02\n",
      "Episode 463\tAverage Score: 38.02\tBest Score: 98.90Problem solved in 464 episodes, average score over past 100 episodes: 37.93\n",
      "Episode 464\tAverage Score: 37.93\tBest Score: 98.90Problem solved in 465 episodes, average score over past 100 episodes: 37.93\n",
      "Episode 465\tAverage Score: 37.93\tBest Score: 98.90Problem solved in 466 episodes, average score over past 100 episodes: 38.06\n",
      "Episode 466\tAverage Score: 38.06\tBest Score: 98.90Problem solved in 467 episodes, average score over past 100 episodes: 38.06\n",
      "Episode 467\tAverage Score: 38.06\tBest Score: 98.90Problem solved in 468 episodes, average score over past 100 episodes: 38.39\n",
      "Episode 468\tAverage Score: 38.39\tBest Score: 98.90Problem solved in 469 episodes, average score over past 100 episodes: 38.39\n",
      "Episode 469\tAverage Score: 38.39\tBest Score: 98.90Problem solved in 470 episodes, average score over past 100 episodes: 39.00\n",
      "Episode 470\tAverage Score: 39.00\tBest Score: 98.90Problem solved in 471 episodes, average score over past 100 episodes: 39.00\n",
      "Episode 471\tAverage Score: 39.00\tBest Score: 98.90Problem solved in 472 episodes, average score over past 100 episodes: 39.24\n",
      "Episode 472\tAverage Score: 39.24\tBest Score: 98.90Problem solved in 473 episodes, average score over past 100 episodes: 39.24\n",
      "Episode 473\tAverage Score: 39.24\tBest Score: 98.90"
     ]
    },
    {
     "name": "stderr",
     "output_type": "stream",
     "text": [
      "training loop:  47% |####################                       | ETA:  1:44:21\r"
     ]
    },
    {
     "name": "stdout",
     "output_type": "stream",
     "text": [
      "Problem solved in 474 episodes, average score over past 100 episodes: 39.79\n",
      "Episode 474\tAverage Score: 39.79\tBest Score: 98.90Problem solved in 475 episodes, average score over past 100 episodes: 39.79\n",
      "Episode 475\tAverage Score: 39.79\tEpisode Score: 0.10\tBest Score: 98.90\n",
      "Problem solved in 476 episodes, average score over past 100 episodes: 40.16\n",
      "Episode 476\tAverage Score: 40.16\tBest Score: 98.90Problem solved in 477 episodes, average score over past 100 episodes: 40.16\n",
      "Episode 477\tAverage Score: 40.16\tBest Score: 98.90Problem solved in 478 episodes, average score over past 100 episodes: 39.91\n",
      "Episode 478\tAverage Score: 39.91\tBest Score: 98.90Problem solved in 479 episodes, average score over past 100 episodes: 39.91\n",
      "Episode 479\tAverage Score: 39.91\tBest Score: 98.90Problem solved in 480 episodes, average score over past 100 episodes: 39.91\n",
      "Episode 480\tAverage Score: 39.91\tBest Score: 98.90Problem solved in 481 episodes, average score over past 100 episodes: 39.91\n",
      "Episode 481\tAverage Score: 39.91\tBest Score: 98.90Problem solved in 482 episodes, average score over past 100 episodes: 40.10\n",
      "Episode 482\tAverage Score: 40.10\tBest Score: 98.90Problem solved in 483 episodes, average score over past 100 episodes: 40.10\n",
      "Episode 483\tAverage Score: 40.10\tBest Score: 98.90Problem solved in 484 episodes, average score over past 100 episodes: 40.35\n",
      "Episode 484\tAverage Score: 40.35\tBest Score: 98.90Problem solved in 485 episodes, average score over past 100 episodes: 40.35\n",
      "Episode 485\tAverage Score: 40.35\tBest Score: 98.90Problem solved in 486 episodes, average score over past 100 episodes: 40.38\n",
      "Episode 486\tAverage Score: 40.38\tBest Score: 98.90Problem solved in 487 episodes, average score over past 100 episodes: 40.38\n",
      "Episode 487\tAverage Score: 40.38\tBest Score: 98.90Problem solved in 488 episodes, average score over past 100 episodes: 40.59\n",
      "Episode 488\tAverage Score: 40.59\tBest Score: 98.90Problem solved in 489 episodes, average score over past 100 episodes: 40.59\n",
      "Episode 489\tAverage Score: 40.59\tBest Score: 98.90Problem solved in 490 episodes, average score over past 100 episodes: 41.33\n",
      "Episode 490\tAverage Score: 41.33\tBest Score: 98.90Problem solved in 491 episodes, average score over past 100 episodes: 41.33\n",
      "Episode 491\tAverage Score: 41.33\tBest Score: 98.90Problem solved in 492 episodes, average score over past 100 episodes: 41.31\n",
      "Episode 492\tAverage Score: 41.31\tBest Score: 98.90Problem solved in 493 episodes, average score over past 100 episodes: 41.31\n",
      "Episode 493\tAverage Score: 41.31\tBest Score: 98.90Problem solved in 494 episodes, average score over past 100 episodes: 41.91\n",
      "Episode 494\tAverage Score: 41.91\tBest Score: 99.10Problem solved in 495 episodes, average score over past 100 episodes: 41.91\n",
      "Episode 495\tAverage Score: 41.91\tBest Score: 99.10Problem solved in 496 episodes, average score over past 100 episodes: 42.07\n",
      "Episode 496\tAverage Score: 42.07\tBest Score: 99.10Problem solved in 497 episodes, average score over past 100 episodes: 42.07\n",
      "Episode 497\tAverage Score: 42.07\tBest Score: 99.10Problem solved in 498 episodes, average score over past 100 episodes: 42.41\n",
      "Episode 498\tAverage Score: 42.41\tBest Score: 99.10Problem solved in 499 episodes, average score over past 100 episodes: 42.41\n",
      "Episode 499\tAverage Score: 42.41\tBest Score: 99.10"
     ]
    },
    {
     "name": "stderr",
     "output_type": "stream",
     "text": [
      "training loop:  50% |#####################                      | ETA:  1:39:59\r"
     ]
    },
    {
     "name": "stdout",
     "output_type": "stream",
     "text": [
      "Problem solved in 500 episodes, average score over past 100 episodes: 42.84\n",
      "Episode 500\tAverage Score: 42.84\tEpisode Score: 95.00\tBest Score: 99.10\n",
      "Problem solved in 501 episodes, average score over past 100 episodes: 42.84\n",
      "Episode 501\tAverage Score: 42.84\tBest Score: 99.10Problem solved in 502 episodes, average score over past 100 episodes: 42.86\n",
      "Episode 502\tAverage Score: 42.86\tBest Score: 99.10Problem solved in 503 episodes, average score over past 100 episodes: 42.86\n",
      "Episode 503\tAverage Score: 42.86\tBest Score: 99.10Problem solved in 504 episodes, average score over past 100 episodes: 43.34\n",
      "Episode 504\tAverage Score: 43.34\tBest Score: 99.10Problem solved in 505 episodes, average score over past 100 episodes: 43.34\n",
      "Episode 505\tAverage Score: 43.34\tBest Score: 99.10Problem solved in 506 episodes, average score over past 100 episodes: 43.76\n",
      "Episode 506\tAverage Score: 43.76\tBest Score: 99.10Problem solved in 507 episodes, average score over past 100 episodes: 43.76\n",
      "Episode 507\tAverage Score: 43.76\tBest Score: 99.10Problem solved in 508 episodes, average score over past 100 episodes: 43.76\n",
      "Episode 508\tAverage Score: 43.76\tBest Score: 99.10Problem solved in 509 episodes, average score over past 100 episodes: 43.76\n",
      "Episode 509\tAverage Score: 43.76\tBest Score: 99.10Problem solved in 510 episodes, average score over past 100 episodes: 43.86\n",
      "Episode 510\tAverage Score: 43.86\tBest Score: 99.10Problem solved in 511 episodes, average score over past 100 episodes: 43.86\n",
      "Episode 511\tAverage Score: 43.86\tBest Score: 99.10Problem solved in 512 episodes, average score over past 100 episodes: 44.09\n",
      "Episode 512\tAverage Score: 44.09\tBest Score: 99.10Problem solved in 513 episodes, average score over past 100 episodes: 44.09\n",
      "Episode 513\tAverage Score: 44.09\tBest Score: 99.10Problem solved in 514 episodes, average score over past 100 episodes: 44.07\n",
      "Episode 514\tAverage Score: 44.07\tBest Score: 99.10Problem solved in 515 episodes, average score over past 100 episodes: 44.07\n",
      "Episode 515\tAverage Score: 44.07\tBest Score: 99.10Problem solved in 516 episodes, average score over past 100 episodes: 44.35\n",
      "Episode 516\tAverage Score: 44.35\tBest Score: 99.10Problem solved in 517 episodes, average score over past 100 episodes: 44.35\n",
      "Episode 517\tAverage Score: 44.35\tBest Score: 99.10Problem solved in 518 episodes, average score over past 100 episodes: 45.08\n",
      "Episode 518\tAverage Score: 45.08\tBest Score: 99.10Problem solved in 519 episodes, average score over past 100 episodes: 45.08\n",
      "Episode 519\tAverage Score: 45.08\tBest Score: 99.10Problem solved in 520 episodes, average score over past 100 episodes: 45.08\n",
      "Episode 520\tAverage Score: 45.08\tBest Score: 99.10Problem solved in 521 episodes, average score over past 100 episodes: 45.08\n",
      "Episode 521\tAverage Score: 45.08\tBest Score: 99.10Problem solved in 522 episodes, average score over past 100 episodes: 45.20\n",
      "Episode 522\tAverage Score: 45.20\tBest Score: 99.10Problem solved in 523 episodes, average score over past 100 episodes: 45.20\n",
      "Episode 523\tAverage Score: 45.20\tBest Score: 99.10"
     ]
    },
    {
     "name": "stderr",
     "output_type": "stream",
     "text": [
      "training loop:  52% |######################                     | ETA:  1:35:10\r"
     ]
    },
    {
     "name": "stdout",
     "output_type": "stream",
     "text": [
      "Problem solved in 524 episodes, average score over past 100 episodes: 45.18\n",
      "Episode 524\tAverage Score: 45.18\tBest Score: 99.10Problem solved in 525 episodes, average score over past 100 episodes: 45.18\n",
      "Episode 525\tAverage Score: 45.18\tEpisode Score: 0.10\tBest Score: 99.10\n",
      "Problem solved in 526 episodes, average score over past 100 episodes: 45.24\n",
      "Episode 526\tAverage Score: 45.24\tBest Score: 99.10Problem solved in 527 episodes, average score over past 100 episodes: 45.24\n",
      "Episode 527\tAverage Score: 45.24\tBest Score: 99.10Problem solved in 528 episodes, average score over past 100 episodes: 45.09\n",
      "Episode 528\tAverage Score: 45.09\tBest Score: 99.10Problem solved in 529 episodes, average score over past 100 episodes: 45.09\n",
      "Episode 529\tAverage Score: 45.09\tBest Score: 99.10Problem solved in 530 episodes, average score over past 100 episodes: 45.63\n",
      "Episode 530\tAverage Score: 45.63\tBest Score: 99.10Problem solved in 531 episodes, average score over past 100 episodes: 45.64\n",
      "Episode 531\tAverage Score: 45.64\tBest Score: 99.10Problem solved in 532 episodes, average score over past 100 episodes: 45.53\n",
      "Episode 532\tAverage Score: 45.53\tBest Score: 99.10Problem solved in 533 episodes, average score over past 100 episodes: 45.53\n",
      "Episode 533\tAverage Score: 45.53\tBest Score: 99.10Problem solved in 534 episodes, average score over past 100 episodes: 45.19\n",
      "Episode 534\tAverage Score: 45.19\tBest Score: 99.10Problem solved in 535 episodes, average score over past 100 episodes: 45.19\n",
      "Episode 535\tAverage Score: 45.19\tBest Score: 99.10Problem solved in 536 episodes, average score over past 100 episodes: 45.22\n",
      "Episode 536\tAverage Score: 45.22\tBest Score: 99.10Problem solved in 537 episodes, average score over past 100 episodes: 45.22\n",
      "Episode 537\tAverage Score: 45.22\tBest Score: 99.10Problem solved in 538 episodes, average score over past 100 episodes: 45.38\n",
      "Episode 538\tAverage Score: 45.38\tBest Score: 99.10Problem solved in 539 episodes, average score over past 100 episodes: 45.38\n",
      "Episode 539\tAverage Score: 45.38\tBest Score: 99.10Problem solved in 540 episodes, average score over past 100 episodes: 45.40\n",
      "Episode 540\tAverage Score: 45.40\tBest Score: 99.10Problem solved in 541 episodes, average score over past 100 episodes: 45.40\n",
      "Episode 541\tAverage Score: 45.40\tBest Score: 99.10Problem solved in 542 episodes, average score over past 100 episodes: 45.45\n",
      "Episode 542\tAverage Score: 45.45\tBest Score: 99.10Problem solved in 543 episodes, average score over past 100 episodes: 45.45\n",
      "Episode 543\tAverage Score: 45.45\tBest Score: 99.10Problem solved in 544 episodes, average score over past 100 episodes: 45.50\n",
      "Episode 544\tAverage Score: 45.50\tBest Score: 99.10Problem solved in 545 episodes, average score over past 100 episodes: 45.50\n",
      "Episode 545\tAverage Score: 45.50\tBest Score: 99.10Problem solved in 546 episodes, average score over past 100 episodes: 45.97\n",
      "Episode 546\tAverage Score: 45.97\tBest Score: 99.10Problem solved in 547 episodes, average score over past 100 episodes: 45.97\n",
      "Episode 547\tAverage Score: 45.97\tBest Score: 99.10Problem solved in 548 episodes, average score over past 100 episodes: 46.29\n",
      "Episode 548\tAverage Score: 46.29\tBest Score: 99.10Problem solved in 549 episodes, average score over past 100 episodes: 46.29\n",
      "Episode 549\tAverage Score: 46.29\tBest Score: 99.10"
     ]
    },
    {
     "name": "stderr",
     "output_type": "stream",
     "text": [
      "training loop:  55% |#######################                    | ETA:  1:30:43\r"
     ]
    },
    {
     "name": "stdout",
     "output_type": "stream",
     "text": [
      "Problem solved in 550 episodes, average score over past 100 episodes: 46.39\n",
      "Episode 550\tAverage Score: 46.39\tEpisode Score: 98.90\tBest Score: 99.10\n",
      "Problem solved in 551 episodes, average score over past 100 episodes: 46.39\n",
      "Episode 551\tAverage Score: 46.39\tBest Score: 99.10Problem solved in 552 episodes, average score over past 100 episodes: 46.45\n",
      "Episode 552\tAverage Score: 46.45\tBest Score: 99.10Problem solved in 553 episodes, average score over past 100 episodes: 46.45\n",
      "Episode 553\tAverage Score: 46.45\tBest Score: 99.10Problem solved in 554 episodes, average score over past 100 episodes: 46.38\n",
      "Episode 554\tAverage Score: 46.38\tBest Score: 99.10Problem solved in 555 episodes, average score over past 100 episodes: 46.38\n",
      "Episode 555\tAverage Score: 46.38\tBest Score: 99.10Problem solved in 556 episodes, average score over past 100 episodes: 46.40\n",
      "Episode 556\tAverage Score: 46.40\tBest Score: 99.10Problem solved in 557 episodes, average score over past 100 episodes: 46.40\n",
      "Episode 557\tAverage Score: 46.40\tBest Score: 99.10Problem solved in 558 episodes, average score over past 100 episodes: 46.42\n",
      "Episode 558\tAverage Score: 46.42\tBest Score: 99.10Problem solved in 559 episodes, average score over past 100 episodes: 46.42\n",
      "Episode 559\tAverage Score: 46.42\tBest Score: 99.10Problem solved in 560 episodes, average score over past 100 episodes: 46.16\n",
      "Episode 560\tAverage Score: 46.16\tBest Score: 99.10Problem solved in 561 episodes, average score over past 100 episodes: 46.16\n",
      "Episode 561\tAverage Score: 46.16\tBest Score: 99.10Problem solved in 562 episodes, average score over past 100 episodes: 46.14\n",
      "Episode 562\tAverage Score: 46.14\tBest Score: 99.10Problem solved in 563 episodes, average score over past 100 episodes: 46.14\n",
      "Episode 563\tAverage Score: 46.14\tBest Score: 99.10Problem solved in 564 episodes, average score over past 100 episodes: 46.20\n",
      "Episode 564\tAverage Score: 46.20\tBest Score: 99.10Problem solved in 565 episodes, average score over past 100 episodes: 46.20\n",
      "Episode 565\tAverage Score: 46.20\tBest Score: 99.10Problem solved in 566 episodes, average score over past 100 episodes: 45.69\n",
      "Episode 566\tAverage Score: 45.69\tBest Score: 99.10Problem solved in 567 episodes, average score over past 100 episodes: 45.69\n",
      "Episode 567\tAverage Score: 45.69\tBest Score: 99.10Problem solved in 568 episodes, average score over past 100 episodes: 45.76\n",
      "Episode 568\tAverage Score: 45.76\tBest Score: 99.10Problem solved in 569 episodes, average score over past 100 episodes: 45.76\n",
      "Episode 569\tAverage Score: 45.76\tBest Score: 99.10Problem solved in 570 episodes, average score over past 100 episodes: 45.73\n",
      "Episode 570\tAverage Score: 45.73\tBest Score: 99.10Problem solved in 571 episodes, average score over past 100 episodes: 45.73\n",
      "Episode 571\tAverage Score: 45.73\tBest Score: 99.10Problem solved in 572 episodes, average score over past 100 episodes: 45.78\n",
      "Episode 572\tAverage Score: 45.78\tBest Score: 99.10Problem solved in 573 episodes, average score over past 100 episodes: 45.78\n",
      "Episode 573\tAverage Score: 45.78\tBest Score: 99.10"
     ]
    },
    {
     "name": "stderr",
     "output_type": "stream",
     "text": [
      "training loop:  57% |########################                   | ETA:  1:25:51\r"
     ]
    },
    {
     "name": "stdout",
     "output_type": "stream",
     "text": [
      "Problem solved in 574 episodes, average score over past 100 episodes: 45.56\n",
      "Episode 574\tAverage Score: 45.56\tBest Score: 99.10Problem solved in 575 episodes, average score over past 100 episodes: 45.56\n",
      "Episode 575\tAverage Score: 45.56\tEpisode Score: 0.10\tBest Score: 99.10\n",
      "Problem solved in 576 episodes, average score over past 100 episodes: 45.55\n",
      "Episode 576\tAverage Score: 45.55\tBest Score: 99.10Problem solved in 577 episodes, average score over past 100 episodes: 45.55\n",
      "Episode 577\tAverage Score: 45.55\tBest Score: 99.10Problem solved in 578 episodes, average score over past 100 episodes: 45.79\n",
      "Episode 578\tAverage Score: 45.79\tBest Score: 99.10Problem solved in 579 episodes, average score over past 100 episodes: 45.79\n",
      "Episode 579\tAverage Score: 45.79\tBest Score: 99.10Problem solved in 580 episodes, average score over past 100 episodes: 45.72\n",
      "Episode 580\tAverage Score: 45.72\tBest Score: 99.10Problem solved in 581 episodes, average score over past 100 episodes: 45.72\n",
      "Episode 581\tAverage Score: 45.72\tBest Score: 99.10Problem solved in 582 episodes, average score over past 100 episodes: 45.76\n",
      "Episode 582\tAverage Score: 45.76\tBest Score: 99.10Problem solved in 583 episodes, average score over past 100 episodes: 45.76\n",
      "Episode 583\tAverage Score: 45.76\tBest Score: 99.10Problem solved in 584 episodes, average score over past 100 episodes: 45.75\n",
      "Episode 584\tAverage Score: 45.75\tBest Score: 99.10Problem solved in 585 episodes, average score over past 100 episodes: 45.75\n",
      "Episode 585\tAverage Score: 45.75\tBest Score: 99.10Problem solved in 586 episodes, average score over past 100 episodes: 45.82\n",
      "Episode 586\tAverage Score: 45.82\tBest Score: 99.10Problem solved in 587 episodes, average score over past 100 episodes: 45.82\n",
      "Episode 587\tAverage Score: 45.82\tBest Score: 99.10Problem solved in 588 episodes, average score over past 100 episodes: 45.80\n",
      "Episode 588\tAverage Score: 45.80\tBest Score: 99.10Problem solved in 589 episodes, average score over past 100 episodes: 45.80\n",
      "Episode 589\tAverage Score: 45.80\tBest Score: 99.10Problem solved in 590 episodes, average score over past 100 episodes: 45.78\n",
      "Episode 590\tAverage Score: 45.78\tBest Score: 99.10Problem solved in 591 episodes, average score over past 100 episodes: 45.78\n",
      "Episode 591\tAverage Score: 45.78\tBest Score: 99.10Problem solved in 592 episodes, average score over past 100 episodes: 45.82\n",
      "Episode 592\tAverage Score: 45.82\tBest Score: 99.10Problem solved in 593 episodes, average score over past 100 episodes: 45.82\n",
      "Episode 593\tAverage Score: 45.82\tBest Score: 99.10Problem solved in 594 episodes, average score over past 100 episodes: 45.65\n",
      "Episode 594\tAverage Score: 45.65\tBest Score: 99.10Problem solved in 595 episodes, average score over past 100 episodes: 45.65\n",
      "Episode 595\tAverage Score: 45.65\tBest Score: 99.10Problem solved in 596 episodes, average score over past 100 episodes: 45.67\n",
      "Episode 596\tAverage Score: 45.67\tBest Score: 99.10Problem solved in 597 episodes, average score over past 100 episodes: 45.67\n",
      "Episode 597\tAverage Score: 45.67\tBest Score: 99.10Problem solved in 598 episodes, average score over past 100 episodes: 45.65\n",
      "Episode 598\tAverage Score: 45.65\tBest Score: 99.10Problem solved in 599 episodes, average score over past 100 episodes: 45.65\n",
      "Episode 599\tAverage Score: 45.65\tBest Score: 99.10"
     ]
    },
    {
     "name": "stderr",
     "output_type": "stream",
     "text": [
      "training loop:  60% |#########################                  | ETA:  1:21:18\r"
     ]
    },
    {
     "name": "stdout",
     "output_type": "stream",
     "text": [
      "Problem solved in 600 episodes, average score over past 100 episodes: 45.69\n",
      "Episode 600\tAverage Score: 45.69\tEpisode Score: 98.70\tBest Score: 99.10\n",
      "Problem solved in 601 episodes, average score over past 100 episodes: 45.69\n",
      "Episode 601\tAverage Score: 45.69\tBest Score: 99.10Problem solved in 602 episodes, average score over past 100 episodes: 45.75\n",
      "Episode 602\tAverage Score: 45.75\tBest Score: 99.10Problem solved in 603 episodes, average score over past 100 episodes: 45.75\n",
      "Episode 603\tAverage Score: 45.75\tBest Score: 99.10Problem solved in 604 episodes, average score over past 100 episodes: 45.74\n",
      "Episode 604\tAverage Score: 45.74\tBest Score: 99.10Problem solved in 605 episodes, average score over past 100 episodes: 45.74\n",
      "Episode 605\tAverage Score: 45.74\tBest Score: 99.10Problem solved in 606 episodes, average score over past 100 episodes: 45.45\n",
      "Episode 606\tAverage Score: 45.45\tBest Score: 99.10Problem solved in 607 episodes, average score over past 100 episodes: 45.45\n",
      "Episode 607\tAverage Score: 45.45\tBest Score: 99.10Problem solved in 608 episodes, average score over past 100 episodes: 45.43\n",
      "Episode 608\tAverage Score: 45.43\tBest Score: 99.10Problem solved in 609 episodes, average score over past 100 episodes: 45.43\n",
      "Episode 609\tAverage Score: 45.43\tBest Score: 99.10Problem solved in 610 episodes, average score over past 100 episodes: 45.45\n",
      "Episode 610\tAverage Score: 45.45\tBest Score: 99.10Problem solved in 611 episodes, average score over past 100 episodes: 45.45\n",
      "Episode 611\tAverage Score: 45.45\tBest Score: 99.10Problem solved in 612 episodes, average score over past 100 episodes: 45.45\n",
      "Episode 612\tAverage Score: 45.45\tBest Score: 99.10Problem solved in 613 episodes, average score over past 100 episodes: 45.45\n",
      "Episode 613\tAverage Score: 45.45\tBest Score: 99.10Problem solved in 614 episodes, average score over past 100 episodes: 45.45\n",
      "Episode 614\tAverage Score: 45.45\tBest Score: 99.10Problem solved in 615 episodes, average score over past 100 episodes: 45.45\n",
      "Episode 615\tAverage Score: 45.45\tBest Score: 99.10Problem solved in 616 episodes, average score over past 100 episodes: 45.49\n",
      "Episode 616\tAverage Score: 45.49\tBest Score: 99.10Problem solved in 617 episodes, average score over past 100 episodes: 45.49\n",
      "Episode 617\tAverage Score: 45.49\tBest Score: 99.10Problem solved in 618 episodes, average score over past 100 episodes: 45.52\n",
      "Episode 618\tAverage Score: 45.52\tBest Score: 99.10Problem solved in 619 episodes, average score over past 100 episodes: 45.52\n",
      "Episode 619\tAverage Score: 45.52\tBest Score: 99.10Problem solved in 620 episodes, average score over past 100 episodes: 45.45\n",
      "Episode 620\tAverage Score: 45.45\tBest Score: 99.10Problem solved in 621 episodes, average score over past 100 episodes: 45.45\n",
      "Episode 621\tAverage Score: 45.45\tBest Score: 99.10Problem solved in 622 episodes, average score over past 100 episodes: 45.35\n",
      "Episode 622\tAverage Score: 45.35\tBest Score: 99.10Problem solved in 623 episodes, average score over past 100 episodes: 45.35\n",
      "Episode 623\tAverage Score: 45.35\tBest Score: 99.10"
     ]
    },
    {
     "name": "stderr",
     "output_type": "stream",
     "text": [
      "training loop:  62% |##########################                 | ETA:  1:16:24\r"
     ]
    },
    {
     "name": "stdout",
     "output_type": "stream",
     "text": [
      "Problem solved in 624 episodes, average score over past 100 episodes: 45.37\n",
      "Episode 624\tAverage Score: 45.37\tBest Score: 99.10Problem solved in 625 episodes, average score over past 100 episodes: 45.37\n",
      "Episode 625\tAverage Score: 45.37\tEpisode Score: 0.10\tBest Score: 99.10\n",
      "Problem solved in 626 episodes, average score over past 100 episodes: 45.17\n",
      "Episode 626\tAverage Score: 45.17\tBest Score: 99.10Problem solved in 627 episodes, average score over past 100 episodes: 45.17\n",
      "Episode 627\tAverage Score: 45.17\tBest Score: 99.10Problem solved in 628 episodes, average score over past 100 episodes: 45.31\n",
      "Episode 628\tAverage Score: 45.31\tBest Score: 99.10Problem solved in 629 episodes, average score over past 100 episodes: 45.31\n",
      "Episode 629\tAverage Score: 45.31\tBest Score: 99.10Problem solved in 630 episodes, average score over past 100 episodes: 45.34\n",
      "Episode 630\tAverage Score: 45.34\tBest Score: 99.10Problem solved in 631 episodes, average score over past 100 episodes: 45.34\n",
      "Episode 631\tAverage Score: 45.34\tBest Score: 99.10Problem solved in 632 episodes, average score over past 100 episodes: 45.07\n",
      "Episode 632\tAverage Score: 45.07\tBest Score: 99.10Problem solved in 633 episodes, average score over past 100 episodes: 45.07\n",
      "Episode 633\tAverage Score: 45.07\tBest Score: 99.10Problem solved in 634 episodes, average score over past 100 episodes: 45.46\n",
      "Episode 634\tAverage Score: 45.46\tBest Score: 99.10Problem solved in 635 episodes, average score over past 100 episodes: 45.46\n",
      "Episode 635\tAverage Score: 45.46\tBest Score: 99.10Problem solved in 636 episodes, average score over past 100 episodes: 45.43\n",
      "Episode 636\tAverage Score: 45.43\tBest Score: 99.10Problem solved in 637 episodes, average score over past 100 episodes: 45.43\n",
      "Episode 637\tAverage Score: 45.43\tBest Score: 99.10Problem solved in 638 episodes, average score over past 100 episodes: 45.38\n",
      "Episode 638\tAverage Score: 45.38\tBest Score: 99.10Problem solved in 639 episodes, average score over past 100 episodes: 45.38\n",
      "Episode 639\tAverage Score: 45.38\tBest Score: 99.10Problem solved in 640 episodes, average score over past 100 episodes: 45.39\n",
      "Episode 640\tAverage Score: 45.39\tBest Score: 99.10Problem solved in 641 episodes, average score over past 100 episodes: 45.39\n",
      "Episode 641\tAverage Score: 45.39\tBest Score: 99.10Problem solved in 642 episodes, average score over past 100 episodes: 45.41\n",
      "Episode 642\tAverage Score: 45.41\tBest Score: 99.10Problem solved in 643 episodes, average score over past 100 episodes: 45.41\n",
      "Episode 643\tAverage Score: 45.41\tBest Score: 99.10Problem solved in 644 episodes, average score over past 100 episodes: 45.42\n",
      "Episode 644\tAverage Score: 45.42\tBest Score: 99.20Problem solved in 645 episodes, average score over past 100 episodes: 45.42\n",
      "Episode 645\tAverage Score: 45.42\tBest Score: 99.20Problem solved in 646 episodes, average score over past 100 episodes: 45.36\n",
      "Episode 646\tAverage Score: 45.36\tBest Score: 99.20Problem solved in 647 episodes, average score over past 100 episodes: 45.36\n",
      "Episode 647\tAverage Score: 45.36\tBest Score: 99.20Problem solved in 648 episodes, average score over past 100 episodes: 45.32\n",
      "Episode 648\tAverage Score: 45.32\tBest Score: 99.20Problem solved in 649 episodes, average score over past 100 episodes: 45.32\n",
      "Episode 649\tAverage Score: 45.32\tBest Score: 99.20"
     ]
    },
    {
     "name": "stderr",
     "output_type": "stream",
     "text": [
      "training loop:  65% |###########################                | ETA:  1:11:44\r"
     ]
    },
    {
     "name": "stdout",
     "output_type": "stream",
     "text": [
      "Problem solved in 650 episodes, average score over past 100 episodes: 45.31\n",
      "Episode 650\tAverage Score: 45.31\tEpisode Score: 97.50\tBest Score: 99.20\n",
      "Problem solved in 651 episodes, average score over past 100 episodes: 45.31\n",
      "Episode 651\tAverage Score: 45.31\tBest Score: 99.20Problem solved in 652 episodes, average score over past 100 episodes: 45.28\n",
      "Episode 652\tAverage Score: 45.28\tBest Score: 99.20Problem solved in 653 episodes, average score over past 100 episodes: 45.28\n",
      "Episode 653\tAverage Score: 45.28\tBest Score: 99.20Problem solved in 654 episodes, average score over past 100 episodes: 45.31\n",
      "Episode 654\tAverage Score: 45.31\tBest Score: 99.20Problem solved in 655 episodes, average score over past 100 episodes: 45.31\n",
      "Episode 655\tAverage Score: 45.31\tBest Score: 99.20Problem solved in 656 episodes, average score over past 100 episodes: 45.34\n",
      "Episode 656\tAverage Score: 45.34\tBest Score: 99.20Problem solved in 657 episodes, average score over past 100 episodes: 45.34\n",
      "Episode 657\tAverage Score: 45.34\tBest Score: 99.20Problem solved in 658 episodes, average score over past 100 episodes: 45.36\n",
      "Episode 658\tAverage Score: 45.36\tBest Score: 99.20Problem solved in 659 episodes, average score over past 100 episodes: 45.36\n",
      "Episode 659\tAverage Score: 45.36\tBest Score: 99.20Problem solved in 660 episodes, average score over past 100 episodes: 45.48\n",
      "Episode 660\tAverage Score: 45.48\tBest Score: 99.20Problem solved in 661 episodes, average score over past 100 episodes: 45.48\n",
      "Episode 661\tAverage Score: 45.48\tBest Score: 99.20Problem solved in 662 episodes, average score over past 100 episodes: 45.56\n",
      "Episode 662\tAverage Score: 45.56\tBest Score: 99.20Problem solved in 663 episodes, average score over past 100 episodes: 45.56\n",
      "Episode 663\tAverage Score: 45.56\tBest Score: 99.20Problem solved in 664 episodes, average score over past 100 episodes: 45.57\n",
      "Episode 664\tAverage Score: 45.57\tBest Score: 99.20Problem solved in 665 episodes, average score over past 100 episodes: 45.57\n",
      "Episode 665\tAverage Score: 45.57\tBest Score: 99.20Problem solved in 666 episodes, average score over past 100 episodes: 46.15\n",
      "Episode 666\tAverage Score: 46.15\tBest Score: 99.20Problem solved in 667 episodes, average score over past 100 episodes: 46.15\n",
      "Episode 667\tAverage Score: 46.15\tBest Score: 99.20Problem solved in 668 episodes, average score over past 100 episodes: 46.37\n",
      "Episode 668\tAverage Score: 46.37\tBest Score: 99.20Problem solved in 669 episodes, average score over past 100 episodes: 46.37\n",
      "Episode 669\tAverage Score: 46.37\tBest Score: 99.20Problem solved in 670 episodes, average score over past 100 episodes: 46.47\n",
      "Episode 670\tAverage Score: 46.47\tBest Score: 99.20Problem solved in 671 episodes, average score over past 100 episodes: 46.47\n",
      "Episode 671\tAverage Score: 46.47\tBest Score: 99.20Problem solved in 672 episodes, average score over past 100 episodes: 46.48\n",
      "Episode 672\tAverage Score: 46.48\tBest Score: 99.20Problem solved in 673 episodes, average score over past 100 episodes: 46.48\n",
      "Episode 673\tAverage Score: 46.48\tBest Score: 99.20"
     ]
    },
    {
     "name": "stderr",
     "output_type": "stream",
     "text": [
      "training loop:  67% |#############################              | ETA:  1:06:47\r"
     ]
    },
    {
     "name": "stdout",
     "output_type": "stream",
     "text": [
      "Problem solved in 674 episodes, average score over past 100 episodes: 46.68\n",
      "Episode 674\tAverage Score: 46.68\tBest Score: 99.20Problem solved in 675 episodes, average score over past 100 episodes: 46.68\n",
      "Episode 675\tAverage Score: 46.68\tEpisode Score: 0.10\tBest Score: 99.20\n",
      "Problem solved in 676 episodes, average score over past 100 episodes: 46.68\n",
      "Episode 676\tAverage Score: 46.68\tBest Score: 99.20Problem solved in 677 episodes, average score over past 100 episodes: 46.68\n",
      "Episode 677\tAverage Score: 46.68\tBest Score: 99.20Problem solved in 678 episodes, average score over past 100 episodes: 46.66\n",
      "Episode 678\tAverage Score: 46.66\tBest Score: 99.20Problem solved in 679 episodes, average score over past 100 episodes: 46.66\n",
      "Episode 679\tAverage Score: 46.66\tBest Score: 99.20Problem solved in 680 episodes, average score over past 100 episodes: 46.70\n",
      "Episode 680\tAverage Score: 46.70\tBest Score: 99.20Problem solved in 681 episodes, average score over past 100 episodes: 46.70\n",
      "Episode 681\tAverage Score: 46.70\tBest Score: 99.20Problem solved in 682 episodes, average score over past 100 episodes: 46.61\n",
      "Episode 682\tAverage Score: 46.61\tBest Score: 99.20Problem solved in 683 episodes, average score over past 100 episodes: 46.61\n",
      "Episode 683\tAverage Score: 46.61\tBest Score: 99.20Problem solved in 684 episodes, average score over past 100 episodes: 46.58\n",
      "Episode 684\tAverage Score: 46.58\tBest Score: 99.20Problem solved in 685 episodes, average score over past 100 episodes: 46.58\n",
      "Episode 685\tAverage Score: 46.58\tBest Score: 99.20Problem solved in 686 episodes, average score over past 100 episodes: 46.59\n",
      "Episode 686\tAverage Score: 46.59\tBest Score: 99.20Problem solved in 687 episodes, average score over past 100 episodes: 46.59\n",
      "Episode 687\tAverage Score: 46.59\tBest Score: 99.20Problem solved in 688 episodes, average score over past 100 episodes: 46.62\n",
      "Episode 688\tAverage Score: 46.62\tBest Score: 99.20Problem solved in 689 episodes, average score over past 100 episodes: 46.62\n",
      "Episode 689\tAverage Score: 46.62\tBest Score: 99.20Problem solved in 690 episodes, average score over past 100 episodes: 46.56\n",
      "Episode 690\tAverage Score: 46.56\tBest Score: 99.20Problem solved in 691 episodes, average score over past 100 episodes: 46.56\n",
      "Episode 691\tAverage Score: 46.56\tBest Score: 99.20Problem solved in 692 episodes, average score over past 100 episodes: 46.58\n",
      "Episode 692\tAverage Score: 46.58\tBest Score: 99.20Problem solved in 693 episodes, average score over past 100 episodes: 46.58\n",
      "Episode 693\tAverage Score: 46.58\tBest Score: 99.20Problem solved in 694 episodes, average score over past 100 episodes: 46.70\n",
      "Episode 694\tAverage Score: 46.70\tBest Score: 99.20Problem solved in 695 episodes, average score over past 100 episodes: 46.70\n",
      "Episode 695\tAverage Score: 46.70\tBest Score: 99.20Problem solved in 696 episodes, average score over past 100 episodes: 46.63\n",
      "Episode 696\tAverage Score: 46.63\tBest Score: 99.20Problem solved in 697 episodes, average score over past 100 episodes: 46.63\n",
      "Episode 697\tAverage Score: 46.63\tBest Score: 99.20Problem solved in 698 episodes, average score over past 100 episodes: 46.63\n",
      "Episode 698\tAverage Score: 46.63\tBest Score: 99.20Problem solved in 699 episodes, average score over past 100 episodes: 46.63\n",
      "Episode 699\tAverage Score: 46.63\tBest Score: 99.20"
     ]
    },
    {
     "name": "stderr",
     "output_type": "stream",
     "text": [
      "training loop:  70% |##############################             | ETA:  1:02:00\r"
     ]
    },
    {
     "name": "stdout",
     "output_type": "stream",
     "text": [
      "Problem solved in 700 episodes, average score over past 100 episodes: 46.59\n",
      "Episode 700\tAverage Score: 46.59\tEpisode Score: 95.10\tBest Score: 99.20\n",
      "Problem solved in 701 episodes, average score over past 100 episodes: 46.59\n",
      "Episode 701\tAverage Score: 46.59\tBest Score: 99.20Problem solved in 702 episodes, average score over past 100 episodes: 46.49\n",
      "Episode 702\tAverage Score: 46.49\tBest Score: 99.20Problem solved in 703 episodes, average score over past 100 episodes: 46.49\n",
      "Episode 703\tAverage Score: 46.49\tBest Score: 99.20Problem solved in 704 episodes, average score over past 100 episodes: 46.37\n",
      "Episode 704\tAverage Score: 46.37\tBest Score: 99.20Problem solved in 705 episodes, average score over past 100 episodes: 46.37\n",
      "Episode 705\tAverage Score: 46.37\tBest Score: 99.20Problem solved in 706 episodes, average score over past 100 episodes: 46.67\n",
      "Episode 706\tAverage Score: 46.67\tBest Score: 99.20Problem solved in 707 episodes, average score over past 100 episodes: 46.67\n",
      "Episode 707\tAverage Score: 46.67\tBest Score: 99.20Problem solved in 708 episodes, average score over past 100 episodes: 46.69\n",
      "Episode 708\tAverage Score: 46.69\tBest Score: 99.20Problem solved in 709 episodes, average score over past 100 episodes: 46.69\n",
      "Episode 709\tAverage Score: 46.69\tBest Score: 99.20Problem solved in 710 episodes, average score over past 100 episodes: 46.63\n",
      "Episode 710\tAverage Score: 46.63\tBest Score: 99.20Problem solved in 711 episodes, average score over past 100 episodes: 46.63\n",
      "Episode 711\tAverage Score: 46.63\tBest Score: 99.20Problem solved in 712 episodes, average score over past 100 episodes: 46.61\n",
      "Episode 712\tAverage Score: 46.61\tBest Score: 99.20Problem solved in 713 episodes, average score over past 100 episodes: 46.61\n",
      "Episode 713\tAverage Score: 46.61\tBest Score: 99.20Problem solved in 714 episodes, average score over past 100 episodes: 46.50\n",
      "Episode 714\tAverage Score: 46.50\tBest Score: 99.20Problem solved in 715 episodes, average score over past 100 episodes: 46.50\n",
      "Episode 715\tAverage Score: 46.50\tBest Score: 99.20Problem solved in 716 episodes, average score over past 100 episodes: 46.24\n",
      "Episode 716\tAverage Score: 46.24\tBest Score: 99.20Problem solved in 717 episodes, average score over past 100 episodes: 46.24\n",
      "Episode 717\tAverage Score: 46.24\tBest Score: 99.20Problem solved in 718 episodes, average score over past 100 episodes: 46.29\n",
      "Episode 718\tAverage Score: 46.29\tBest Score: 99.20Problem solved in 719 episodes, average score over past 100 episodes: 46.29\n",
      "Episode 719\tAverage Score: 46.29\tBest Score: 99.20Problem solved in 720 episodes, average score over past 100 episodes: 46.40\n",
      "Episode 720\tAverage Score: 46.40\tBest Score: 99.20Problem solved in 721 episodes, average score over past 100 episodes: 46.40\n",
      "Episode 721\tAverage Score: 46.40\tBest Score: 99.20Problem solved in 722 episodes, average score over past 100 episodes: 46.50\n",
      "Episode 722\tAverage Score: 46.50\tBest Score: 99.20Problem solved in 723 episodes, average score over past 100 episodes: 46.51\n",
      "Episode 723\tAverage Score: 46.51\tBest Score: 99.20"
     ]
    },
    {
     "name": "stderr",
     "output_type": "stream",
     "text": [
      "training loop:  72% |###############################            | ETA:  0:56:59\r"
     ]
    },
    {
     "name": "stdout",
     "output_type": "stream",
     "text": [
      "Problem solved in 724 episodes, average score over past 100 episodes: 46.54\n",
      "Episode 724\tAverage Score: 46.54\tBest Score: 99.20Problem solved in 725 episodes, average score over past 100 episodes: 46.54\n",
      "Episode 725\tAverage Score: 46.54\tEpisode Score: 0.10\tBest Score: 99.20\n",
      "Problem solved in 726 episodes, average score over past 100 episodes: 46.69\n",
      "Episode 726\tAverage Score: 46.69\tBest Score: 99.20Problem solved in 727 episodes, average score over past 100 episodes: 46.69\n",
      "Episode 727\tAverage Score: 46.69\tBest Score: 99.20Problem solved in 728 episodes, average score over past 100 episodes: 46.64\n",
      "Episode 728\tAverage Score: 46.64\tBest Score: 99.20Problem solved in 729 episodes, average score over past 100 episodes: 46.64\n",
      "Episode 729\tAverage Score: 46.64\tBest Score: 99.20Problem solved in 730 episodes, average score over past 100 episodes: 46.41\n",
      "Episode 730\tAverage Score: 46.41\tBest Score: 99.20Problem solved in 731 episodes, average score over past 100 episodes: 46.41\n",
      "Episode 731\tAverage Score: 46.41\tBest Score: 99.20Problem solved in 732 episodes, average score over past 100 episodes: 46.95\n",
      "Episode 732\tAverage Score: 46.95\tBest Score: 99.20Problem solved in 733 episodes, average score over past 100 episodes: 46.95\n",
      "Episode 733\tAverage Score: 46.95\tBest Score: 99.20Problem solved in 734 episodes, average score over past 100 episodes: 46.95\n",
      "Episode 734\tAverage Score: 46.95\tBest Score: 99.20Problem solved in 735 episodes, average score over past 100 episodes: 46.95\n",
      "Episode 735\tAverage Score: 46.95\tBest Score: 99.20Problem solved in 736 episodes, average score over past 100 episodes: 46.82\n",
      "Episode 736\tAverage Score: 46.82\tBest Score: 99.20Problem solved in 737 episodes, average score over past 100 episodes: 46.82\n",
      "Episode 737\tAverage Score: 46.82\tBest Score: 99.20Problem solved in 738 episodes, average score over past 100 episodes: 46.84\n",
      "Episode 738\tAverage Score: 46.84\tBest Score: 99.20Problem solved in 739 episodes, average score over past 100 episodes: 46.84\n",
      "Episode 739\tAverage Score: 46.84\tBest Score: 99.20Problem solved in 740 episodes, average score over past 100 episodes: 46.48\n",
      "Episode 740\tAverage Score: 46.48\tBest Score: 99.20Problem solved in 741 episodes, average score over past 100 episodes: 46.48\n",
      "Episode 741\tAverage Score: 46.48\tBest Score: 99.20Problem solved in 742 episodes, average score over past 100 episodes: 46.19\n",
      "Episode 742\tAverage Score: 46.19\tBest Score: 99.20Problem solved in 743 episodes, average score over past 100 episodes: 46.19\n",
      "Episode 743\tAverage Score: 46.19\tBest Score: 99.20Problem solved in 744 episodes, average score over past 100 episodes: 45.98\n",
      "Episode 744\tAverage Score: 45.98\tBest Score: 99.20Problem solved in 745 episodes, average score over past 100 episodes: 45.98\n",
      "Episode 745\tAverage Score: 45.98\tBest Score: 99.20Problem solved in 746 episodes, average score over past 100 episodes: 45.95\n",
      "Episode 746\tAverage Score: 45.95\tBest Score: 99.20Problem solved in 747 episodes, average score over past 100 episodes: 45.95\n",
      "Episode 747\tAverage Score: 45.95\tBest Score: 99.20Problem solved in 748 episodes, average score over past 100 episodes: 45.57\n",
      "Episode 748\tAverage Score: 45.57\tBest Score: 99.20Problem solved in 749 episodes, average score over past 100 episodes: 45.57\n",
      "Episode 749\tAverage Score: 45.57\tBest Score: 99.20"
     ]
    },
    {
     "name": "stderr",
     "output_type": "stream",
     "text": [
      "training loop:  75% |################################           | ETA:  0:52:05\r"
     ]
    },
    {
     "name": "stdout",
     "output_type": "stream",
     "text": [
      "Problem solved in 750 episodes, average score over past 100 episodes: 45.45\n",
      "Episode 750\tAverage Score: 45.45\tEpisode Score: 85.60\tBest Score: 99.20\n",
      "Problem solved in 751 episodes, average score over past 100 episodes: 45.45\n",
      "Episode 751\tAverage Score: 45.45\tBest Score: 99.20Problem solved in 752 episodes, average score over past 100 episodes: 45.38\n",
      "Episode 752\tAverage Score: 45.38\tBest Score: 99.20Problem solved in 753 episodes, average score over past 100 episodes: 45.38\n",
      "Episode 753\tAverage Score: 45.38\tBest Score: 99.20Problem solved in 754 episodes, average score over past 100 episodes: 45.33\n",
      "Episode 754\tAverage Score: 45.33\tBest Score: 99.20Problem solved in 755 episodes, average score over past 100 episodes: 45.33\n",
      "Episode 755\tAverage Score: 45.33\tBest Score: 99.20Problem solved in 756 episodes, average score over past 100 episodes: 45.32\n",
      "Episode 756\tAverage Score: 45.32\tBest Score: 99.20Problem solved in 757 episodes, average score over past 100 episodes: 45.31\n",
      "Episode 757\tAverage Score: 45.31\tBest Score: 99.20Problem solved in 758 episodes, average score over past 100 episodes: 45.16\n",
      "Episode 758\tAverage Score: 45.16\tBest Score: 99.20Problem solved in 759 episodes, average score over past 100 episodes: 45.16\n",
      "Episode 759\tAverage Score: 45.16\tBest Score: 99.20Problem solved in 760 episodes, average score over past 100 episodes: 45.20\n",
      "Episode 760\tAverage Score: 45.20\tBest Score: 99.20Problem solved in 761 episodes, average score over past 100 episodes: 45.20\n",
      "Episode 761\tAverage Score: 45.20\tBest Score: 99.20Problem solved in 762 episodes, average score over past 100 episodes: 45.18\n",
      "Episode 762\tAverage Score: 45.18\tBest Score: 99.20Problem solved in 763 episodes, average score over past 100 episodes: 45.18\n",
      "Episode 763\tAverage Score: 45.18\tBest Score: 99.20Problem solved in 764 episodes, average score over past 100 episodes: 45.14\n",
      "Episode 764\tAverage Score: 45.14\tBest Score: 99.20Problem solved in 765 episodes, average score over past 100 episodes: 45.14\n",
      "Episode 765\tAverage Score: 45.14\tBest Score: 99.20Problem solved in 766 episodes, average score over past 100 episodes: 45.16\n",
      "Episode 766\tAverage Score: 45.16\tBest Score: 99.20Problem solved in 767 episodes, average score over past 100 episodes: 45.16\n",
      "Episode 767\tAverage Score: 45.16\tBest Score: 99.20Problem solved in 768 episodes, average score over past 100 episodes: 45.15\n",
      "Episode 768\tAverage Score: 45.15\tBest Score: 99.20Problem solved in 769 episodes, average score over past 100 episodes: 45.15\n",
      "Episode 769\tAverage Score: 45.15\tBest Score: 99.20Problem solved in 770 episodes, average score over past 100 episodes: 45.07\n",
      "Episode 770\tAverage Score: 45.07\tBest Score: 99.20Problem solved in 771 episodes, average score over past 100 episodes: 45.07\n",
      "Episode 771\tAverage Score: 45.07\tBest Score: 99.20Problem solved in 772 episodes, average score over past 100 episodes: 44.98\n",
      "Episode 772\tAverage Score: 44.98\tBest Score: 99.20Problem solved in 773 episodes, average score over past 100 episodes: 44.98\n",
      "Episode 773\tAverage Score: 44.98\tBest Score: 99.20"
     ]
    },
    {
     "name": "stderr",
     "output_type": "stream",
     "text": [
      "training loop:  77% |#################################          | ETA:  0:47:00\r"
     ]
    },
    {
     "name": "stdout",
     "output_type": "stream",
     "text": [
      "Problem solved in 774 episodes, average score over past 100 episodes: 44.93\n",
      "Episode 774\tAverage Score: 44.93\tBest Score: 99.20Problem solved in 775 episodes, average score over past 100 episodes: 44.93\n",
      "Episode 775\tAverage Score: 44.93\tEpisode Score: 0.00\tBest Score: 99.20\n",
      "Problem solved in 776 episodes, average score over past 100 episodes: 44.93\n",
      "Episode 776\tAverage Score: 44.93\tBest Score: 99.20Problem solved in 777 episodes, average score over past 100 episodes: 44.93\n",
      "Episode 777\tAverage Score: 44.93\tBest Score: 99.20Problem solved in 778 episodes, average score over past 100 episodes: 44.99\n",
      "Episode 778\tAverage Score: 44.99\tBest Score: 99.20Problem solved in 779 episodes, average score over past 100 episodes: 44.99\n",
      "Episode 779\tAverage Score: 44.99\tBest Score: 99.20Problem solved in 780 episodes, average score over past 100 episodes: 44.84\n",
      "Episode 780\tAverage Score: 44.84\tBest Score: 99.20Problem solved in 781 episodes, average score over past 100 episodes: 44.84\n",
      "Episode 781\tAverage Score: 44.84\tBest Score: 99.20Problem solved in 782 episodes, average score over past 100 episodes: 44.75\n",
      "Episode 782\tAverage Score: 44.75\tBest Score: 99.20Problem solved in 783 episodes, average score over past 100 episodes: 44.75\n",
      "Episode 783\tAverage Score: 44.75\tBest Score: 99.20Problem solved in 784 episodes, average score over past 100 episodes: 44.74\n",
      "Episode 784\tAverage Score: 44.74\tBest Score: 99.20Problem solved in 785 episodes, average score over past 100 episodes: 44.74\n",
      "Episode 785\tAverage Score: 44.74\tBest Score: 99.20Problem solved in 786 episodes, average score over past 100 episodes: 44.73\n",
      "Episode 786\tAverage Score: 44.73\tBest Score: 99.20Problem solved in 787 episodes, average score over past 100 episodes: 44.73\n",
      "Episode 787\tAverage Score: 44.73\tBest Score: 99.20Problem solved in 788 episodes, average score over past 100 episodes: 44.48\n",
      "Episode 788\tAverage Score: 44.48\tBest Score: 99.20Problem solved in 789 episodes, average score over past 100 episodes: 44.48\n",
      "Episode 789\tAverage Score: 44.48\tBest Score: 99.20Problem solved in 790 episodes, average score over past 100 episodes: 44.52\n",
      "Episode 790\tAverage Score: 44.52\tBest Score: 99.20Problem solved in 791 episodes, average score over past 100 episodes: 44.52\n",
      "Episode 791\tAverage Score: 44.52\tBest Score: 99.20Problem solved in 792 episodes, average score over past 100 episodes: 44.24\n",
      "Episode 792\tAverage Score: 44.24\tBest Score: 99.20Problem solved in 793 episodes, average score over past 100 episodes: 44.24\n",
      "Episode 793\tAverage Score: 44.24\tBest Score: 99.20Problem solved in 794 episodes, average score over past 100 episodes: 44.28\n",
      "Episode 794\tAverage Score: 44.28\tBest Score: 99.20Problem solved in 795 episodes, average score over past 100 episodes: 44.28\n",
      "Episode 795\tAverage Score: 44.28\tBest Score: 99.20Problem solved in 796 episodes, average score over past 100 episodes: 44.25\n",
      "Episode 796\tAverage Score: 44.25\tBest Score: 99.20Problem solved in 797 episodes, average score over past 100 episodes: 44.25\n",
      "Episode 797\tAverage Score: 44.25\tBest Score: 99.20Problem solved in 798 episodes, average score over past 100 episodes: 44.22\n",
      "Episode 798\tAverage Score: 44.22\tBest Score: 99.20Problem solved in 799 episodes, average score over past 100 episodes: 44.22\n",
      "Episode 799\tAverage Score: 44.22\tBest Score: 99.20"
     ]
    },
    {
     "name": "stderr",
     "output_type": "stream",
     "text": [
      "training loop:  80% |##################################         | ETA:  0:42:00\r"
     ]
    },
    {
     "name": "stdout",
     "output_type": "stream",
     "text": [
      "Problem solved in 800 episodes, average score over past 100 episodes: 44.17\n",
      "Episode 800\tAverage Score: 44.17\tEpisode Score: 90.60\tBest Score: 99.20\n",
      "Problem solved in 801 episodes, average score over past 100 episodes: 44.17\n",
      "Episode 801\tAverage Score: 44.17\tBest Score: 99.20Problem solved in 802 episodes, average score over past 100 episodes: 44.27\n",
      "Episode 802\tAverage Score: 44.27\tBest Score: 99.20Problem solved in 803 episodes, average score over past 100 episodes: 44.27\n",
      "Episode 803\tAverage Score: 44.27\tBest Score: 99.20Problem solved in 804 episodes, average score over past 100 episodes: 44.36\n",
      "Episode 804\tAverage Score: 44.36\tBest Score: 99.20Problem solved in 805 episodes, average score over past 100 episodes: 44.36\n",
      "Episode 805\tAverage Score: 44.36\tBest Score: 99.20Problem solved in 806 episodes, average score over past 100 episodes: 44.01\n",
      "Episode 806\tAverage Score: 44.01\tBest Score: 99.20Problem solved in 807 episodes, average score over past 100 episodes: 44.01\n",
      "Episode 807\tAverage Score: 44.01\tBest Score: 99.20Problem solved in 808 episodes, average score over past 100 episodes: 43.87\n",
      "Episode 808\tAverage Score: 43.87\tBest Score: 99.20Problem solved in 809 episodes, average score over past 100 episodes: 43.87\n",
      "Episode 809\tAverage Score: 43.87\tBest Score: 99.20Problem solved in 810 episodes, average score over past 100 episodes: 43.64\n",
      "Episode 810\tAverage Score: 43.64\tBest Score: 99.20Problem solved in 811 episodes, average score over past 100 episodes: 43.64\n",
      "Episode 811\tAverage Score: 43.64\tBest Score: 99.20Problem solved in 812 episodes, average score over past 100 episodes: 43.69\n",
      "Episode 812\tAverage Score: 43.69\tBest Score: 99.20Problem solved in 813 episodes, average score over past 100 episodes: 43.69\n",
      "Episode 813\tAverage Score: 43.69\tBest Score: 99.20Problem solved in 814 episodes, average score over past 100 episodes: 43.84\n",
      "Episode 814\tAverage Score: 43.84\tBest Score: 99.20Problem solved in 815 episodes, average score over past 100 episodes: 43.85\n",
      "Episode 815\tAverage Score: 43.85\tBest Score: 99.20Problem solved in 816 episodes, average score over past 100 episodes: 44.08\n",
      "Episode 816\tAverage Score: 44.08\tBest Score: 99.20Problem solved in 817 episodes, average score over past 100 episodes: 44.08\n",
      "Episode 817\tAverage Score: 44.08\tBest Score: 99.20Problem solved in 818 episodes, average score over past 100 episodes: 44.06\n",
      "Episode 818\tAverage Score: 44.06\tBest Score: 99.20Problem solved in 819 episodes, average score over past 100 episodes: 44.06\n",
      "Episode 819\tAverage Score: 44.06\tBest Score: 99.20Problem solved in 820 episodes, average score over past 100 episodes: 44.05\n",
      "Episode 820\tAverage Score: 44.05\tBest Score: 99.20Problem solved in 821 episodes, average score over past 100 episodes: 44.05\n",
      "Episode 821\tAverage Score: 44.05\tBest Score: 99.20Problem solved in 822 episodes, average score over past 100 episodes: 44.06\n",
      "Episode 822\tAverage Score: 44.06\tBest Score: 99.20Problem solved in 823 episodes, average score over past 100 episodes: 44.06\n",
      "Episode 823\tAverage Score: 44.06\tBest Score: 99.20"
     ]
    },
    {
     "name": "stderr",
     "output_type": "stream",
     "text": [
      "training loop:  82% |###################################        | ETA:  0:36:50\r"
     ]
    },
    {
     "name": "stdout",
     "output_type": "stream",
     "text": [
      "Problem solved in 824 episodes, average score over past 100 episodes: 44.04\n",
      "Episode 824\tAverage Score: 44.04\tBest Score: 99.20Problem solved in 825 episodes, average score over past 100 episodes: 44.04\n",
      "Episode 825\tAverage Score: 44.04\tEpisode Score: 0.10\tBest Score: 99.20\n",
      "Problem solved in 826 episodes, average score over past 100 episodes: 44.09\n",
      "Episode 826\tAverage Score: 44.09\tBest Score: 99.20Problem solved in 827 episodes, average score over past 100 episodes: 44.09\n",
      "Episode 827\tAverage Score: 44.09\tBest Score: 99.20Problem solved in 828 episodes, average score over past 100 episodes: 44.10\n",
      "Episode 828\tAverage Score: 44.10\tBest Score: 99.20Problem solved in 829 episodes, average score over past 100 episodes: 44.10\n",
      "Episode 829\tAverage Score: 44.10\tBest Score: 99.20Problem solved in 830 episodes, average score over past 100 episodes: 44.32\n",
      "Episode 830\tAverage Score: 44.32\tBest Score: 99.20Problem solved in 831 episodes, average score over past 100 episodes: 44.32\n",
      "Episode 831\tAverage Score: 44.32\tBest Score: 99.20Problem solved in 832 episodes, average score over past 100 episodes: 44.11\n",
      "Episode 832\tAverage Score: 44.11\tBest Score: 99.20Problem solved in 833 episodes, average score over past 100 episodes: 44.11\n",
      "Episode 833\tAverage Score: 44.11\tBest Score: 99.20Problem solved in 834 episodes, average score over past 100 episodes: 43.99\n",
      "Episode 834\tAverage Score: 43.99\tBest Score: 99.20Problem solved in 835 episodes, average score over past 100 episodes: 43.99\n",
      "Episode 835\tAverage Score: 43.99\tBest Score: 99.20Problem solved in 836 episodes, average score over past 100 episodes: 44.13\n",
      "Episode 836\tAverage Score: 44.13\tBest Score: 99.20Problem solved in 837 episodes, average score over past 100 episodes: 44.13\n",
      "Episode 837\tAverage Score: 44.13\tBest Score: 99.20Problem solved in 838 episodes, average score over past 100 episodes: 44.06\n",
      "Episode 838\tAverage Score: 44.06\tBest Score: 99.20Problem solved in 839 episodes, average score over past 100 episodes: 44.06\n",
      "Episode 839\tAverage Score: 44.06\tBest Score: 99.20Problem solved in 840 episodes, average score over past 100 episodes: 44.42\n",
      "Episode 840\tAverage Score: 44.42\tBest Score: 99.20Problem solved in 841 episodes, average score over past 100 episodes: 44.42\n",
      "Episode 841\tAverage Score: 44.42\tBest Score: 99.20Problem solved in 842 episodes, average score over past 100 episodes: 44.70\n",
      "Episode 842\tAverage Score: 44.70\tBest Score: 99.20Problem solved in 843 episodes, average score over past 100 episodes: 44.70\n",
      "Episode 843\tAverage Score: 44.70\tBest Score: 99.20Problem solved in 844 episodes, average score over past 100 episodes: 44.89\n",
      "Episode 844\tAverage Score: 44.89\tBest Score: 99.20Problem solved in 845 episodes, average score over past 100 episodes: 44.89\n",
      "Episode 845\tAverage Score: 44.89\tBest Score: 99.20Problem solved in 846 episodes, average score over past 100 episodes: 44.98\n",
      "Episode 846\tAverage Score: 44.98\tBest Score: 99.20Problem solved in 847 episodes, average score over past 100 episodes: 44.98\n",
      "Episode 847\tAverage Score: 44.98\tBest Score: 99.20Problem solved in 848 episodes, average score over past 100 episodes: 45.32\n",
      "Episode 848\tAverage Score: 45.32\tBest Score: 99.20Problem solved in 849 episodes, average score over past 100 episodes: 45.32\n",
      "Episode 849\tAverage Score: 45.32\tBest Score: 99.20"
     ]
    },
    {
     "name": "stderr",
     "output_type": "stream",
     "text": [
      "training loop:  85% |####################################       | ETA:  0:31:44\r"
     ]
    },
    {
     "name": "stdout",
     "output_type": "stream",
     "text": [
      "Problem solved in 850 episodes, average score over past 100 episodes: 45.40\n",
      "Episode 850\tAverage Score: 45.40\tEpisode Score: 93.30\tBest Score: 99.20\n",
      "Problem solved in 851 episodes, average score over past 100 episodes: 45.40\n",
      "Episode 851\tAverage Score: 45.40\tBest Score: 99.20Problem solved in 852 episodes, average score over past 100 episodes: 45.53\n",
      "Episode 852\tAverage Score: 45.53\tBest Score: 99.20Problem solved in 853 episodes, average score over past 100 episodes: 45.53\n",
      "Episode 853\tAverage Score: 45.53\tBest Score: 99.20Problem solved in 854 episodes, average score over past 100 episodes: 45.61\n",
      "Episode 854\tAverage Score: 45.61\tBest Score: 99.20Problem solved in 855 episodes, average score over past 100 episodes: 45.61\n",
      "Episode 855\tAverage Score: 45.61\tBest Score: 99.20Problem solved in 856 episodes, average score over past 100 episodes: 45.63\n",
      "Episode 856\tAverage Score: 45.63\tBest Score: 99.20Problem solved in 857 episodes, average score over past 100 episodes: 45.64\n",
      "Episode 857\tAverage Score: 45.64\tBest Score: 99.20Problem solved in 858 episodes, average score over past 100 episodes: 45.75\n",
      "Episode 858\tAverage Score: 45.75\tBest Score: 99.20Problem solved in 859 episodes, average score over past 100 episodes: 45.75\n",
      "Episode 859\tAverage Score: 45.75\tBest Score: 99.20Problem solved in 860 episodes, average score over past 100 episodes: 45.91\n",
      "Episode 860\tAverage Score: 45.91\tBest Score: 99.20Problem solved in 861 episodes, average score over past 100 episodes: 45.91\n",
      "Episode 861\tAverage Score: 45.91\tBest Score: 99.20Problem solved in 862 episodes, average score over past 100 episodes: 45.93\n",
      "Episode 862\tAverage Score: 45.93\tBest Score: 99.20Problem solved in 863 episodes, average score over past 100 episodes: 45.93\n",
      "Episode 863\tAverage Score: 45.93\tBest Score: 99.20Problem solved in 864 episodes, average score over past 100 episodes: 45.93\n",
      "Episode 864\tAverage Score: 45.93\tBest Score: 99.20Problem solved in 865 episodes, average score over past 100 episodes: 45.93\n",
      "Episode 865\tAverage Score: 45.93\tBest Score: 99.20Problem solved in 866 episodes, average score over past 100 episodes: 45.88\n",
      "Episode 866\tAverage Score: 45.88\tBest Score: 99.20Problem solved in 867 episodes, average score over past 100 episodes: 45.88\n",
      "Episode 867\tAverage Score: 45.88\tBest Score: 99.20Problem solved in 868 episodes, average score over past 100 episodes: 45.83\n",
      "Episode 868\tAverage Score: 45.83\tBest Score: 99.20Problem solved in 869 episodes, average score over past 100 episodes: 45.83\n",
      "Episode 869\tAverage Score: 45.83\tBest Score: 99.20Problem solved in 870 episodes, average score over past 100 episodes: 45.90\n",
      "Episode 870\tAverage Score: 45.90\tBest Score: 99.20Problem solved in 871 episodes, average score over past 100 episodes: 45.90\n",
      "Episode 871\tAverage Score: 45.90\tBest Score: 99.20Problem solved in 872 episodes, average score over past 100 episodes: 45.97\n",
      "Episode 872\tAverage Score: 45.97\tBest Score: 99.20Problem solved in 873 episodes, average score over past 100 episodes: 45.97\n",
      "Episode 873\tAverage Score: 45.97\tBest Score: 99.20"
     ]
    },
    {
     "name": "stderr",
     "output_type": "stream",
     "text": [
      "training loop:  87% |#####################################      | ETA:  0:26:29\r"
     ]
    },
    {
     "name": "stdout",
     "output_type": "stream",
     "text": [
      "Problem solved in 874 episodes, average score over past 100 episodes: 46.01\n",
      "Episode 874\tAverage Score: 46.01\tBest Score: 99.20Problem solved in 875 episodes, average score over past 100 episodes: 46.01\n",
      "Episode 875\tAverage Score: 46.01\tEpisode Score: 0.10\tBest Score: 99.20\n",
      "Problem solved in 876 episodes, average score over past 100 episodes: 46.00\n",
      "Episode 876\tAverage Score: 46.00\tBest Score: 99.20Problem solved in 877 episodes, average score over past 100 episodes: 46.00\n",
      "Episode 877\tAverage Score: 46.00\tBest Score: 99.20Problem solved in 878 episodes, average score over past 100 episodes: 46.00\n",
      "Episode 878\tAverage Score: 46.00\tBest Score: 99.20Problem solved in 879 episodes, average score over past 100 episodes: 46.00\n",
      "Episode 879\tAverage Score: 46.00\tBest Score: 99.20Problem solved in 880 episodes, average score over past 100 episodes: 46.20\n",
      "Episode 880\tAverage Score: 46.20\tBest Score: 99.20Problem solved in 881 episodes, average score over past 100 episodes: 46.20\n",
      "Episode 881\tAverage Score: 46.20\tBest Score: 99.20Problem solved in 882 episodes, average score over past 100 episodes: 46.39\n",
      "Episode 882\tAverage Score: 46.39\tBest Score: 99.20Problem solved in 883 episodes, average score over past 100 episodes: 46.39\n",
      "Episode 883\tAverage Score: 46.39\tBest Score: 99.20Problem solved in 884 episodes, average score over past 100 episodes: 46.47\n",
      "Episode 884\tAverage Score: 46.47\tBest Score: 99.20Problem solved in 885 episodes, average score over past 100 episodes: 46.47\n",
      "Episode 885\tAverage Score: 46.47\tBest Score: 99.20Problem solved in 886 episodes, average score over past 100 episodes: 46.46\n",
      "Episode 886\tAverage Score: 46.46\tBest Score: 99.20Problem solved in 887 episodes, average score over past 100 episodes: 46.46\n",
      "Episode 887\tAverage Score: 46.46\tBest Score: 99.20Problem solved in 888 episodes, average score over past 100 episodes: 46.51\n",
      "Episode 888\tAverage Score: 46.51\tBest Score: 99.20Problem solved in 889 episodes, average score over past 100 episodes: 46.51\n",
      "Episode 889\tAverage Score: 46.51\tBest Score: 99.20Problem solved in 890 episodes, average score over past 100 episodes: 46.55\n",
      "Episode 890\tAverage Score: 46.55\tBest Score: 99.20Problem solved in 891 episodes, average score over past 100 episodes: 46.55\n",
      "Episode 891\tAverage Score: 46.55\tBest Score: 99.20Problem solved in 892 episodes, average score over past 100 episodes: 46.82\n",
      "Episode 892\tAverage Score: 46.82\tBest Score: 99.20Problem solved in 893 episodes, average score over past 100 episodes: 46.82\n",
      "Episode 893\tAverage Score: 46.82\tBest Score: 99.20Problem solved in 894 episodes, average score over past 100 episodes: 46.82\n",
      "Episode 894\tAverage Score: 46.82\tBest Score: 99.20Problem solved in 895 episodes, average score over past 100 episodes: 46.82\n",
      "Episode 895\tAverage Score: 46.82\tBest Score: 99.20Problem solved in 896 episodes, average score over past 100 episodes: 46.88\n",
      "Episode 896\tAverage Score: 46.88\tBest Score: 99.20Problem solved in 897 episodes, average score over past 100 episodes: 46.88\n",
      "Episode 897\tAverage Score: 46.88\tBest Score: 99.20Problem solved in 898 episodes, average score over past 100 episodes: 46.87\n",
      "Episode 898\tAverage Score: 46.87\tBest Score: 99.20Problem solved in 899 episodes, average score over past 100 episodes: 46.87\n",
      "Episode 899\tAverage Score: 46.87\tBest Score: 99.20"
     ]
    },
    {
     "name": "stderr",
     "output_type": "stream",
     "text": [
      "training loop:  90% |######################################     | ETA:  0:21:16\r"
     ]
    },
    {
     "name": "stdout",
     "output_type": "stream",
     "text": [
      "Problem solved in 900 episodes, average score over past 100 episodes: 46.94\n",
      "Episode 900\tAverage Score: 46.94\tEpisode Score: 97.20\tBest Score: 99.20\n",
      "Problem solved in 901 episodes, average score over past 100 episodes: 46.94\n",
      "Episode 901\tAverage Score: 46.94\tBest Score: 99.20Problem solved in 902 episodes, average score over past 100 episodes: 46.94\n",
      "Episode 902\tAverage Score: 46.94\tBest Score: 99.20Problem solved in 903 episodes, average score over past 100 episodes: 46.94\n",
      "Episode 903\tAverage Score: 46.94\tBest Score: 99.20Problem solved in 904 episodes, average score over past 100 episodes: 47.01\n",
      "Episode 904\tAverage Score: 47.01\tBest Score: 99.20Problem solved in 905 episodes, average score over past 100 episodes: 47.01\n",
      "Episode 905\tAverage Score: 47.01\tBest Score: 99.20Problem solved in 906 episodes, average score over past 100 episodes: 47.26\n",
      "Episode 906\tAverage Score: 47.26\tBest Score: 99.20Problem solved in 907 episodes, average score over past 100 episodes: 47.26\n",
      "Episode 907\tAverage Score: 47.26\tBest Score: 99.20Problem solved in 908 episodes, average score over past 100 episodes: 47.42\n",
      "Episode 908\tAverage Score: 47.42\tBest Score: 99.20Problem solved in 909 episodes, average score over past 100 episodes: 47.42\n",
      "Episode 909\tAverage Score: 47.42\tBest Score: 99.20Problem solved in 910 episodes, average score over past 100 episodes: 47.69\n",
      "Episode 910\tAverage Score: 47.69\tBest Score: 99.20Problem solved in 911 episodes, average score over past 100 episodes: 47.69\n",
      "Episode 911\tAverage Score: 47.69\tBest Score: 99.20Problem solved in 912 episodes, average score over past 100 episodes: 47.69\n",
      "Episode 912\tAverage Score: 47.69\tBest Score: 99.20Problem solved in 913 episodes, average score over past 100 episodes: 47.69\n",
      "Episode 913\tAverage Score: 47.69\tBest Score: 99.20Problem solved in 914 episodes, average score over past 100 episodes: 47.69\n",
      "Episode 914\tAverage Score: 47.69\tBest Score: 99.20Problem solved in 915 episodes, average score over past 100 episodes: 47.69\n",
      "Episode 915\tAverage Score: 47.69\tBest Score: 99.20Problem solved in 916 episodes, average score over past 100 episodes: 47.71\n",
      "Episode 916\tAverage Score: 47.71\tBest Score: 99.20Problem solved in 917 episodes, average score over past 100 episodes: 47.71\n",
      "Episode 917\tAverage Score: 47.71\tBest Score: 99.20Problem solved in 918 episodes, average score over past 100 episodes: 47.73\n",
      "Episode 918\tAverage Score: 47.73\tBest Score: 99.20Problem solved in 919 episodes, average score over past 100 episodes: 47.73\n",
      "Episode 919\tAverage Score: 47.73\tBest Score: 99.20Problem solved in 920 episodes, average score over past 100 episodes: 47.64\n",
      "Episode 920\tAverage Score: 47.64\tBest Score: 99.20Problem solved in 921 episodes, average score over past 100 episodes: 47.64\n",
      "Episode 921\tAverage Score: 47.64\tBest Score: 99.20Problem solved in 922 episodes, average score over past 100 episodes: 47.51\n",
      "Episode 922\tAverage Score: 47.51\tBest Score: 99.20Problem solved in 923 episodes, average score over past 100 episodes: 47.51\n",
      "Episode 923\tAverage Score: 47.51\tBest Score: 99.20"
     ]
    },
    {
     "name": "stderr",
     "output_type": "stream",
     "text": [
      "training loop:  92% |#######################################    | ETA:  0:15:57\r"
     ]
    },
    {
     "name": "stdout",
     "output_type": "stream",
     "text": [
      "Problem solved in 924 episodes, average score over past 100 episodes: 47.54\n",
      "Episode 924\tAverage Score: 47.54\tBest Score: 99.20Problem solved in 925 episodes, average score over past 100 episodes: 47.54\n",
      "Episode 925\tAverage Score: 47.54\tEpisode Score: 0.10\tBest Score: 99.20\n",
      "Problem solved in 926 episodes, average score over past 100 episodes: 47.50\n",
      "Episode 926\tAverage Score: 47.50\tBest Score: 99.20Problem solved in 927 episodes, average score over past 100 episodes: 47.50\n",
      "Episode 927\tAverage Score: 47.50\tBest Score: 99.20Problem solved in 928 episodes, average score over past 100 episodes: 47.53\n",
      "Episode 928\tAverage Score: 47.53\tBest Score: 99.20Problem solved in 929 episodes, average score over past 100 episodes: 47.53\n",
      "Episode 929\tAverage Score: 47.53\tBest Score: 99.20Problem solved in 930 episodes, average score over past 100 episodes: 47.54\n",
      "Episode 930\tAverage Score: 47.54\tBest Score: 99.20Problem solved in 931 episodes, average score over past 100 episodes: 47.54\n",
      "Episode 931\tAverage Score: 47.54\tBest Score: 99.20Problem solved in 932 episodes, average score over past 100 episodes: 47.69\n",
      "Episode 932\tAverage Score: 47.69\tBest Score: 99.20Problem solved in 933 episodes, average score over past 100 episodes: 47.69\n",
      "Episode 933\tAverage Score: 47.69\tBest Score: 99.20Problem solved in 934 episodes, average score over past 100 episodes: 47.77\n",
      "Episode 934\tAverage Score: 47.77\tBest Score: 99.20Problem solved in 935 episodes, average score over past 100 episodes: 47.77\n",
      "Episode 935\tAverage Score: 47.77\tBest Score: 99.20Problem solved in 936 episodes, average score over past 100 episodes: 47.83\n",
      "Episode 936\tAverage Score: 47.83\tBest Score: 99.20Problem solved in 937 episodes, average score over past 100 episodes: 47.83\n",
      "Episode 937\tAverage Score: 47.83\tBest Score: 99.20Problem solved in 938 episodes, average score over past 100 episodes: 47.89\n",
      "Episode 938\tAverage Score: 47.89\tBest Score: 99.20Problem solved in 939 episodes, average score over past 100 episodes: 47.89\n",
      "Episode 939\tAverage Score: 47.89\tBest Score: 99.20Problem solved in 940 episodes, average score over past 100 episodes: 47.91\n",
      "Episode 940\tAverage Score: 47.91\tBest Score: 99.20Problem solved in 941 episodes, average score over past 100 episodes: 47.91\n",
      "Episode 941\tAverage Score: 47.91\tBest Score: 99.20Problem solved in 942 episodes, average score over past 100 episodes: 47.87\n",
      "Episode 942\tAverage Score: 47.87\tBest Score: 99.20Problem solved in 943 episodes, average score over past 100 episodes: 47.87\n",
      "Episode 943\tAverage Score: 47.87\tBest Score: 99.20Problem solved in 944 episodes, average score over past 100 episodes: 47.89\n",
      "Episode 944\tAverage Score: 47.89\tBest Score: 99.20Problem solved in 945 episodes, average score over past 100 episodes: 47.89\n",
      "Episode 945\tAverage Score: 47.89\tBest Score: 99.20Problem solved in 946 episodes, average score over past 100 episodes: 47.88\n",
      "Episode 946\tAverage Score: 47.88\tBest Score: 99.20Problem solved in 947 episodes, average score over past 100 episodes: 47.88\n",
      "Episode 947\tAverage Score: 47.88\tBest Score: 99.20Problem solved in 948 episodes, average score over past 100 episodes: 47.97\n",
      "Episode 948\tAverage Score: 47.97\tBest Score: 99.20Problem solved in 949 episodes, average score over past 100 episodes: 47.97\n",
      "Episode 949\tAverage Score: 47.97\tBest Score: 99.20"
     ]
    },
    {
     "name": "stderr",
     "output_type": "stream",
     "text": [
      "training loop:  95% |########################################   | ETA:  0:10:37\r"
     ]
    },
    {
     "name": "stdout",
     "output_type": "stream",
     "text": [
      "Problem solved in 950 episodes, average score over past 100 episodes: 47.97\n",
      "Episode 950\tAverage Score: 47.97\tEpisode Score: 92.40\tBest Score: 99.20\n",
      "Problem solved in 951 episodes, average score over past 100 episodes: 47.97\n",
      "Episode 951\tAverage Score: 47.97\tBest Score: 99.20Problem solved in 952 episodes, average score over past 100 episodes: 47.93\n",
      "Episode 952\tAverage Score: 47.93\tBest Score: 99.20Problem solved in 953 episodes, average score over past 100 episodes: 47.93\n",
      "Episode 953\tAverage Score: 47.93\tBest Score: 99.20Problem solved in 954 episodes, average score over past 100 episodes: 47.95\n",
      "Episode 954\tAverage Score: 47.95\tBest Score: 99.20Problem solved in 955 episodes, average score over past 100 episodes: 47.95\n",
      "Episode 955\tAverage Score: 47.95\tBest Score: 99.20Problem solved in 956 episodes, average score over past 100 episodes: 47.95\n",
      "Episode 956\tAverage Score: 47.95\tBest Score: 99.20Problem solved in 957 episodes, average score over past 100 episodes: 47.95\n",
      "Episode 957\tAverage Score: 47.95\tBest Score: 99.20Problem solved in 958 episodes, average score over past 100 episodes: 47.97\n",
      "Episode 958\tAverage Score: 47.97\tBest Score: 99.20Problem solved in 959 episodes, average score over past 100 episodes: 47.97\n",
      "Episode 959\tAverage Score: 47.97\tBest Score: 99.20Problem solved in 960 episodes, average score over past 100 episodes: 47.99\n",
      "Episode 960\tAverage Score: 47.99\tBest Score: 99.20Problem solved in 961 episodes, average score over past 100 episodes: 47.99\n",
      "Episode 961\tAverage Score: 47.99\tBest Score: 99.20Problem solved in 962 episodes, average score over past 100 episodes: 47.95\n",
      "Episode 962\tAverage Score: 47.95\tBest Score: 99.20Problem solved in 963 episodes, average score over past 100 episodes: 47.95\n",
      "Episode 963\tAverage Score: 47.95\tBest Score: 99.20Problem solved in 964 episodes, average score over past 100 episodes: 48.00\n",
      "Episode 964\tAverage Score: 48.00\tBest Score: 99.20Problem solved in 965 episodes, average score over past 100 episodes: 48.00\n",
      "Episode 965\tAverage Score: 48.00\tBest Score: 99.20Problem solved in 966 episodes, average score over past 100 episodes: 48.05\n",
      "Episode 966\tAverage Score: 48.05\tBest Score: 99.20Problem solved in 967 episodes, average score over past 100 episodes: 48.05\n",
      "Episode 967\tAverage Score: 48.05\tBest Score: 99.20Problem solved in 968 episodes, average score over past 100 episodes: 47.87\n",
      "Episode 968\tAverage Score: 47.87\tBest Score: 99.20Problem solved in 969 episodes, average score over past 100 episodes: 47.87\n",
      "Episode 969\tAverage Score: 47.87\tBest Score: 99.20Problem solved in 970 episodes, average score over past 100 episodes: 47.90\n",
      "Episode 970\tAverage Score: 47.90\tBest Score: 99.20Problem solved in 971 episodes, average score over past 100 episodes: 47.90\n",
      "Episode 971\tAverage Score: 47.90\tBest Score: 99.20Problem solved in 972 episodes, average score over past 100 episodes: 47.91\n",
      "Episode 972\tAverage Score: 47.91\tBest Score: 99.20Problem solved in 973 episodes, average score over past 100 episodes: 47.91\n",
      "Episode 973\tAverage Score: 47.91\tBest Score: 99.20"
     ]
    },
    {
     "name": "stderr",
     "output_type": "stream",
     "text": [
      "training loop:  97% |#########################################  | ETA:  0:05:13\r"
     ]
    },
    {
     "name": "stdout",
     "output_type": "stream",
     "text": [
      "Problem solved in 974 episodes, average score over past 100 episodes: 47.95\n",
      "Episode 974\tAverage Score: 47.95\tBest Score: 99.20Problem solved in 975 episodes, average score over past 100 episodes: 47.95\n",
      "Episode 975\tAverage Score: 47.95\tEpisode Score: 0.10\tBest Score: 99.20\n",
      "Problem solved in 976 episodes, average score over past 100 episodes: 47.94\n",
      "Episode 976\tAverage Score: 47.94\tBest Score: 99.20Problem solved in 977 episodes, average score over past 100 episodes: 47.94\n",
      "Episode 977\tAverage Score: 47.94\tBest Score: 99.20Problem solved in 978 episodes, average score over past 100 episodes: 47.95\n",
      "Episode 978\tAverage Score: 47.95\tBest Score: 99.20Problem solved in 979 episodes, average score over past 100 episodes: 47.95\n",
      "Episode 979\tAverage Score: 47.95\tBest Score: 99.20Problem solved in 980 episodes, average score over past 100 episodes: 47.95\n",
      "Episode 980\tAverage Score: 47.95\tBest Score: 99.20Problem solved in 981 episodes, average score over past 100 episodes: 47.95\n",
      "Episode 981\tAverage Score: 47.95\tBest Score: 99.20Problem solved in 982 episodes, average score over past 100 episodes: 47.95\n",
      "Episode 982\tAverage Score: 47.95\tBest Score: 99.20Problem solved in 983 episodes, average score over past 100 episodes: 47.95\n",
      "Episode 983\tAverage Score: 47.95\tBest Score: 99.20Problem solved in 984 episodes, average score over past 100 episodes: 47.94\n",
      "Episode 984\tAverage Score: 47.94\tBest Score: 99.20Problem solved in 985 episodes, average score over past 100 episodes: 47.94\n",
      "Episode 985\tAverage Score: 47.94\tBest Score: 99.20Problem solved in 986 episodes, average score over past 100 episodes: 47.91\n",
      "Episode 986\tAverage Score: 47.91\tBest Score: 99.20Problem solved in 987 episodes, average score over past 100 episodes: 47.91\n",
      "Episode 987\tAverage Score: 47.91\tBest Score: 99.20Problem solved in 988 episodes, average score over past 100 episodes: 48.11\n",
      "Episode 988\tAverage Score: 48.11\tBest Score: 99.20Problem solved in 989 episodes, average score over past 100 episodes: 48.11\n",
      "Episode 989\tAverage Score: 48.11\tBest Score: 99.20Problem solved in 990 episodes, average score over past 100 episodes: 48.10\n",
      "Episode 990\tAverage Score: 48.10\tBest Score: 99.20Problem solved in 991 episodes, average score over past 100 episodes: 48.10\n",
      "Episode 991\tAverage Score: 48.10\tBest Score: 99.20Problem solved in 992 episodes, average score over past 100 episodes: 47.88\n",
      "Episode 992\tAverage Score: 47.88\tBest Score: 99.20Problem solved in 993 episodes, average score over past 100 episodes: 47.88\n",
      "Episode 993\tAverage Score: 47.88\tBest Score: 99.20Problem solved in 994 episodes, average score over past 100 episodes: 47.86\n",
      "Episode 994\tAverage Score: 47.86\tBest Score: 99.20Problem solved in 995 episodes, average score over past 100 episodes: 47.86\n",
      "Episode 995\tAverage Score: 47.86\tBest Score: 99.20Problem solved in 996 episodes, average score over past 100 episodes: 47.83\n",
      "Episode 996\tAverage Score: 47.83\tBest Score: 99.20Problem solved in 997 episodes, average score over past 100 episodes: 47.83\n",
      "Episode 997\tAverage Score: 47.83\tBest Score: 99.20Problem solved in 998 episodes, average score over past 100 episodes: 47.87\n",
      "Episode 998\tAverage Score: 47.87\tBest Score: 99.20"
     ]
    },
    {
     "name": "stderr",
     "output_type": "stream",
     "text": [
      "training loop: 100% |###########################################| Time: 3:38:27\r"
     ]
    },
    {
     "name": "stdout",
     "output_type": "stream",
     "text": [
      "Problem solved in 999 episodes, average score over past 100 episodes: 47.87\n",
      "\r",
      "Episode 999\tAverage Score: 47.87\tBest Score: 99.20\r",
      "Episode 999\tAverage Score: 47.87\tEpisode Score: 0.1\tBest Score: 99.20\n",
      "update every 10 steps, critic LR = 0.0003, actor LR = 0.0001. Average score over last 50 episodes = 47.65\n"
     ]
    },
    {
     "name": "stderr",
     "output_type": "stream",
     "text": [
      "\n"
     ]
    }
   ],
   "source": [
    "max_episodes = 1000\n",
    "\n",
    "# widget bar to display progress\n",
    "import progressbar as pb\n",
    "widget = ['training loop: ', pb.Percentage(), ' ', \n",
    "          pb.Bar(), ' ', pb.ETA() ]\n",
    "timer = pb.ProgressBar(widgets=widget, maxval=max_episodes).start()\n",
    "\n",
    "# extension name of the checkpoint\n",
    "trial = \"_Model_actor128-128_critic256-256_f10_cLR3e-4_aLR1e-4_GAE-0.0\"\n",
    "\n",
    "s = ddpg_train(max_episodes = max_episodes, max_time_steps = 1000, trial = trial, timer_widget = timer)\n",
    "         \n",
    "#print average over last 50 episodes\n",
    "print(\"update every {} steps, critic LR = {}, actor LR = {}. Average score over last 50 episodes = {:.2f}\".format(f, lr, lra, np.mean(s[-50:])))\n",
    "                \n",
    "timer.finish()"
   ]
  },
  {
   "cell_type": "code",
   "execution_count": 22,
   "metadata": {},
   "outputs": [],
   "source": [
    "timer.finish()"
   ]
  },
  {
   "cell_type": "markdown",
   "metadata": {},
   "source": [
    "### 5. Test a trained agent\n",
    "In the next code cell, the weights of a trained agent are loaded and then the agent is used in the environment. The score reached should be most of the times significantly above +30."
   ]
  },
  {
   "cell_type": "code",
   "execution_count": 35,
   "metadata": {},
   "outputs": [
    {
     "name": "stdout",
     "output_type": "stream",
     "text": [
      "Total score (averaged over agents) this episode: 39.449999118223786\n"
     ]
    }
   ],
   "source": [
    "trial = \"_Model_actor128-128_critic256-256_f10_cLR3e-4_aLR1e-4_GAE-0.0\"\n",
    "\n",
    "agent.actor_local.load_state_dict(torch.load('checkpoint_actor{}.pth'.format(trial)))\n",
    "agent.actor_target.load_state_dict(torch.load('checkpoint_actor{}.pth'.format(trial)))\n",
    "agent.critic_local.load_state_dict(torch.load('checkpoint_critic{}.pth'.format(trial)))\n",
    "agent.critic_target.load_state_dict(torch.load('checkpoint_critic{}.pth'.format(trial)))\n",
    "\n",
    "env_info = env.reset(train_mode=False)[brain_name]     # reset the environment    \n",
    "states = env_info.vector_observations                  # get the current state (for each agent)\n",
    "scores = np.zeros(num_agents)                          # initialize the score (for each agent)\n",
    "\n",
    "while True:\n",
    "    actions = agent.act(states, add_noise = False)     # select an action (for each agent)\n",
    "    env_info = env.step(actions)[brain_name]           # send all actions to tne environment\n",
    "    next_states = env_info.vector_observations         # get next state (for each agent)\n",
    "    rewards = env_info.rewards                         # get reward (for each agent)\n",
    "    dones = env_info.local_done                        # see if episode finished\n",
    "    scores += env_info.rewards                         # update the score (for each agent)\n",
    "    states = next_states                               # roll over states to next time step\n",
    "    if np.any(dones):                                  # exit loop if episode finished\n",
    "        break\n",
    "print('Total score (averaged over agents) this episode: {}'.format(np.mean(scores)))"
   ]
  },
  {
   "cell_type": "code",
   "execution_count": 44,
   "metadata": {},
   "outputs": [],
   "source": [
    "env.close()"
   ]
  },
  {
   "cell_type": "markdown",
   "metadata": {},
   "source": [
    "### 6. Display training plot\n",
    "In the next code cell, the graph of the score reached by the agent during its training and the 100-episodes moving average is shown. This 100-episode moving average is the value against which the environment is considered solved or not."
   ]
  },
  {
   "cell_type": "code",
   "execution_count": 33,
   "metadata": {},
   "outputs": [
    {
     "data": {
      "image/png": "[encoded data removed]",
      "text/plain": [
       "<Figure size 432x288 with 1 Axes>"
      ]
     },
     "metadata": {
      "needs_background": "light"
     },
     "output_type": "display_data"
    }
   ],
   "source": [
    "# compute rolling average\n",
    "rolling_mean = np.copy(s)\n",
    "ma = 100\n",
    "\n",
    "for i in range(len(rolling_mean)):\n",
    "    rolling_mean[i] = (float)(np.mean(s[max(0,i-ma):i+1]))\n",
    "    \n",
    "\n",
    "# display graph\n",
    "fig = plt.figure()\n",
    "ax = fig.add_subplot(111)\n",
    "plt.plot(np.arange(1, len(s)+1), s)\n",
    "plt.plot(np.arange(1, len(s)+1), rolling_mean, label='100 episodes moving average', color='orange')\n",
    "plt.ylabel('Score')\n",
    "plt.xlabel('Episode #')\n",
    "plt.show()"
   ]
  }
 ],
 "metadata": {
  "kernelspec": {
   "display_name": "drlnd",
   "language": "python",
   "name": "drlnd"
  },
  "language_info": {
   "codemirror_mode": {
    "name": "ipython",
    "version": 3
   },
   "file_extension": ".py",
   "mimetype": "text/x-python",
   "name": "python",
   "nbconvert_exporter": "python",
   "pygments_lexer": "ipython3",
   "version": "3.6.7"
  }
 },
 "nbformat": 4,
 "nbformat_minor": 2
}
