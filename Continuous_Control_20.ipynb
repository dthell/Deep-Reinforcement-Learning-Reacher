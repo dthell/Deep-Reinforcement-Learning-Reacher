{
 "cells": [
  {
   "cell_type": "markdown",
   "metadata": {},
   "source": [
    "# Continuous Control\n",
    "\n",
    "---\n",
    "\n",
    "In this notebook, we use the Unity ML-Agents environment for the second project of the [Deep Reinforcement Learning Nanodegree](https://www.udacity.com/course/deep-reinforcement-learning-nanodegree--nd893) program. This is the 20 agents version. For the single agent version please run Continuous_Control.ipynb file in the same folder.\n",
    "\n",
    "### 1. Start the Environment\n",
    "\n",
    "We begin by importing the necessary packages.  If the code cell below returns an error, please revisit the project instructions to double-check that you have installed [Unity ML-Agents](https://github.com/Unity-Technologies/ml-agents/blob/master/docs/Installation.md) and [NumPy](http://www.numpy.org/)."
   ]
  },
  {
   "cell_type": "code",
   "execution_count": 1,
   "metadata": {},
   "outputs": [],
   "source": [
    "from unityagents import UnityEnvironment\n",
    "import numpy as np\n",
    "from collections import deque\n",
    "import matplotlib.pyplot as plt\n",
    "%matplotlib inline\n",
    "import torch"
   ]
  },
  {
   "cell_type": "markdown",
   "metadata": {},
   "source": [
    "Next, we will start the environment!  **_Before running the code cell below_**, change the `file_name` parameter to match the location of the Unity environment that you downloaded.\n",
    "\n",
    "- **Mac**: `\"path/to/Reacher.app\"`\n",
    "- **Windows** (x86): `\"path/to/Reacher_Windows_x86/Reacher.exe\"`\n",
    "- **Windows** (x86_64): `\"path/to/Reacher_Windows_x86_64/Reacher.exe\"`\n",
    "- **Linux** (x86): `\"path/to/Reacher_Linux/Reacher.x86\"`\n",
    "- **Linux** (x86_64): `\"path/to/Reacher_Linux/Reacher.x86_64\"`\n",
    "- **Linux** (x86, headless): `\"path/to/Reacher_Linux_NoVis/Reacher.x86\"`\n",
    "- **Linux** (x86_64, headless): `\"path/to/Reacher_Linux_NoVis/Reacher.x86_64\"`\n",
    "\n",
    "For instance, if you are using a Mac, then you downloaded `Reacher.app`.  If this file is in the same folder as the notebook, then the line below should appear as follows:\n",
    "```\n",
    "env = UnityEnvironment(file_name=\"Reacher.app\")\n",
    "```"
   ]
  },
  {
   "cell_type": "code",
   "execution_count": 2,
   "metadata": {},
   "outputs": [
    {
     "name": "stderr",
     "output_type": "stream",
     "text": [
      "INFO:unityagents:\n",
      "'Academy' started successfully!\n",
      "Unity Academy name: Academy\n",
      "        Number of Brains: 1\n",
      "        Number of External Brains : 1\n",
      "        Lesson number : 0\n",
      "        Reset Parameters :\n",
      "\t\tgoal_speed -> 1.0\n",
      "\t\tgoal_size -> 5.0\n",
      "Unity brain name: ReacherBrain\n",
      "        Number of Visual Observations (per agent): 0\n",
      "        Vector Observation space type: continuous\n",
      "        Vector Observation space size (per agent): 33\n",
      "        Number of stacked Vector Observation: 1\n",
      "        Vector Action space type: continuous\n",
      "        Vector Action space size (per agent): 4\n",
      "        Vector Action descriptions: , , , \n"
     ]
    }
   ],
   "source": [
    "env = UnityEnvironment(file_name='./Reacher_Windows_x86_64_20_agents/Reacher.exe')"
   ]
  },
  {
   "cell_type": "markdown",
   "metadata": {},
   "source": [
    "Environments contain **_brains_** which are responsible for deciding the actions of their associated agents. Here we check for the first brain available, and set it as the default brain we will be controlling from Python."
   ]
  },
  {
   "cell_type": "code",
   "execution_count": 3,
   "metadata": {},
   "outputs": [],
   "source": [
    "# get the default brain\n",
    "brain_name = env.brain_names[0]\n",
    "brain = env.brains[brain_name]"
   ]
  },
  {
   "cell_type": "markdown",
   "metadata": {},
   "source": [
    "### 2. Examine the State and Action Spaces\n",
    "\n",
    "In this environment, a double-jointed arm can move to target locations. A reward of `+0.1` is provided for each step that the agent's hand is in the goal location. Thus, the goal of your agent is to maintain its position at the target location for as many time steps as possible.\n",
    "\n",
    "The observation space consists of `33` variables corresponding to position, rotation, velocity, and angular velocities of the arm.  Each action is a vector with four numbers, corresponding to torque applicable to two joints.  Every entry in the action vector must be a number between `-1` and `1`.\n",
    "\n",
    "Run the code cell below to print some information about the environment."
   ]
  },
  {
   "cell_type": "code",
   "execution_count": 4,
   "metadata": {},
   "outputs": [
    {
     "name": "stdout",
     "output_type": "stream",
     "text": [
      "Number of agents: 20\n",
      "Size of each action: 4\n",
      "There are 20 agents. Each observes a state with length: 33\n",
      "The state for the first agent looks like: [ 0.00000000e+00 -4.00000000e+00  0.00000000e+00  1.00000000e+00\n",
      " -0.00000000e+00 -0.00000000e+00 -4.37113883e-08  0.00000000e+00\n",
      "  0.00000000e+00  0.00000000e+00  0.00000000e+00  0.00000000e+00\n",
      "  0.00000000e+00  0.00000000e+00 -1.00000000e+01  0.00000000e+00\n",
      "  1.00000000e+00 -0.00000000e+00 -0.00000000e+00 -4.37113883e-08\n",
      "  0.00000000e+00  0.00000000e+00  0.00000000e+00  0.00000000e+00\n",
      "  0.00000000e+00  0.00000000e+00  5.75471878e+00 -1.00000000e+00\n",
      "  5.55726624e+00  0.00000000e+00  1.00000000e+00  0.00000000e+00\n",
      " -1.68164849e-01]\n"
     ]
    }
   ],
   "source": [
    "# reset the environment\n",
    "env_info = env.reset(train_mode=True)[brain_name]\n",
    "\n",
    "# number of agents\n",
    "num_agents = len(env_info.agents)\n",
    "print('Number of agents:', num_agents)\n",
    "\n",
    "# size of each action\n",
    "action_size = brain.vector_action_space_size\n",
    "print('Size of each action:', action_size)\n",
    "\n",
    "# examine the state space \n",
    "states = env_info.vector_observations\n",
    "state_size = states.shape[1]\n",
    "print('There are {} agents. Each observes a state with length: {}'.format(states.shape[0], state_size))\n",
    "print('The state for the first agent looks like:', states[0])"
   ]
  },
  {
   "cell_type": "markdown",
   "metadata": {},
   "source": [
    "### 3. Take Random Actions in the Environment\n",
    "\n",
    "In the next code cell, you will learn how to use the Python API to control the agent and receive feedback from the environment.\n",
    "\n",
    "Once this cell is executed, you will watch the agent's performance, if it selects an action at random with each time step.  A window should pop up that allows you to observe the agent, as it moves through the environment.  \n",
    "\n",
    "Of course, as part of the project, you'll have to change the code so that the agent is able to use its experience to gradually choose better actions when interacting with the environment!"
   ]
  },
  {
   "cell_type": "code",
   "execution_count": 5,
   "metadata": {},
   "outputs": [
    {
     "name": "stdout",
     "output_type": "stream",
     "text": [
      "Total score (averaged over agents) this episode: 0.0\n"
     ]
    }
   ],
   "source": [
    "env_info = env.reset(train_mode=False)[brain_name]     # reset the environment    \n",
    "states = env_info.vector_observations                  # get the current state (for each agent)\n",
    "scores = np.zeros(num_agents)                          # initialize the score (for each agent)\n",
    "i = 0\n",
    "while i<200:\n",
    "    actions = np.random.randn(num_agents, action_size) # select an action (for each agent)\n",
    "    actions = np.clip(actions, -1, 1)                  # all actions between -1 and 1\n",
    "    env_info = env.step(actions)[brain_name]           # send all actions to tne environment\n",
    "    next_states = env_info.vector_observations         # get next state (for each agent)\n",
    "    rewards = env_info.rewards                         # get reward (for each agent)\n",
    "    dones = env_info.local_done                        # see if episode finished\n",
    "    scores += env_info.rewards                         # update the score (for each agent)\n",
    "    states = next_states                               # roll over states to next time step\n",
    "    i += 1\n",
    "    if np.any(dones):                                  # exit loop if episode finished\n",
    "        break\n",
    "print('Total score (averaged over agents) this episode: {}'.format(np.mean(scores)))"
   ]
  },
  {
   "cell_type": "markdown",
   "metadata": {},
   "source": [
    "When finished, you can close the environment."
   ]
  },
  {
   "cell_type": "code",
   "execution_count": null,
   "metadata": {},
   "outputs": [],
   "source": []
  },
  {
   "cell_type": "markdown",
   "metadata": {},
   "source": [
    "### 4. Training the agent\n",
    "\n",
    "Now it's time to train the agent to solve the environment!  When training the environment, it is set to `train_mode=True`, so that the line for resetting the environment looks like the following:\n",
    "```python\n",
    "env_info = env.reset(train_mode=True)[brain_name]\n",
    "```"
   ]
  },
  {
   "cell_type": "code",
   "execution_count": 6,
   "metadata": {
    "scrolled": true
   },
   "outputs": [
    {
     "name": "stdout",
     "output_type": "stream",
     "text": [
      "Actor v2\n",
      "Actor v2\n",
      "cuda:0\n"
     ]
    }
   ],
   "source": [
    "from agent_v20_agents import Agent_DDPG\n",
    "import random\n",
    "\n",
    "# parameters for the agent\n",
    "f = 3\n",
    "lr = 3e-4\n",
    "lra = 1e-4\n",
    "\n",
    "agent = Agent_DDPG(state_size = states.shape[1], action_size = brain.vector_action_space_size, num_agents = num_agents, random_seed = 2, learning_frequency = f, lr_actor = lra, lr_critic = lr, weight_decay = 0)\n",
    "\n",
    "device = torch.device(\"cuda:0\" if torch.cuda.is_available() else \"cpu\")\n",
    "print(device)"
   ]
  },
  {
   "cell_type": "code",
   "execution_count": 10,
   "metadata": {},
   "outputs": [],
   "source": [
    "def ddpg_train(max_episodes = 100, max_time_steps = 100, trial = 0, timer_widget = None):\n",
    "    scores_deque = deque(maxlen=100)\n",
    "    scores = []\n",
    "    current_episode_score = 0\n",
    "    mean_score_deque = 0\n",
    "    max_score = -np.inf\n",
    "    reset_noise_t = 10000  # reset noise every N steps\n",
    "    env_info = env.reset(train_mode=True)[brain_name]     # reset the environment    \n",
    "    states = env_info.vector_observations                 # get the current state (for each agent)\n",
    "    steps = 0\n",
    "    flag_solved = False\n",
    "    print(\"Training start\")\n",
    "    for episode in range(max_episodes):\n",
    "        score = np.zeros(num_agents) \n",
    "        agent.reset()                            # reset OU noise at the start of the episode\n",
    "        \n",
    "        if steps % 2000 == 0:                # do hard update every 2000 gradient steps\n",
    "            agent.soft_update(agent.critic_local, agent.critic_target, 1.0)\n",
    "            agent.soft_update(agent.actor_local, agent.actor_target, 1.0)\n",
    "        \n",
    "        for t in range(max_time_steps):\n",
    "            \n",
    "            if t%reset_noise_t == 0:\n",
    "                agent.reset()\n",
    "            \n",
    "            actions = agent.act(states)                           # agent actions\n",
    "            env_info = env.step(actions)[brain_name]              # send actions to the environment\n",
    "            \n",
    "            # get environment feedback and reward\n",
    "            next_states = env_info.vector_observations         # get next state (for each agent)\n",
    "            rewards = env_info.rewards                         # get reward (for each agent)\n",
    "            rewards = [0.1 if rew > 0 else 0 for rew in rewards]\n",
    "            dones = env_info.local_done\n",
    "            \n",
    "            # store in replay buffer and learn if buffer large enough\n",
    "            agent.step(states, actions, rewards, next_states, dones)\n",
    "            \n",
    "            states = next_states\n",
    "            score += rewards\n",
    "            steps += 1\n",
    "            if np.any(dones):\n",
    "                break \n",
    "        scores_deque.append(score)\n",
    "        scores.append(score)\n",
    "\n",
    "        current_episode_score = np.mean(score)\n",
    "        mean_score_deque = np.mean(scores_deque)\n",
    "        \n",
    "        if current_episode_score > max_score:\n",
    "            max_score = current_episode_score\n",
    "        \n",
    "        # if the past 100 scores is above the 30.0 mark and this is the first time it is seen\n",
    "        if mean_score_deque > 30.0 and flag_solved == False and episode>98:\n",
    "            print('\\rProblem solved in {} episodes, average score over past 100 episodes: {:.2f}'.format(episode, mean_score_deque))\n",
    "            flag_solved = True\n",
    "\n",
    "        if episode >0 and episode % 10 == 0:\n",
    "            torch.save(agent.actor_local.state_dict(), 'checkpoint_actor{}.pth'.format(trial))\n",
    "            torch.save(agent.critic_local.state_dict(), 'checkpoint_critic{}.pth'.format(trial))\n",
    "            print('\\rEpisode {}\\tAverage Score: {:.2f}\\tEpisode Score: {:.2f}\\tBest Score: {:.2f}'.format(episode, mean_score_deque, current_episode_score, max_score))\n",
    "            # update progress widget bar if widget object provided\n",
    "            if timer_widget != None:\n",
    "                timer_widget.update(episode+1)\n",
    "        else:\n",
    "            print('\\rEpisode {}\\tAverage Score: {:.2f}\\tBest Score: {:.2f}'.format(episode, mean_score_deque, max_score), end=\"\")\n",
    "\n",
    "    torch.save(agent.actor_local.state_dict(), 'checkpoint_actor{}.pth'.format(trial))\n",
    "    torch.save(agent.critic_local.state_dict(), 'checkpoint_critic{}.pth'.format(trial))\n",
    "    print('\\rEpisode {}\\tAverage Score: {:.2f}\\tEpisode Score: {}\\tBest Score: {:.2f}'.format(episode, mean_score_deque, current_episode_score, max_score))\n",
    "    return scores"
   ]
  },
  {
   "cell_type": "code",
   "execution_count": null,
   "metadata": {
    "scrolled": true
   },
   "outputs": [
    {
     "name": "stderr",
     "output_type": "stream",
     "text": [
      "training loop:   0% |                                          | ETA:  --:--:--\r"
     ]
    },
    {
     "name": "stdout",
     "output_type": "stream",
     "text": [
      "Training start\n",
      "Episode 9\tAverage Score: 1.52\tBest Score: 4.02"
     ]
    },
    {
     "name": "stderr",
     "output_type": "stream",
     "text": [
      "training loop:   1% |                                          | ETA:  12:15:05\r"
     ]
    },
    {
     "name": "stdout",
     "output_type": "stream",
     "text": [
      "Episode 10\tAverage Score: 1.75\tEpisode Score: 4.06\tBest Score: 4.06\n",
      "Episode 19\tAverage Score: 2.47\tBest Score: 10.46"
     ]
    },
    {
     "name": "stderr",
     "output_type": "stream",
     "text": [
      "training loop:   3% |#                                         | ETA:  11:53:42\r"
     ]
    },
    {
     "name": "stdout",
     "output_type": "stream",
     "text": [
      "Episode 20\tAverage Score: 2.84\tEpisode Score: 10.41\tBest Score: 10.46\n",
      "Episode 29\tAverage Score: 3.96\tBest Score: 15.56"
     ]
    },
    {
     "name": "stderr",
     "output_type": "stream",
     "text": [
      "training loop:   4% |##                                        | ETA:  11:58:06\r"
     ]
    },
    {
     "name": "stdout",
     "output_type": "stream",
     "text": [
      "Episode 30\tAverage Score: 4.48\tEpisode Score: 20.13\tBest Score: 20.13\n",
      "Episode 39\tAverage Score: 5.29\tBest Score: 21.55"
     ]
    },
    {
     "name": "stderr",
     "output_type": "stream",
     "text": [
      "training loop:   6% |##                                        | ETA:  12:09:44\r"
     ]
    },
    {
     "name": "stdout",
     "output_type": "stream",
     "text": [
      "Episode 40\tAverage Score: 5.58\tEpisode Score: 17.32\tBest Score: 21.55\n",
      "Episode 49\tAverage Score: 6.37\tBest Score: 24.31"
     ]
    },
    {
     "name": "stderr",
     "output_type": "stream",
     "text": [
      "training loop:   7% |###                                       | ETA:  12:22:08\r"
     ]
    },
    {
     "name": "stdout",
     "output_type": "stream",
     "text": [
      "Episode 50\tAverage Score: 6.69\tEpisode Score: 22.33\tBest Score: 24.31\n",
      "Episode 59\tAverage Score: 7.27\tBest Score: 28.56"
     ]
    },
    {
     "name": "stderr",
     "output_type": "stream",
     "text": [
      "training loop:   9% |###                                       | ETA:  12:34:41\r"
     ]
    },
    {
     "name": "stdout",
     "output_type": "stream",
     "text": [
      "Episode 60\tAverage Score: 7.62\tEpisode Score: 28.65\tBest Score: 28.65\n",
      "Episode 69\tAverage Score: 8.23\tBest Score: 30.07"
     ]
    },
    {
     "name": "stderr",
     "output_type": "stream",
     "text": [
      "training loop:  10% |####                                      | ETA:  12:47:17\r"
     ]
    },
    {
     "name": "stdout",
     "output_type": "stream",
     "text": [
      "Episode 70\tAverage Score: 8.41\tEpisode Score: 21.20\tBest Score: 30.07\n",
      "Episode 79\tAverage Score: 8.83\tBest Score: 30.07"
     ]
    },
    {
     "name": "stderr",
     "output_type": "stream",
     "text": [
      "training loop:  12% |#####                                     | ETA:  12:59:52\r"
     ]
    },
    {
     "name": "stdout",
     "output_type": "stream",
     "text": [
      "Episode 80\tAverage Score: 9.04\tEpisode Score: 25.55\tBest Score: 30.07\n",
      "Episode 89\tAverage Score: 9.32\tBest Score: 30.79"
     ]
    },
    {
     "name": "stderr",
     "output_type": "stream",
     "text": [
      "training loop:  14% |#####                                     | ETA:  13:12:06\r"
     ]
    },
    {
     "name": "stdout",
     "output_type": "stream",
     "text": [
      "Episode 90\tAverage Score: 9.56\tEpisode Score: 31.50\tBest Score: 31.50\n",
      "Episode 99\tAverage Score: 10.00\tBest Score: 34.96"
     ]
    },
    {
     "name": "stderr",
     "output_type": "stream",
     "text": [
      "training loop:  15% |######                                    | ETA:  13:24:32\r"
     ]
    },
    {
     "name": "stdout",
     "output_type": "stream",
     "text": [
      "Episode 100\tAverage Score: 10.27\tEpisode Score: 29.57\tBest Score: 34.96\n",
      "Episode 109\tAverage Score: 11.27\tBest Score: 34.96"
     ]
    },
    {
     "name": "stderr",
     "output_type": "stream",
     "text": [
      "training loop:  17% |#######                                   | ETA:  13:33:13\r"
     ]
    },
    {
     "name": "stdout",
     "output_type": "stream",
     "text": [
      "Episode 110\tAverage Score: 11.54\tEpisode Score: 30.75\tBest Score: 34.96\n",
      "Episode 119\tAverage Score: 12.66\tBest Score: 36.78"
     ]
    },
    {
     "name": "stderr",
     "output_type": "stream",
     "text": [
      "training loop:  18% |#######                                   | ETA:  13:37:16\r"
     ]
    },
    {
     "name": "stdout",
     "output_type": "stream",
     "text": [
      "Episode 120\tAverage Score: 12.87\tEpisode Score: 31.09\tBest Score: 36.78\n",
      "Episode 129\tAverage Score: 13.51\tBest Score: 36.78"
     ]
    },
    {
     "name": "stderr",
     "output_type": "stream",
     "text": [
      "training loop:  20% |########                                  | ETA:  13:37:37\r"
     ]
    },
    {
     "name": "stdout",
     "output_type": "stream",
     "text": [
      "Episode 130\tAverage Score: 13.65\tEpisode Score: 33.41\tBest Score: 36.78\n",
      "Episode 139\tAverage Score: 14.19\tBest Score: 36.78"
     ]
    },
    {
     "name": "stderr",
     "output_type": "stream",
     "text": [
      "training loop:  21% |#########                                 | ETA:  13:35:34\r"
     ]
    },
    {
     "name": "stdout",
     "output_type": "stream",
     "text": [
      "Episode 140\tAverage Score: 14.31\tEpisode Score: 29.38\tBest Score: 36.78\n",
      "Episode 149\tAverage Score: 14.65\tBest Score: 36.78"
     ]
    },
    {
     "name": "stderr",
     "output_type": "stream",
     "text": [
      "training loop:  23% |#########                                 | ETA:  13:30:47\r"
     ]
    },
    {
     "name": "stdout",
     "output_type": "stream",
     "text": [
      "Episode 150\tAverage Score: 14.72\tEpisode Score: 29.15\tBest Score: 36.78\n",
      "Episode 159\tAverage Score: 14.99\tBest Score: 36.78"
     ]
    },
    {
     "name": "stderr",
     "output_type": "stream",
     "text": [
      "training loop:  24% |##########                                | ETA:  13:24:07\r"
     ]
    },
    {
     "name": "stdout",
     "output_type": "stream",
     "text": [
      "Episode 160\tAverage Score: 14.98\tEpisode Score: 27.93\tBest Score: 36.78\n",
      "Episode 169\tAverage Score: 15.12\tBest Score: 36.78"
     ]
    },
    {
     "name": "stderr",
     "output_type": "stream",
     "text": [
      "training loop:  26% |###########                               | ETA:  13:16:04\r"
     ]
    },
    {
     "name": "stdout",
     "output_type": "stream",
     "text": [
      "Episode 170\tAverage Score: 15.18\tEpisode Score: 27.01\tBest Score: 36.78\n",
      "Episode 179\tAverage Score: 15.35\tBest Score: 37.97"
     ]
    },
    {
     "name": "stderr",
     "output_type": "stream",
     "text": [
      "training loop:  27% |###########                               | ETA:  13:06:42\r"
     ]
    },
    {
     "name": "stdout",
     "output_type": "stream",
     "text": [
      "Episode 180\tAverage Score: 15.33\tEpisode Score: 23.70\tBest Score: 37.97\n",
      "Episode 189\tAverage Score: 15.42\tBest Score: 37.97"
     ]
    },
    {
     "name": "stderr",
     "output_type": "stream",
     "text": [
      "training loop:  29% |############                              | ETA:  12:56:17\r"
     ]
    },
    {
     "name": "stdout",
     "output_type": "stream",
     "text": [
      "Episode 190\tAverage Score: 15.48\tEpisode Score: 37.25\tBest Score: 37.97\n",
      "Episode 199\tAverage Score: 15.53\tBest Score: 37.97"
     ]
    },
    {
     "name": "stderr",
     "output_type": "stream",
     "text": [
      "training loop:  30% |############                              | ETA:  12:45:05\r"
     ]
    },
    {
     "name": "stdout",
     "output_type": "stream",
     "text": [
      "Episode 200\tAverage Score: 15.57\tEpisode Score: 33.78\tBest Score: 37.97\n",
      "Episode 209\tAverage Score: 15.63\tBest Score: 37.97"
     ]
    },
    {
     "name": "stderr",
     "output_type": "stream",
     "text": [
      "training loop:  32% |#############                             | ETA:  12:33:06\r"
     ]
    },
    {
     "name": "stdout",
     "output_type": "stream",
     "text": [
      "Episode 210\tAverage Score: 15.65\tEpisode Score: 32.93\tBest Score: 37.97\n",
      "Episode 219\tAverage Score: 15.63\tBest Score: 37.97"
     ]
    },
    {
     "name": "stderr",
     "output_type": "stream",
     "text": [
      "training loop:  34% |##############                            | ETA:  12:20:27\r"
     ]
    },
    {
     "name": "stdout",
     "output_type": "stream",
     "text": [
      "Episode 220\tAverage Score: 15.55\tEpisode Score: 23.16\tBest Score: 37.97\n",
      "Episode 229\tAverage Score: 15.74\tBest Score: 39.61"
     ]
    },
    {
     "name": "stderr",
     "output_type": "stream",
     "text": [
      "training loop:  35% |##############                            | ETA:  12:07:14\r"
     ]
    },
    {
     "name": "stdout",
     "output_type": "stream",
     "text": [
      "Episode 230\tAverage Score: 15.78\tEpisode Score: 37.32\tBest Score: 39.61\n",
      "Episode 239\tAverage Score: 15.91\tBest Score: 39.61"
     ]
    },
    {
     "name": "stderr",
     "output_type": "stream",
     "text": [
      "training loop:  37% |###############                           | ETA:  11:53:25\r"
     ]
    },
    {
     "name": "stdout",
     "output_type": "stream",
     "text": [
      "Episode 240\tAverage Score: 15.95\tEpisode Score: 33.69\tBest Score: 39.61\n",
      "Episode 249\tAverage Score: 16.13\tBest Score: 41.83"
     ]
    },
    {
     "name": "stderr",
     "output_type": "stream",
     "text": [
      "training loop:  38% |################                          | ETA:  11:39:10\r"
     ]
    },
    {
     "name": "stdout",
     "output_type": "stream",
     "text": [
      "Episode 250\tAverage Score: 16.24\tEpisode Score: 40.16\tBest Score: 41.83\n",
      "Episode 259\tAverage Score: 16.50\tBest Score: 41.83"
     ]
    },
    {
     "name": "stderr",
     "output_type": "stream",
     "text": [
      "training loop:  40% |################                          | ETA:  11:24:49\r"
     ]
    },
    {
     "name": "stdout",
     "output_type": "stream",
     "text": [
      "Episode 260\tAverage Score: 16.59\tEpisode Score: 36.80\tBest Score: 41.83\n",
      "Episode 269\tAverage Score: 16.83\tBest Score: 46.15"
     ]
    },
    {
     "name": "stderr",
     "output_type": "stream",
     "text": [
      "training loop:  41% |#################                         | ETA:  11:09:45\r"
     ]
    },
    {
     "name": "stdout",
     "output_type": "stream",
     "text": [
      "Episode 270\tAverage Score: 16.95\tEpisode Score: 38.15\tBest Score: 46.15\n",
      "Episode 279\tAverage Score: 17.15\tBest Score: 46.15"
     ]
    },
    {
     "name": "stderr",
     "output_type": "stream",
     "text": [
      "training loop:  43% |##################                        | ETA:  10:54:21\r"
     ]
    },
    {
     "name": "stdout",
     "output_type": "stream",
     "text": [
      "Episode 280\tAverage Score: 17.26\tEpisode Score: 34.76\tBest Score: 46.15\n",
      "Episode 289\tAverage Score: 17.75\tBest Score: 46.15"
     ]
    },
    {
     "name": "stderr",
     "output_type": "stream",
     "text": [
      "training loop:  44% |##################                        | ETA:  10:38:45\r"
     ]
    },
    {
     "name": "stdout",
     "output_type": "stream",
     "text": [
      "Episode 290\tAverage Score: 17.79\tEpisode Score: 41.66\tBest Score: 46.15\n",
      "Episode 299\tAverage Score: 17.89\tBest Score: 46.15"
     ]
    },
    {
     "name": "stderr",
     "output_type": "stream",
     "text": [
      "training loop:  46% |###################                       | ETA:  10:22:45\r"
     ]
    },
    {
     "name": "stdout",
     "output_type": "stream",
     "text": [
      "Episode 300\tAverage Score: 17.73\tEpisode Score: 18.08\tBest Score: 46.15\n",
      "Episode 309\tAverage Score: 17.94\tBest Score: 46.15"
     ]
    },
    {
     "name": "stderr",
     "output_type": "stream",
     "text": [
      "training loop:  47% |####################                      | ETA:  10:07:03\r"
     ]
    },
    {
     "name": "stdout",
     "output_type": "stream",
     "text": [
      "Episode 310\tAverage Score: 18.10\tEpisode Score: 48.48\tBest Score: 48.48\n",
      "Episode 319\tAverage Score: 18.29\tBest Score: 56.05"
     ]
    },
    {
     "name": "stderr",
     "output_type": "stream",
     "text": [
      "training loop:  49% |#####################                      | ETA:  9:50:54\r"
     ]
    },
    {
     "name": "stdout",
     "output_type": "stream",
     "text": [
      "Episode 320\tAverage Score: 18.43\tEpisode Score: 37.39\tBest Score: 56.05\n",
      "Episode 329\tAverage Score: 18.54\tBest Score: 56.05"
     ]
    },
    {
     "name": "stderr",
     "output_type": "stream",
     "text": [
      "training loop:  50% |#####################                      | ETA:  9:34:32\r"
     ]
    },
    {
     "name": "stdout",
     "output_type": "stream",
     "text": [
      "Episode 330\tAverage Score: 18.57\tEpisode Score: 40.17\tBest Score: 56.05\n",
      "Episode 339\tAverage Score: 18.63\tBest Score: 56.05"
     ]
    },
    {
     "name": "stderr",
     "output_type": "stream",
     "text": [
      "training loop:  52% |######################                     | ETA:  9:17:33\r"
     ]
    },
    {
     "name": "stdout",
     "output_type": "stream",
     "text": [
      "Episode 340\tAverage Score: 18.69\tEpisode Score: 39.09\tBest Score: 56.05\n",
      "Episode 349\tAverage Score: 19.08\tBest Score: 56.05"
     ]
    },
    {
     "name": "stderr",
     "output_type": "stream",
     "text": [
      "training loop:  54% |#######################                    | ETA:  9:00:28\r"
     ]
    },
    {
     "name": "stdout",
     "output_type": "stream",
     "text": [
      "Episode 350\tAverage Score: 19.09\tEpisode Score: 41.79\tBest Score: 56.05\n",
      "Episode 359\tAverage Score: 19.44\tBest Score: 56.05"
     ]
    },
    {
     "name": "stderr",
     "output_type": "stream",
     "text": [
      "training loop:  55% |#######################                    | ETA:  8:43:04\r"
     ]
    },
    {
     "name": "stdout",
     "output_type": "stream",
     "text": [
      "Episode 360\tAverage Score: 19.52\tEpisode Score: 44.33\tBest Score: 56.05\n",
      "Episode 369\tAverage Score: 19.78\tBest Score: 56.05"
     ]
    },
    {
     "name": "stderr",
     "output_type": "stream",
     "text": [
      "training loop:  57% |########################                   | ETA:  8:25:45\r"
     ]
    },
    {
     "name": "stdout",
     "output_type": "stream",
     "text": [
      "Episode 370\tAverage Score: 19.86\tEpisode Score: 46.32\tBest Score: 56.05\n",
      "Episode 379\tAverage Score: 20.14\tBest Score: 56.05"
     ]
    },
    {
     "name": "stderr",
     "output_type": "stream",
     "text": [
      "training loop:  58% |#########################                  | ETA:  8:08:25\r"
     ]
    },
    {
     "name": "stdout",
     "output_type": "stream",
     "text": [
      "Episode 380\tAverage Score: 20.21\tEpisode Score: 41.69\tBest Score: 56.05\n",
      "Episode 389\tAverage Score: 20.24\tBest Score: 56.05"
     ]
    },
    {
     "name": "stderr",
     "output_type": "stream",
     "text": [
      "training loop:  60% |#########################                  | ETA:  7:50:52\r"
     ]
    },
    {
     "name": "stdout",
     "output_type": "stream",
     "text": [
      "Episode 390\tAverage Score: 20.31\tEpisode Score: 48.40\tBest Score: 56.05\n",
      "Episode 399\tAverage Score: 20.76\tBest Score: 56.05"
     ]
    },
    {
     "name": "stderr",
     "output_type": "stream",
     "text": [
      "training loop:  61% |##########################                 | ETA:  7:33:39\r"
     ]
    },
    {
     "name": "stdout",
     "output_type": "stream",
     "text": [
      "Episode 400\tAverage Score: 20.98\tEpisode Score: 40.69\tBest Score: 56.05\n",
      "Episode 409\tAverage Score: 21.46\tBest Score: 56.05"
     ]
    },
    {
     "name": "stderr",
     "output_type": "stream",
     "text": [
      "training loop:  63% |###########################                | ETA:  7:16:07\r"
     ]
    },
    {
     "name": "stdout",
     "output_type": "stream",
     "text": [
      "Episode 410\tAverage Score: 21.51\tEpisode Score: 53.78\tBest Score: 56.05\n",
      "Episode 419\tAverage Score: 21.63\tBest Score: 56.05"
     ]
    },
    {
     "name": "stderr",
     "output_type": "stream",
     "text": [
      "training loop:  64% |###########################                | ETA:  6:58:12\r"
     ]
    },
    {
     "name": "stdout",
     "output_type": "stream",
     "text": [
      "Episode 420\tAverage Score: 21.71\tEpisode Score: 44.84\tBest Score: 56.05\n",
      "Episode 429\tAverage Score: 22.14\tBest Score: 56.05"
     ]
    },
    {
     "name": "stderr",
     "output_type": "stream",
     "text": [
      "training loop:  66% |############################               | ETA:  6:40:15\r"
     ]
    },
    {
     "name": "stdout",
     "output_type": "stream",
     "text": [
      "Episode 430\tAverage Score: 22.20\tEpisode Score: 46.14\tBest Score: 56.05\n",
      "Episode 439\tAverage Score: 22.53\tBest Score: 56.05"
     ]
    },
    {
     "name": "stderr",
     "output_type": "stream",
     "text": [
      "training loop:  67% |#############################              | ETA:  6:22:15\r"
     ]
    },
    {
     "name": "stdout",
     "output_type": "stream",
     "text": [
      "Episode 440\tAverage Score: 22.52\tEpisode Score: 37.35\tBest Score: 56.05\n",
      "Episode 449\tAverage Score: 22.73\tBest Score: 56.05"
     ]
    },
    {
     "name": "stderr",
     "output_type": "stream",
     "text": [
      "training loop:  69% |#############################              | ETA:  6:04:12\r"
     ]
    },
    {
     "name": "stdout",
     "output_type": "stream",
     "text": [
      "Episode 450\tAverage Score: 22.76\tEpisode Score: 44.54\tBest Score: 56.05\n",
      "Episode 459\tAverage Score: 22.70\tBest Score: 57.11"
     ]
    },
    {
     "name": "stderr",
     "output_type": "stream",
     "text": [
      "training loop:  70% |##############################             | ETA:  5:46:07\r"
     ]
    },
    {
     "name": "stdout",
     "output_type": "stream",
     "text": [
      "Episode 460\tAverage Score: 22.86\tEpisode Score: 60.04\tBest Score: 60.04\n",
      "Episode 469\tAverage Score: 23.04\tBest Score: 60.04"
     ]
    },
    {
     "name": "stderr",
     "output_type": "stream",
     "text": [
      "training loop:  72% |###############################            | ETA:  5:28:00\r"
     ]
    },
    {
     "name": "stdout",
     "output_type": "stream",
     "text": [
      "Episode 470\tAverage Score: 23.03\tEpisode Score: 44.63\tBest Score: 60.04\n",
      "Episode 479\tAverage Score: 23.27\tBest Score: 60.04"
     ]
    },
    {
     "name": "stderr",
     "output_type": "stream",
     "text": [
      "training loop:  74% |###############################            | ETA:  5:10:03\r"
     ]
    },
    {
     "name": "stdout",
     "output_type": "stream",
     "text": [
      "Episode 480\tAverage Score: 23.46\tEpisode Score: 60.08\tBest Score: 60.08\n",
      "Episode 489\tAverage Score: 23.91\tBest Score: 60.24"
     ]
    },
    {
     "name": "stderr",
     "output_type": "stream",
     "text": [
      "training loop:  75% |################################           | ETA:  4:53:04\r"
     ]
    },
    {
     "name": "stdout",
     "output_type": "stream",
     "text": [
      "Episode 490\tAverage Score: 23.98\tEpisode Score: 55.22\tBest Score: 60.24\n",
      "Episode 499\tAverage Score: 24.19\tBest Score: 60.24"
     ]
    },
    {
     "name": "stderr",
     "output_type": "stream",
     "text": [
      "training loop:  77% |#################################          | ETA:  4:34:48\r"
     ]
    },
    {
     "name": "stdout",
     "output_type": "stream",
     "text": [
      "Episode 500\tAverage Score: 24.39\tEpisode Score: 61.00\tBest Score: 61.00\n",
      "Episode 509\tAverage Score: 25.04\tBest Score: 65.88"
     ]
    },
    {
     "name": "stderr",
     "output_type": "stream",
     "text": [
      "training loop:  78% |#################################          | ETA:  4:16:31\r"
     ]
    },
    {
     "name": "stdout",
     "output_type": "stream",
     "text": [
      "Episode 510\tAverage Score: 25.15\tEpisode Score: 64.07\tBest Score: 65.88\n",
      "Episode 519\tAverage Score: 25.70\tBest Score: 65.88"
     ]
    },
    {
     "name": "stderr",
     "output_type": "stream",
     "text": [
      "training loop:  80% |##################################         | ETA:  3:58:35\r"
     ]
    },
    {
     "name": "stdout",
     "output_type": "stream",
     "text": [
      "Episode 520\tAverage Score: 25.81\tEpisode Score: 55.47\tBest Score: 65.88\n",
      "Episode 529\tAverage Score: 26.38\tBest Score: 70.33"
     ]
    },
    {
     "name": "stderr",
     "output_type": "stream",
     "text": [
      "training loop:  81% |###################################        | ETA:  3:40:33\r"
     ]
    },
    {
     "name": "stdout",
     "output_type": "stream",
     "text": [
      "Episode 530\tAverage Score: 26.55\tEpisode Score: 63.04\tBest Score: 70.33\n",
      "Episode 539\tAverage Score: 27.31\tBest Score: 70.33"
     ]
    },
    {
     "name": "stderr",
     "output_type": "stream",
     "text": [
      "training loop:  83% |###################################        | ETA:  3:22:08\r"
     ]
    },
    {
     "name": "stdout",
     "output_type": "stream",
     "text": [
      "Episode 540\tAverage Score: 27.60\tEpisode Score: 66.28\tBest Score: 70.33\n",
      "Episode 549\tAverage Score: 28.17\tBest Score: 70.33"
     ]
    },
    {
     "name": "stderr",
     "output_type": "stream",
     "text": [
      "training loop:  84% |####################################       | ETA:  3:03:41\r"
     ]
    },
    {
     "name": "stdout",
     "output_type": "stream",
     "text": [
      "Episode 550\tAverage Score: 28.43\tEpisode Score: 70.08\tBest Score: 70.33\n",
      "Episode 559\tAverage Score: 29.41\tBest Score: 73.02"
     ]
    },
    {
     "name": "stderr",
     "output_type": "stream",
     "text": [
      "training loop:  86% |#####################################      | ETA:  2:45:14\r"
     ]
    },
    {
     "name": "stdout",
     "output_type": "stream",
     "text": [
      "Episode 560\tAverage Score: 29.46\tEpisode Score: 65.30\tBest Score: 73.02\n",
      "Episode 569\tAverage Score: 29.87\tBest Score: 73.02"
     ]
    },
    {
     "name": "stderr",
     "output_type": "stream",
     "text": [
      "training loop:  87% |#####################################      | ETA:  2:26:46\r"
     ]
    },
    {
     "name": "stdout",
     "output_type": "stream",
     "text": [
      "Problem solved in 570 episodes, average score over past 100 episodes: 30.13\n",
      "Episode 570\tAverage Score: 30.13\tEpisode Score: 70.84\tBest Score: 73.02\n",
      "Episode 579\tAverage Score: 30.72\tBest Score: 73.02"
     ]
    },
    {
     "name": "stderr",
     "output_type": "stream",
     "text": [
      "training loop:  89% |######################################     | ETA:  2:08:18\r"
     ]
    },
    {
     "name": "stdout",
     "output_type": "stream",
     "text": [
      "Episode 580\tAverage Score: 30.80\tEpisode Score: 67.46\tBest Score: 73.02\n",
      "Episode 589\tAverage Score: 31.31\tBest Score: 73.02"
     ]
    },
    {
     "name": "stderr",
     "output_type": "stream",
     "text": [
      "training loop:  90% |#######################################    | ETA:  1:49:49\r"
     ]
    },
    {
     "name": "stdout",
     "output_type": "stream",
     "text": [
      "Episode 590\tAverage Score: 31.41\tEpisode Score: 64.59\tBest Score: 73.02\n",
      "Episode 599\tAverage Score: 31.95\tBest Score: 73.02"
     ]
    },
    {
     "name": "stderr",
     "output_type": "stream",
     "text": [
      "training loop:  92% |#######################################    | ETA:  1:31:14\r"
     ]
    },
    {
     "name": "stdout",
     "output_type": "stream",
     "text": [
      "Episode 600\tAverage Score: 32.07\tEpisode Score: 72.95\tBest Score: 73.02\n",
      "Episode 609\tAverage Score: 31.92\tBest Score: 73.02"
     ]
    },
    {
     "name": "stderr",
     "output_type": "stream",
     "text": [
      "training loop:  94% |########################################   | ETA:  1:13:04\r"
     ]
    },
    {
     "name": "stdout",
     "output_type": "stream",
     "text": [
      "Episode 610\tAverage Score: 31.99\tEpisode Score: 70.76\tBest Score: 73.02\n",
      "Episode 619\tAverage Score: 32.60\tBest Score: 77.90"
     ]
    },
    {
     "name": "stderr",
     "output_type": "stream",
     "text": [
      "training loop:  95% |#########################################  | ETA:  0:54:46\r"
     ]
    },
    {
     "name": "stdout",
     "output_type": "stream",
     "text": [
      "Episode 620\tAverage Score: 32.88\tEpisode Score: 82.82\tBest Score: 82.82\n",
      "Episode 629\tAverage Score: 32.71\tBest Score: 82.82"
     ]
    },
    {
     "name": "stderr",
     "output_type": "stream",
     "text": [
      "training loop:  97% |#########################################  | ETA:  0:36:23\r"
     ]
    },
    {
     "name": "stdout",
     "output_type": "stream",
     "text": [
      "Episode 630\tAverage Score: 32.89\tEpisode Score: 81.33\tBest Score: 82.82\n",
      "Episode 639\tAverage Score: 33.37\tBest Score: 82.82"
     ]
    },
    {
     "name": "stderr",
     "output_type": "stream",
     "text": [
      "training loop:  98% |########################################## | ETA:  0:17:52\r"
     ]
    },
    {
     "name": "stdout",
     "output_type": "stream",
     "text": [
      "Episode 640\tAverage Score: 33.47\tEpisode Score: 76.70\tBest Score: 82.82\n",
      "Episode 645\tAverage Score: 33.83\tBest Score: 83.12"
     ]
    }
   ],
   "source": [
    "max_episodes = 650\n",
    "\n",
    "# widget bar to display progress\n",
    "import progressbar as pb\n",
    "widget = ['training loop: ', pb.Percentage(), ' ', \n",
    "          pb.Bar(), ' ', pb.ETA() ]\n",
    "timer = pb.ProgressBar(widgets=widget, maxval=max_episodes).start()\n",
    "\n",
    "# extension name of the checkpoint\n",
    "trial = \"_20_agents_Model_actor128-128_critic256-256_f3_cLR3e-4_aLR1e-4_GAE-0.0_vector_v3\"\n",
    "\n",
    "s = ddpg_train(max_episodes = max_episodes, max_time_steps = 1000, trial = trial, timer_widget = timer)\n",
    "         \n",
    "#print average over last 50 episodes\n",
    "print(\"update every {} steps, critic LR = {}, actor LR = {}. Average score over last 50 episodes = {:.2f}\".format(f, lr, lra, np.mean(s[-50:])))\n",
    "                \n",
    "timer.finish()"
   ]
  },
  {
   "cell_type": "code",
   "execution_count": 39,
   "metadata": {},
   "outputs": [],
   "source": [
    "timer.finish()"
   ]
  },
  {
   "cell_type": "markdown",
   "metadata": {},
   "source": [
    "Now let's consider a possible transfer learning from the 1 agent version. The networks for the actor and critic networks having the same structure for the various layers, it may work almost out of the box for the 20 agents version agent.\n",
    "\n",
    "The following code imports the previously trained weights and launches the training routing to see how faster we can go in the traning starting with this already trained model."
   ]
  },
  {
   "cell_type": "code",
   "execution_count": 11,
   "metadata": {
    "scrolled": true
   },
   "outputs": [
    {
     "name": "stderr",
     "output_type": "stream",
     "text": [
      "training loop:   0% |                                          | ETA:  --:--:--\r"
     ]
    },
    {
     "name": "stdout",
     "output_type": "stream",
     "text": [
      "Training start\n"
     ]
    },
    {
     "name": "stderr",
     "output_type": "stream",
     "text": [
      "training loop:   0% |                                           | ETA:  5:18:07\r"
     ]
    },
    {
     "name": "stdout",
     "output_type": "stream",
     "text": [
      "Episode 0\tAverage Score: 55.58\tEpisode Score: 55.58\tBest Score: 55.58\n",
      "Episode 9\tAverage Score: 30.27\tBest Score: 64.00"
     ]
    },
    {
     "name": "stderr",
     "output_type": "stream",
     "text": [
      "training loop:   7% |###                                        | ETA:  2:43:20\r"
     ]
    },
    {
     "name": "stdout",
     "output_type": "stream",
     "text": [
      "Episode 10\tAverage Score: 33.27\tEpisode Score: 63.32\tBest Score: 64.00\n",
      "Episode 19\tAverage Score: 31.43\tBest Score: 68.55"
     ]
    },
    {
     "name": "stderr",
     "output_type": "stream",
     "text": [
      "training loop:  14% |######                                     | ETA:  2:29:14\r"
     ]
    },
    {
     "name": "stdout",
     "output_type": "stream",
     "text": [
      "Episode 20\tAverage Score: 33.60\tEpisode Score: 76.85\tBest Score: 76.85\n",
      "Episode 29\tAverage Score: 33.38\tBest Score: 77.08"
     ]
    },
    {
     "name": "stderr",
     "output_type": "stream",
     "text": [
      "training loop:  20% |########                                   | ETA:  2:20:37\r"
     ]
    },
    {
     "name": "stdout",
     "output_type": "stream",
     "text": [
      "Episode 30\tAverage Score: 34.70\tEpisode Score: 74.47\tBest Score: 77.08\n",
      "Episode 39\tAverage Score: 34.13\tBest Score: 77.08"
     ]
    },
    {
     "name": "stderr",
     "output_type": "stream",
     "text": [
      "training loop:  27% |###########                                | ETA:  2:12:42\r"
     ]
    },
    {
     "name": "stdout",
     "output_type": "stream",
     "text": [
      "Episode 40\tAverage Score: 35.18\tEpisode Score: 77.15\tBest Score: 77.15\n",
      "Episode 49\tAverage Score: 34.87\tBest Score: 77.23"
     ]
    },
    {
     "name": "stderr",
     "output_type": "stream",
     "text": [
      "training loop:  34% |##############                             | ETA:  2:04:22\r"
     ]
    },
    {
     "name": "stdout",
     "output_type": "stream",
     "text": [
      "Episode 50\tAverage Score: 35.55\tEpisode Score: 69.47\tBest Score: 77.23\n",
      "Episode 59\tAverage Score: 35.26\tBest Score: 78.71"
     ]
    },
    {
     "name": "stderr",
     "output_type": "stream",
     "text": [
      "training loop:  40% |#################                          | ETA:  1:55:33\r"
     ]
    },
    {
     "name": "stdout",
     "output_type": "stream",
     "text": [
      "Episode 60\tAverage Score: 35.96\tEpisode Score: 77.93\tBest Score: 78.71\n",
      "Episode 69\tAverage Score: 35.61\tBest Score: 78.71"
     ]
    },
    {
     "name": "stderr",
     "output_type": "stream",
     "text": [
      "training loop:  47% |####################                       | ETA:  1:46:16\r"
     ]
    },
    {
     "name": "stdout",
     "output_type": "stream",
     "text": [
      "Episode 70\tAverage Score: 36.21\tEpisode Score: 78.55\tBest Score: 78.71\n",
      "Episode 79\tAverage Score: 35.83\tBest Score: 78.71"
     ]
    },
    {
     "name": "stderr",
     "output_type": "stream",
     "text": [
      "training loop:  54% |#######################                    | ETA:  1:37:35\r"
     ]
    },
    {
     "name": "stdout",
     "output_type": "stream",
     "text": [
      "Episode 80\tAverage Score: 36.34\tEpisode Score: 76.92\tBest Score: 78.71\n",
      "Episode 89\tAverage Score: 35.94\tBest Score: 78.71"
     ]
    },
    {
     "name": "stderr",
     "output_type": "stream",
     "text": [
      "training loop:  60% |##########################                 | ETA:  1:26:01\r"
     ]
    },
    {
     "name": "stdout",
     "output_type": "stream",
     "text": [
      "Episode 90\tAverage Score: 36.35\tEpisode Score: 73.29\tBest Score: 78.71\n",
      "Episode 98\tAverage Score: 36.45\tBest Score: 78.71Problem solved in 99 episodes, average score over past 100 episodes: 36.09\n",
      "Episode 99\tAverage Score: 36.09\tBest Score: 78.71"
     ]
    },
    {
     "name": "stderr",
     "output_type": "stream",
     "text": [
      "training loop:  67% |############################               | ETA:  1:14:01\r"
     ]
    },
    {
     "name": "stdout",
     "output_type": "stream",
     "text": [
      "Episode 100\tAverage Score: 36.34\tEpisode Score: 80.98\tBest Score: 80.98\n",
      "Episode 109\tAverage Score: 37.08\tBest Score: 86.87"
     ]
    },
    {
     "name": "stderr",
     "output_type": "stream",
     "text": [
      "training loop:  74% |###############################            | ETA:  1:00:27\r"
     ]
    },
    {
     "name": "stdout",
     "output_type": "stream",
     "text": [
      "Episode 110\tAverage Score: 37.25\tEpisode Score: 80.97\tBest Score: 86.87\n",
      "Episode 119\tAverage Score: 37.68\tBest Score: 86.87"
     ]
    },
    {
     "name": "stderr",
     "output_type": "stream",
     "text": [
      "training loop:  80% |##################################         | ETA:  0:45:42\r"
     ]
    },
    {
     "name": "stdout",
     "output_type": "stream",
     "text": [
      "Episode 120\tAverage Score: 37.69\tEpisode Score: 77.94\tBest Score: 86.87\n",
      "Episode 129\tAverage Score: 37.85\tBest Score: 86.87"
     ]
    },
    {
     "name": "stderr",
     "output_type": "stream",
     "text": [
      "training loop:  87% |#####################################      | ETA:  0:30:23\r"
     ]
    },
    {
     "name": "stdout",
     "output_type": "stream",
     "text": [
      "Episode 130\tAverage Score: 37.96\tEpisode Score: 85.41\tBest Score: 86.87\n",
      "Episode 139\tAverage Score: 38.36\tBest Score: 86.87"
     ]
    },
    {
     "name": "stderr",
     "output_type": "stream",
     "text": [
      "training loop:  94% |########################################   | ETA:  0:14:36\r"
     ]
    },
    {
     "name": "stdout",
     "output_type": "stream",
     "text": [
      "Episode 140\tAverage Score: 38.34\tEpisode Score: 74.64\tBest Score: 86.87\n",
      "Episode 148\tAverage Score: 38.72\tBest Score: 87.72"
     ]
    },
    {
     "name": "stderr",
     "output_type": "stream",
     "text": [
      "training loop: 100% |###########################################| Time: 4:04:20\r"
     ]
    },
    {
     "name": "stdout",
     "output_type": "stream",
     "text": [
      "\r",
      "Episode 149\tAverage Score: 38.72\tBest Score: 87.72\r",
      "Episode 149\tAverage Score: 38.72\tEpisode Score: 0.09000000000000001\tBest Score: 87.72\n",
      "update every 3 steps, critic LR = 0.0003, actor LR = 0.0001. Average score over last 50 episodes = 40.12\n"
     ]
    },
    {
     "name": "stderr",
     "output_type": "stream",
     "text": [
      "\n"
     ]
    }
   ],
   "source": [
    "# extension name of the checkpoint from the single agent version\n",
    "trial = \"_Model_actor128-128_critic256-256_f10_cLR3e-4_aLR1e-4_GAE-0.0\"\n",
    "\n",
    "agent.actor_local.load_state_dict(torch.load('checkpoint_actor{}.pth'.format(trial)))\n",
    "agent.actor_target.load_state_dict(torch.load('checkpoint_actor{}.pth'.format(trial)))\n",
    "agent.critic_local.load_state_dict(torch.load('checkpoint_critic{}.pth'.format(trial)))\n",
    "agent.critic_target.load_state_dict(torch.load('checkpoint_critic{}.pth'.format(trial)))\n",
    "\n",
    "max_episodes = 150\n",
    "\n",
    "# widget bar to display progress\n",
    "import progressbar as pb\n",
    "widget = ['training loop: ', pb.Percentage(), ' ', \n",
    "          pb.Bar(), ' ', pb.ETA() ]\n",
    "timer = pb.ProgressBar(widgets=widget, maxval=max_episodes).start()\n",
    "\n",
    "# extension name of the checkpoint\n",
    "trial = \"_20_agents_Model_actor128-128_critic256-256_f3_cLR3e-4_aLR1e-4_GAE-0.0_v2\"\n",
    "\n",
    "s = ddpg_train(max_episodes = max_episodes, max_time_steps = 1000, trial = trial, timer_widget = timer)\n",
    "         \n",
    "#print average over last 50 episodes\n",
    "print(\"update every {} steps, critic LR = {}, actor LR = {}. Average score over last 50 episodes = {:.2f}\".format(f, lr, lra, np.mean(s[-50:])))\n",
    "                \n",
    "timer.finish()"
   ]
  },
  {
   "cell_type": "markdown",
   "metadata": {},
   "source": [
    "Last test is to try an on-policy algorithm such as the A2C. The following cell defines the training loop function and launches the training."
   ]
  },
  {
   "cell_type": "code",
   "execution_count": 5,
   "metadata": {},
   "outputs": [],
   "source": [
    "def a2c_train(max_episodes = 100, max_time_steps = 100, trial = 0, timer_widget = None):\n",
    "    scores_deque = deque(maxlen=100)\n",
    "    scores = []\n",
    "    current_episode_score = 0\n",
    "    mean_score_deque = 0\n",
    "    max_score = -np.inf\n",
    "    env_info = env.reset(train_mode=True)[brain_name]     # reset the environment    \n",
    "    states = env_info.vector_observations                 # get the current state (for each agent)\n",
    "    steps = 0\n",
    "    flag_solved = False\n",
    "    ep_before_stop_training = 50\n",
    "    ep_since_best_score = 0\n",
    "    best_avg_score = -np.inf\n",
    "    lr_drop = 0.9\n",
    "    print(\"Training start\")\n",
    "    for episode in range(max_episodes):\n",
    "            \n",
    "        env_inst = env.reset(train_mode=True)[brain_name]                       # reset the environment\n",
    "        score = np.zeros(num_agents) \n",
    "        dones = [False]*num_agents\n",
    "                \n",
    "        for t in range(max_time_steps):\n",
    "            \n",
    "            action, log_prob, value = agent_a2c.act(states, train_mode = True)        # agent actions\n",
    "            env_info = env.step(action.detach().cpu().numpy())[brain_name]            # send actions to the environment\n",
    "            \n",
    "            # get environment feedback and reward\n",
    "            next_states = env_info.vector_observations         # get next state (for each agent)\n",
    "            rewards = env_info.rewards                         # get reward (for each agent)\n",
    "            rewards = [0.1 if rew > 0 else 0 for rew in rewards]\n",
    "            dones = env_info.local_done\n",
    "              \n",
    "            # store in experience list\n",
    "            agent_a2c.step(action, log_prob, value, rewards, dones, next_states)\n",
    "            \n",
    "            if (t>0 or episode >0) and (t+1)%agent_a2c.learning_freq == 0:\n",
    "                agent_a2c.learn(agent_a2c.experiences, 0.95)\n",
    "                \n",
    "            states = next_states\n",
    "            score += rewards\n",
    "            steps += 1\n",
    "            if np.any(dones):\n",
    "                print(dones)\n",
    "                print(t)\n",
    "                break \n",
    "        scores_deque.append(score)\n",
    "        scores.append(score)\n",
    "\n",
    "        current_episode_score = np.mean(score)\n",
    "        mean_score_deque = np.mean(scores_deque)\n",
    "\n",
    "        agent_a2c.adapt_learning_rate(0.995)\n",
    "\n",
    "        if current_episode_score > max_score:\n",
    "            max_score = current_episode_score\n",
    "            torch.save(agent_a2c.actor_critic.state_dict(), 'checkpoint_actorcritic{}_Best.pth'.format(trial))\n",
    "            lr_drop = 0.9  #reset lr drop to initial value as learning is good\n",
    "        \n",
    "        if episode > 10 and mean_score_deque >= best_avg_score:\n",
    "            best_avg_score = mean_score_deque\n",
    "            ep_since_best_score = 0\n",
    "        else:\n",
    "            ep_since_best_score -= 1\n",
    "        \n",
    "        # if learning seems to be stalling or worsening\n",
    "        if episode > 100 and ep_since_best_score <= -10:\n",
    "            # restart from parameters that already reached high scores\n",
    "            if max_score > 10.0:\n",
    "                print('\\rReloading previous parameters')\n",
    "                agent_a2c.actor_critic.load_state_dict(torch.load('checkpoint_actorcritic{}_Best.pth'.format(trial)))\n",
    "            agent_a2c.adapt_learning_rate(lr_drop)\n",
    "            print('\\rEpisode {}. Decreasing learning rate to {}'.format(episode, agent_a2c.lr))\n",
    "            ep_since_best_score = 0\n",
    "            lr_drop *= 0.9\n",
    "        \n",
    "        # if the past 100 scores is above the 30.0 mark and this is the first time it is seen\n",
    "        #if mean_score_deque > 30.0 and flag_solved == False and episode>98:\n",
    "        #    print('\\rProblem solved in {} episodes, average score over past 100 episodes: {:.3f}'.format(episode, mean_score_deque))\n",
    "        #    flag_solved = True\n",
    "\n",
    "        if episode > 0 and episode % 25 == 0:\n",
    "            torch.save(agent_a2c.actor_critic.state_dict(), 'checkpoint_actorcritic{}.pth'.format(trial))\n",
    "            print('\\rEpisode {}\\tAverage Score: {:.3f}\\tEpisode Score: {:.3f}\\tBest Score: {:.3f}'.format(episode, mean_score_deque, current_episode_score, max_score))\n",
    "            # update progress widget bar if widget object provided\n",
    "            if timer_widget != None:\n",
    "                timer_widget.update(episode+1)\n",
    "        else:\n",
    "            print('\\rEpisode {}\\tAverage Score: {:.3f}\\tEpisode Score: {:.3f}\\tBest Score: {:.3f}'.format(episode, mean_score_deque,current_episode_score, max_score), end=\"\")\n",
    "        \n",
    "        if flag_solved == True:\n",
    "            ep_before_stop_training -= 1\n",
    "        \n",
    "        if ep_before_stop_training <= 0:\n",
    "            break\n",
    "\n",
    "    torch.save(agent_a2c.actor_critic.state_dict(), 'checkpoint_actorcritic{}.pth'.format(trial))\n",
    "    print('\\rEpisode {}\\tAverage Score: {:.3f}\\tBest Score: {:.3f}'.format(episode, mean_score_deque, max_score))\n",
    "    return scores\n",
    "\n"
   ]
  },
  {
   "cell_type": "code",
   "execution_count": 6,
   "metadata": {
    "scrolled": false
   },
   "outputs": [
    {
     "name": "stdout",
     "output_type": "stream",
     "text": [
      "ActorCritic\n"
     ]
    },
    {
     "name": "stderr",
     "output_type": "stream",
     "text": [
      "training loop:   0% |                                          | ETA:  --:--:--\r"
     ]
    },
    {
     "name": "stdout",
     "output_type": "stream",
     "text": [
      "Training start\n",
      "Episode 24\tAverage Score: 45.000\tEpisode Score: 42.325\tBest Score: 50.970"
     ]
    },
    {
     "name": "stderr",
     "output_type": "stream",
     "text": [
      "training loop:  13% |#####                                      | ETA:  0:28:34\r"
     ]
    },
    {
     "name": "stdout",
     "output_type": "stream",
     "text": [
      "Episode 25\tAverage Score: 45.084\tEpisode Score: 47.200\tBest Score: 50.970\n",
      "Episode 49\tAverage Score: 45.080\tEpisode Score: 45.685\tBest Score: 50.970"
     ]
    },
    {
     "name": "stderr",
     "output_type": "stream",
     "text": [
      "training loop:  25% |##########                                 | ETA:  0:24:23\r"
     ]
    },
    {
     "name": "stdout",
     "output_type": "stream",
     "text": [
      "Episode 50\tAverage Score: 45.107\tEpisode Score: 46.460\tBest Score: 50.970\n",
      "Episode 74\tAverage Score: 45.247\tEpisode Score: 46.595\tBest Score: 53.970"
     ]
    },
    {
     "name": "stderr",
     "output_type": "stream",
     "text": [
      "training loop:  38% |################                           | ETA:  0:20:20\r"
     ]
    },
    {
     "name": "stdout",
     "output_type": "stream",
     "text": [
      "Episode 75\tAverage Score: 45.248\tEpisode Score: 45.275\tBest Score: 53.970\n",
      "Episode 99\tAverage Score: 45.772\tEpisode Score: 46.175\tBest Score: 53.970"
     ]
    },
    {
     "name": "stderr",
     "output_type": "stream",
     "text": [
      "training loop:  50% |#####################                      | ETA:  0:16:14\r"
     ]
    },
    {
     "name": "stdout",
     "output_type": "stream",
     "text": [
      "Episode 100\tAverage Score: 45.762\tEpisode Score: 42.160\tBest Score: 53.970\n",
      "Reloading previous parameters\n",
      "Episode 101. Decreasing learning rate to 5.397550887480598e-06\n",
      "Episode 124\tAverage Score: 46.213\tEpisode Score: 51.000\tBest Score: 53.970"
     ]
    },
    {
     "name": "stderr",
     "output_type": "stream",
     "text": [
      "training loop:  63% |###########################                | ETA:  0:12:07\r"
     ]
    },
    {
     "name": "stdout",
     "output_type": "stream",
     "text": [
      "Episode 125\tAverage Score: 46.116\tEpisode Score: 37.460\tBest Score: 53.970\n",
      "Episode 149\tAverage Score: 46.744\tEpisode Score: 47.815\tBest Score: 53.970"
     ]
    },
    {
     "name": "stderr",
     "output_type": "stream",
     "text": [
      "training loop:  75% |################################           | ETA:  0:08:02\r"
     ]
    },
    {
     "name": "stdout",
     "output_type": "stream",
     "text": [
      "Episode 150\tAverage Score: 46.776\tEpisode Score: 49.585\tBest Score: 53.970\n",
      "Episode 174\tAverage Score: 47.587\tEpisode Score: 51.750\tBest Score: 55.030"
     ]
    },
    {
     "name": "stderr",
     "output_type": "stream",
     "text": [
      "training loop:  88% |#####################################      | ETA:  0:03:56\r"
     ]
    },
    {
     "name": "stdout",
     "output_type": "stream",
     "text": [
      "Episode 175\tAverage Score: 47.613\tEpisode Score: 47.880\tBest Score: 55.030\n",
      "Reloading previous parameters.861\tEpisode Score: 49.485\tBest Score: 55.030\n",
      "Episode 196. Decreasing learning rate to 3.0173933285852537e-06\n",
      "Episode 198\tAverage Score: 47.882\tEpisode Score: 52.085\tBest Score: 55.030"
     ]
    },
    {
     "name": "stderr",
     "output_type": "stream",
     "text": [
      "training loop: 100% |###########################################| Time: 0:32:52\r"
     ]
    },
    {
     "name": "stdout",
     "output_type": "stream",
     "text": [
      "\r",
      "Episode 199\tAverage Score: 47.935\tEpisode Score: 51.425\tBest Score: 55.030\r",
      "Episode 199\tAverage Score: 47.935\tBest Score: 55.030\n",
      "update every 5 steps, A2C LR = 1e-05. Average score over last 50 episodes = 48.84\n"
     ]
    },
    {
     "name": "stderr",
     "output_type": "stream",
     "text": [
      "\n"
     ]
    }
   ],
   "source": [
    "from agent_v20_agents import Agent_A2C\n",
    "import random\n",
    "\n",
    "device = torch.device(\"cuda:0\" if torch.cuda.is_available() else \"cpu\")\n",
    "# parameters for the agent\n",
    "f = 5\n",
    "lr = 1e-5\n",
    "\n",
    "# extension name of the checkpoint\n",
    "trial = \"_20_agents_A2C\"\n",
    "\n",
    "# instantiate A2C agent\n",
    "agent_a2c = Agent_A2C(state_size = states.shape[1], action_size = brain.vector_action_space_size, num_agents = num_agents, random_seed = 2, learning_frequency = f, lr = lr, weight_decay = 0)\n",
    "\n",
    "max_episodes = 200\n",
    "\n",
    "# widget bar to display progress\n",
    "import progressbar as pb\n",
    "widget = ['training loop: ', pb.Percentage(), ' ', \n",
    "          pb.Bar(), ' ', pb.ETA() ]\n",
    "timer = pb.ProgressBar(widgets=widget, maxval=max_episodes).start()\n",
    "\n",
    "s_a2c = a2c_train(max_episodes = max_episodes, max_time_steps = 1000, trial = trial, timer_widget = timer)\n",
    "         \n",
    "#print average over last 50 episodes\n",
    "print(\"update every {} steps, A2C LR = {}. Average score over last 50 episodes = {:.2f}\".format(f, lr, np.mean(s_a2c[-50:])))\n",
    "\n",
    "timer.finish()\n"
   ]
  },
  {
   "cell_type": "markdown",
   "metadata": {},
   "source": [
    "### 5. Test a trained agent\n",
    "In the next code cell, the weights of a trained agent are loaded and then the agent is used in the environment. The score reached should be most of the times significantly above +30."
   ]
  },
  {
   "cell_type": "code",
   "execution_count": 9,
   "metadata": {},
   "outputs": [
    {
     "name": "stdout",
     "output_type": "stream",
     "text": [
      "Total score (averaged over agents) this episode: 29.13099934887141\n"
     ]
    }
   ],
   "source": [
    "# uncomment next lines to load a DDPG agent and comment the A2C lines\n",
    "#agent = Agent_DDPG(state_size = states.shape[1], action_size = brain.vector_action_space_size, num_agents = num_agents, random_seed = 2, learning_frequency = 20, lr_actor = 1e-3, lr_critic = 1e-4, weight_decay = 0)\n",
    "#trial = \"_20_agents_Model_actor128-128_critic256-256_f3_cLR3e-4_aLR1e-4_GAE-0.0_vector_v3\"\n",
    "\n",
    "#agent.actor_local.load_state_dict(torch.load('checkpoint_actor{}.pth'.format(trial)))\n",
    "#agent.actor_target.load_state_dict(torch.load('checkpoint_actor{}.pth'.format(trial)))\n",
    "#agent.critic_local.load_state_dict(torch.load('checkpoint_critic{}.pth'.format(trial)))\n",
    "#agent.critic_target.load_state_dict(torch.load('checkpoint_critic{}.pth'.format(trial)))\n",
    "\n",
    "# uncomment next lines to load an A2C agent\n",
    "agent_a2c = Agent_A2C(state_size = states.shape[1], action_size = brain.vector_action_space_size, num_agents = num_agents, random_seed = 2, learning_frequency = f, lr = lr, weight_decay = 0)\n",
    "agent_a2c.actor_critic.load_state_dict(torch.load('checkpoint_actorcritic_20_agents_A2C_Best.pth'.format(trial)))\n",
    "\n",
    "\n",
    "# no change to the below lines whatever the agent used\n",
    "env_info = env.reset(train_mode=False)[brain_name]     # reset the environment    \n",
    "states = env_info.vector_observations                  # get the current state (for each agent)\n",
    "scores = np.zeros(num_agents)                          # initialize the score (for each agent)\n",
    "\n",
    "while True:\n",
    "    actions = agent.act(states, add_noise = False, train_mode = False)[0].cpu().numpy()     # select an action (for each agent)\n",
    "    env_info = env.step(actions)[brain_name]           # send all actions to tne environment\n",
    "    next_states = env_info.vector_observations         # get next state (for each agent)\n",
    "    rewards = env_info.rewards                         # get reward (for each agent)\n",
    "    dones = env_info.local_done                        # see if episode finished\n",
    "    scores += env_info.rewards                         # update the score (for each agent)\n",
    "    states = next_states                               # roll over states to next time step\n",
    "    if np.any(dones):                                  # exit loop if episode finished\n",
    "        break\n",
    "print('Total score (averaged over agents) this episode: {}'.format(np.mean(scores)))"
   ]
  },
  {
   "cell_type": "code",
   "execution_count": 44,
   "metadata": {},
   "outputs": [],
   "source": [
    "env.close()"
   ]
  },
  {
   "cell_type": "markdown",
   "metadata": {},
   "source": [
    "### 6. Display training plot\n",
    "In the next code cell, the graph of the score reached by the 20 agents on average during the training and the 100-episodes moving average is shown. This 100-episode moving average is the value against which the environment is considered solved or not."
   ]
  },
  {
   "cell_type": "code",
   "execution_count": 11,
   "metadata": {},
   "outputs": [
    {
     "data": {
      "image/png": "[encoded data removed]",
      "text/plain": [
       "<Figure size 432x288 with 1 Axes>"
      ]
     },
     "metadata": {
      "needs_background": "light"
     },
     "output_type": "display_data"
    }
   ],
   "source": [
    "# compute rolling average\n",
    "rolling_mean = np.copy(s_a2c)\n",
    "ma = 100\n",
    "\n",
    "for i in range(len(rolling_mean)):\n",
    "    rolling_mean[i] = (float)(np.mean(s_a2c[max(0,i-ma):i+1]))\n",
    "    \n",
    "\n",
    "# display graph\n",
    "fig = plt.figure()\n",
    "ax = fig.add_subplot(111)\n",
    "plt.plot(np.arange(1, len(s_a2c)+1), s_a2c)\n",
    "plt.plot(np.arange(1, len(s_a2c)+1), rolling_mean, label='100 episodes moving average', color='orange')\n",
    "plt.ylabel('Score')\n",
    "plt.xlabel('Episode #')\n",
    "plt.show()"
   ]
  },
  {
   "cell_type": "code",
   "execution_count": null,
   "metadata": {},
   "outputs": [],
   "source": []
  }
 ],
 "metadata": {
  "kernelspec": {
   "display_name": "drlnd",
   "language": "python",
   "name": "drlnd"
  },
  "language_info": {
   "codemirror_mode": {
    "name": "ipython",
    "version": 3
   },
   "file_extension": ".py",
   "mimetype": "text/x-python",
   "name": "python",
   "nbconvert_exporter": "python",
   "pygments_lexer": "ipython3",
   "version": "3.6.7"
  }
 },
 "nbformat": 4,
 "nbformat_minor": 2
}
